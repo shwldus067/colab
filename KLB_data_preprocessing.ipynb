{
  "nbformat": 4,
  "nbformat_minor": 0,
  "metadata": {
    "colab": {
      "name": "KLB_data_preprocessing.ipynb",
      "provenance": [],
      "collapsed_sections": [],
      "authorship_tag": "ABX9TyNieuxzbPFlPkU282QhyJ8r",
      "include_colab_link": true
    },
    "kernelspec": {
      "name": "python3",
      "display_name": "Python 3"
    },
    "language_info": {
      "name": "python"
    }
  },
  "cells": [
    {
      "cell_type": "markdown",
      "metadata": {
        "id": "view-in-github",
        "colab_type": "text"
      },
      "source": [
        "<a href=\"https://colab.research.google.com/github/shwldus067/colab/blob/main/KLB_data_preprocessing.ipynb\" target=\"_parent\"><img src=\"https://colab.research.google.com/assets/colab-badge.svg\" alt=\"Open In Colab\"/></a>"
      ]
    },
    {
      "cell_type": "code",
      "metadata": {
        "id": "lXI8jnuDuztW"
      },
      "source": [
        "import numpy as np\n",
        "import pandas as pd\n",
        "import tensorflow as tf\n",
        "import matplotlib.pyplot as plt"
      ],
      "execution_count": 1,
      "outputs": []
    },
    {
      "cell_type": "code",
      "metadata": {
        "id": "5DtwUuDMvFdM"
      },
      "source": [
        "from sklearn.model_selection import train_test_split\n",
        "%matplotlib inline"
      ],
      "execution_count": 2,
      "outputs": []
    },
    {
      "cell_type": "code",
      "metadata": {
        "colab": {
          "base_uri": "https://localhost:8080/"
        },
        "id": "_i6S5sLNvQsV",
        "outputId": "78383e60-4f31-43d9-fc27-98aa1a3be1f7"
      },
      "source": [
        "from google.colab import drive\n",
        "drive.mount(\"/content/drive\", force_remount=True)"
      ],
      "execution_count": 3,
      "outputs": [
        {
          "output_type": "stream",
          "name": "stdout",
          "text": [
            "Mounted at /content/drive\n"
          ]
        }
      ]
    },
    {
      "cell_type": "code",
      "metadata": {
        "id": "sBNxLVamvTk5"
      },
      "source": [
        "Data=pd.read_csv(\"/content/drive/MyDrive/산업수학1조/dataset.csv\")"
      ],
      "execution_count": 4,
      "outputs": []
    },
    {
      "cell_type": "markdown",
      "metadata": {
        "id": "cA-RZ31QAhWS"
      },
      "source": [
        "#데이터 확인\n",
        "\"Unnamed: 0\"의 컬럼 이름을 \"년도\"로 변경한다.  \n",
        "\"순위\" 데이터는 PTS로 정해진 값이므로 삭제한다.  \n",
        "\"년도\", \"선수명\", \"팀\" 컬럼은 Label Encoding으로 정수 값으로 인코딩한다.  \n"
      ]
    },
    {
      "cell_type": "code",
      "metadata": {
        "colab": {
          "base_uri": "https://localhost:8080/",
          "height": 204
        },
        "id": "dJX0n3zLvmWi",
        "outputId": "1e2cfe8d-2318-4d1f-d481-ac469afe9688"
      },
      "source": [
        "Data.head()"
      ],
      "execution_count": null,
      "outputs": [
        {
          "output_type": "execute_result",
          "data": {
            "text/html": [
              "<div>\n",
              "<style scoped>\n",
              "    .dataframe tbody tr th:only-of-type {\n",
              "        vertical-align: middle;\n",
              "    }\n",
              "\n",
              "    .dataframe tbody tr th {\n",
              "        vertical-align: top;\n",
              "    }\n",
              "\n",
              "    .dataframe thead th {\n",
              "        text-align: right;\n",
              "    }\n",
              "</style>\n",
              "<table border=\"1\" class=\"dataframe\">\n",
              "  <thead>\n",
              "    <tr style=\"text-align: right;\">\n",
              "      <th></th>\n",
              "      <th>Unnamed: 0</th>\n",
              "      <th>순위</th>\n",
              "      <th>선수명</th>\n",
              "      <th>팀</th>\n",
              "      <th>PTS</th>\n",
              "      <th>FG</th>\n",
              "      <th>FGA</th>\n",
              "      <th>FG%</th>\n",
              "      <th>FT</th>\n",
              "      <th>FTA</th>\n",
              "      <th>FT%</th>\n",
              "      <th>PP</th>\n",
              "      <th>PPA</th>\n",
              "      <th>PP%</th>\n",
              "      <th>OFF</th>\n",
              "      <th>DEF</th>\n",
              "      <th>TOT</th>\n",
              "      <th>AST</th>\n",
              "      <th>TO</th>\n",
              "      <th>STL</th>\n",
              "      <th>BS</th>\n",
              "      <th>PF</th>\n",
              "    </tr>\n",
              "  </thead>\n",
              "  <tbody>\n",
              "    <tr>\n",
              "      <th>0</th>\n",
              "      <td>2012-2013</td>\n",
              "      <td>1</td>\n",
              "      <td>제스퍼 존슨</td>\n",
              "      <td>부산KT</td>\n",
              "      <td>19.7</td>\n",
              "      <td>7.5</td>\n",
              "      <td>11.4</td>\n",
              "      <td>52.3</td>\n",
              "      <td>3.2</td>\n",
              "      <td>3.7</td>\n",
              "      <td>86.6</td>\n",
              "      <td>4.0</td>\n",
              "      <td>6.4</td>\n",
              "      <td>62.1</td>\n",
              "      <td>1.7</td>\n",
              "      <td>6.4</td>\n",
              "      <td>8.0</td>\n",
              "      <td>3.1</td>\n",
              "      <td>2.2</td>\n",
              "      <td>1.7</td>\n",
              "      <td>0.2</td>\n",
              "      <td>2.2</td>\n",
              "    </tr>\n",
              "    <tr>\n",
              "      <th>1</th>\n",
              "      <td>2012-2013</td>\n",
              "      <td>2</td>\n",
              "      <td>애런 헤인즈</td>\n",
              "      <td>서울SK</td>\n",
              "      <td>19.1</td>\n",
              "      <td>7.5</td>\n",
              "      <td>13.3</td>\n",
              "      <td>55.8</td>\n",
              "      <td>3.8</td>\n",
              "      <td>4.6</td>\n",
              "      <td>82.5</td>\n",
              "      <td>4.9</td>\n",
              "      <td>8.0</td>\n",
              "      <td>61.5</td>\n",
              "      <td>2.6</td>\n",
              "      <td>5.8</td>\n",
              "      <td>8.4</td>\n",
              "      <td>2.4</td>\n",
              "      <td>1.7</td>\n",
              "      <td>1.2</td>\n",
              "      <td>0.9</td>\n",
              "      <td>1.8</td>\n",
              "    </tr>\n",
              "    <tr>\n",
              "      <th>2</th>\n",
              "      <td>2012-2013</td>\n",
              "      <td>3</td>\n",
              "      <td>리온 윌리엄스</td>\n",
              "      <td>고양오리온스</td>\n",
              "      <td>18.5</td>\n",
              "      <td>7.1</td>\n",
              "      <td>11.4</td>\n",
              "      <td>61.7</td>\n",
              "      <td>4.4</td>\n",
              "      <td>5.3</td>\n",
              "      <td>83.1</td>\n",
              "      <td>6.1</td>\n",
              "      <td>9.5</td>\n",
              "      <td>63.7</td>\n",
              "      <td>4.0</td>\n",
              "      <td>7.4</td>\n",
              "      <td>11.4</td>\n",
              "      <td>1.6</td>\n",
              "      <td>2.6</td>\n",
              "      <td>1.6</td>\n",
              "      <td>0.7</td>\n",
              "      <td>2.9</td>\n",
              "    </tr>\n",
              "    <tr>\n",
              "      <th>3</th>\n",
              "      <td>2012-2013</td>\n",
              "      <td>4</td>\n",
              "      <td>리카르도 포웰</td>\n",
              "      <td>인천전자랜드</td>\n",
              "      <td>18.4</td>\n",
              "      <td>7.4</td>\n",
              "      <td>11.9</td>\n",
              "      <td>55.6</td>\n",
              "      <td>2.6</td>\n",
              "      <td>3.6</td>\n",
              "      <td>73.0</td>\n",
              "      <td>5.4</td>\n",
              "      <td>8.4</td>\n",
              "      <td>65.2</td>\n",
              "      <td>1.5</td>\n",
              "      <td>5.4</td>\n",
              "      <td>7.0</td>\n",
              "      <td>2.2</td>\n",
              "      <td>2.1</td>\n",
              "      <td>1.0</td>\n",
              "      <td>0.8</td>\n",
              "      <td>2.0</td>\n",
              "    </tr>\n",
              "    <tr>\n",
              "      <th>4</th>\n",
              "      <td>2012-2013</td>\n",
              "      <td>5</td>\n",
              "      <td>후안 파틸로</td>\n",
              "      <td>안양 KGC</td>\n",
              "      <td>18.3</td>\n",
              "      <td>7.6</td>\n",
              "      <td>13.3</td>\n",
              "      <td>57.3</td>\n",
              "      <td>3.0</td>\n",
              "      <td>4.7</td>\n",
              "      <td>65.1</td>\n",
              "      <td>5.4</td>\n",
              "      <td>8.0</td>\n",
              "      <td>66.7</td>\n",
              "      <td>2.0</td>\n",
              "      <td>5.6</td>\n",
              "      <td>7.6</td>\n",
              "      <td>1.2</td>\n",
              "      <td>2.3</td>\n",
              "      <td>1.2</td>\n",
              "      <td>0.8</td>\n",
              "      <td>1.9</td>\n",
              "    </tr>\n",
              "  </tbody>\n",
              "</table>\n",
              "</div>"
            ],
            "text/plain": [
              "  Unnamed: 0  순위      선수명       팀   PTS   FG  ...   TOT  AST   TO  STL   BS   PF\n",
              "0  2012-2013   1   제스퍼 존슨    부산KT  19.7  7.5  ...   8.0  3.1  2.2  1.7  0.2  2.2\n",
              "1  2012-2013   2   애런 헤인즈    서울SK  19.1  7.5  ...   8.4  2.4  1.7  1.2  0.9  1.8\n",
              "2  2012-2013   3  리온 윌리엄스  고양오리온스  18.5  7.1  ...  11.4  1.6  2.6  1.6  0.7  2.9\n",
              "3  2012-2013   4  리카르도 포웰  인천전자랜드  18.4  7.4  ...   7.0  2.2  2.1  1.0  0.8  2.0\n",
              "4  2012-2013   5   후안 파틸로  안양 KGC  18.3  7.6  ...   7.6  1.2  2.3  1.2  0.8  1.9\n",
              "\n",
              "[5 rows x 22 columns]"
            ]
          },
          "metadata": {},
          "execution_count": 44
        }
      ]
    },
    {
      "cell_type": "code",
      "metadata": {
        "id": "H3vJNMxPvnZf"
      },
      "source": [
        "Data=Data.rename(columns={'Unnamed: 0':'년도'})"
      ],
      "execution_count": 5,
      "outputs": []
    },
    {
      "cell_type": "code",
      "metadata": {
        "colab": {
          "base_uri": "https://localhost:8080/"
        },
        "id": "iX0sooFbwyju",
        "outputId": "a2ecd602-a79d-4596-854c-593002419cf9"
      },
      "source": [
        "Data.isnull().sum()"
      ],
      "execution_count": null,
      "outputs": [
        {
          "output_type": "execute_result",
          "data": {
            "text/plain": [
              "년도     0\n",
              "순위     0\n",
              "선수명    0\n",
              "팀      0\n",
              "PTS    0\n",
              "FG     0\n",
              "FGA    0\n",
              "FG%    0\n",
              "FT     0\n",
              "FTA    0\n",
              "FT%    0\n",
              "PP     0\n",
              "PPA    0\n",
              "PP%    0\n",
              "OFF    0\n",
              "DEF    0\n",
              "TOT    0\n",
              "AST    0\n",
              "TO     0\n",
              "STL    0\n",
              "BS     0\n",
              "PF     0\n",
              "dtype: int64"
            ]
          },
          "metadata": {},
          "execution_count": 46
        }
      ]
    },
    {
      "cell_type": "code",
      "metadata": {
        "colab": {
          "base_uri": "https://localhost:8080/"
        },
        "id": "EipCsXcuxf9D",
        "outputId": "8070abbe-5527-4317-a1af-6a7b32df7e69"
      },
      "source": [
        "len(Data)"
      ],
      "execution_count": null,
      "outputs": [
        {
          "output_type": "execute_result",
          "data": {
            "text/plain": [
              "1808"
            ]
          },
          "metadata": {},
          "execution_count": 47
        }
      ]
    },
    {
      "cell_type": "code",
      "metadata": {
        "id": "IaqV5mz9xk_b"
      },
      "source": [
        "Data.drop('순위', axis=1, inplace=True)"
      ],
      "execution_count": 6,
      "outputs": []
    },
    {
      "cell_type": "code",
      "metadata": {
        "colab": {
          "base_uri": "https://localhost:8080/"
        },
        "id": "VwzP330Jx5bX",
        "outputId": "f059bdaf-951f-4fcb-a6bb-e2b4cdab1205"
      },
      "source": [
        "print(Data['년도'].value_counts())\n",
        "print(Data['선수명'].value_counts())\n",
        "print(Data['팀'].value_counts())"
      ],
      "execution_count": null,
      "outputs": [
        {
          "output_type": "stream",
          "name": "stdout",
          "text": [
            "2018-2019    198\n",
            "2020-2021    197\n",
            "2016-2017    191\n",
            "2015-2016    191\n",
            "2019-2020    190\n",
            "2017-2018    185\n",
            "2012-2013    179\n",
            "2014-2015    176\n",
            "2013-2014    171\n",
            "2021-2022    130\n",
            "Name: 년도, dtype: int64\n",
            "최승욱       13\n",
            "김동욱       13\n",
            "박지훈       12\n",
            "이현민       10\n",
            "김선형       10\n",
            "          ..\n",
            "드웨인 미첼     1\n",
            "키퍼 사익스     1\n",
            "김종학        1\n",
            "존 토마스      1\n",
            "숀 롱        1\n",
            "Name: 선수명, Length: 540, dtype: int64\n",
            "부산KT         189\n",
            "창원LG         175\n",
            "전주KCC        167\n",
            "서울삼성         163\n",
            "서울SK         161\n",
            "인천전자랜드       160\n",
            "고양오리온        118\n",
            "안양KGC        113\n",
            "원주동부          87\n",
            "울산모비스         87\n",
            "원주DB          76\n",
            "울산현대모비스       75\n",
            "안양 KGC        67\n",
            "고양오리온스        53\n",
            "창원 LG         15\n",
            "서울 SK         14\n",
            "서울 삼성         13\n",
            "울산 현대모비스      13\n",
            "원주 DB         13\n",
            "대구 한국가스공사     13\n",
            "고양 오리온        12\n",
            "수원 KT         12\n",
            "전주 KCC        12\n",
            "Name: 팀, dtype: int64\n"
          ]
        }
      ]
    },
    {
      "cell_type": "code",
      "metadata": {
        "id": "U9gDz6YVyHEM"
      },
      "source": [
        "from sklearn.preprocessing import LabelEncoder"
      ],
      "execution_count": 7,
      "outputs": []
    },
    {
      "cell_type": "code",
      "metadata": {
        "id": "9j0ePV_V0bKJ"
      },
      "source": [
        "LE=LabelEncoder()\n",
        "LE.fit(Data['년도'])\n",
        "Data['년도']=LE.transform(Data['년도'])"
      ],
      "execution_count": 8,
      "outputs": []
    },
    {
      "cell_type": "code",
      "metadata": {
        "colab": {
          "base_uri": "https://localhost:8080/"
        },
        "id": "OBWzqZjgkKgj",
        "outputId": "48aae0d4-7e89-4ff1-a047-bad553b56f89"
      },
      "source": [
        "Data['년도']"
      ],
      "execution_count": 9,
      "outputs": [
        {
          "output_type": "execute_result",
          "data": {
            "text/plain": [
              "0       0\n",
              "1       0\n",
              "2       0\n",
              "3       0\n",
              "4       0\n",
              "       ..\n",
              "1803    9\n",
              "1804    9\n",
              "1805    9\n",
              "1806    9\n",
              "1807    9\n",
              "Name: 년도, Length: 1808, dtype: int64"
            ]
          },
          "metadata": {},
          "execution_count": 9
        }
      ]
    },
    {
      "cell_type": "code",
      "metadata": {
        "id": "JoTvERm51QAc"
      },
      "source": [
        "LE.fit(Data['선수명'])\n",
        "Data['선수명']=LE.transform(Data['선수명'])\n",
        "LE.fit(Data['팀'])\n",
        "Data['팀']=LE.transform(Data['팀'])"
      ],
      "execution_count": 10,
      "outputs": []
    },
    {
      "cell_type": "code",
      "metadata": {
        "colab": {
          "base_uri": "https://localhost:8080/",
          "height": 204
        },
        "id": "I-4ALWE4gj8J",
        "outputId": "3195719c-6c29-412d-fc01-132ef8485bf0"
      },
      "source": [
        "Data.head()"
      ],
      "execution_count": null,
      "outputs": [
        {
          "output_type": "execute_result",
          "data": {
            "text/html": [
              "<div>\n",
              "<style scoped>\n",
              "    .dataframe tbody tr th:only-of-type {\n",
              "        vertical-align: middle;\n",
              "    }\n",
              "\n",
              "    .dataframe tbody tr th {\n",
              "        vertical-align: top;\n",
              "    }\n",
              "\n",
              "    .dataframe thead th {\n",
              "        text-align: right;\n",
              "    }\n",
              "</style>\n",
              "<table border=\"1\" class=\"dataframe\">\n",
              "  <thead>\n",
              "    <tr style=\"text-align: right;\">\n",
              "      <th></th>\n",
              "      <th>년도</th>\n",
              "      <th>선수명</th>\n",
              "      <th>팀</th>\n",
              "      <th>PTS</th>\n",
              "      <th>FG</th>\n",
              "      <th>FGA</th>\n",
              "      <th>FG%</th>\n",
              "      <th>FT</th>\n",
              "      <th>FTA</th>\n",
              "      <th>FT%</th>\n",
              "      <th>PP</th>\n",
              "      <th>PPA</th>\n",
              "      <th>PP%</th>\n",
              "      <th>OFF</th>\n",
              "      <th>DEF</th>\n",
              "      <th>TOT</th>\n",
              "      <th>AST</th>\n",
              "      <th>TO</th>\n",
              "      <th>STL</th>\n",
              "      <th>BS</th>\n",
              "      <th>PF</th>\n",
              "    </tr>\n",
              "  </thead>\n",
              "  <tbody>\n",
              "    <tr>\n",
              "      <th>0</th>\n",
              "      <td>0</td>\n",
              "      <td>423</td>\n",
              "      <td>4</td>\n",
              "      <td>19.7</td>\n",
              "      <td>7.5</td>\n",
              "      <td>11.4</td>\n",
              "      <td>52.3</td>\n",
              "      <td>3.2</td>\n",
              "      <td>3.7</td>\n",
              "      <td>86.6</td>\n",
              "      <td>4.0</td>\n",
              "      <td>6.4</td>\n",
              "      <td>62.1</td>\n",
              "      <td>1.7</td>\n",
              "      <td>6.4</td>\n",
              "      <td>8.0</td>\n",
              "      <td>3.1</td>\n",
              "      <td>2.2</td>\n",
              "      <td>1.7</td>\n",
              "      <td>0.2</td>\n",
              "      <td>2.2</td>\n",
              "    </tr>\n",
              "    <tr>\n",
              "      <th>1</th>\n",
              "      <td>0</td>\n",
              "      <td>272</td>\n",
              "      <td>7</td>\n",
              "      <td>19.1</td>\n",
              "      <td>7.5</td>\n",
              "      <td>13.3</td>\n",
              "      <td>55.8</td>\n",
              "      <td>3.8</td>\n",
              "      <td>4.6</td>\n",
              "      <td>82.5</td>\n",
              "      <td>4.9</td>\n",
              "      <td>8.0</td>\n",
              "      <td>61.5</td>\n",
              "      <td>2.6</td>\n",
              "      <td>5.8</td>\n",
              "      <td>8.4</td>\n",
              "      <td>2.4</td>\n",
              "      <td>1.7</td>\n",
              "      <td>1.2</td>\n",
              "      <td>0.9</td>\n",
              "      <td>1.8</td>\n",
              "    </tr>\n",
              "    <tr>\n",
              "      <th>2</th>\n",
              "      <td>0</td>\n",
              "      <td>140</td>\n",
              "      <td>2</td>\n",
              "      <td>18.5</td>\n",
              "      <td>7.1</td>\n",
              "      <td>11.4</td>\n",
              "      <td>61.7</td>\n",
              "      <td>4.4</td>\n",
              "      <td>5.3</td>\n",
              "      <td>83.1</td>\n",
              "      <td>6.1</td>\n",
              "      <td>9.5</td>\n",
              "      <td>63.7</td>\n",
              "      <td>4.0</td>\n",
              "      <td>7.4</td>\n",
              "      <td>11.4</td>\n",
              "      <td>1.6</td>\n",
              "      <td>2.6</td>\n",
              "      <td>1.6</td>\n",
              "      <td>0.7</td>\n",
              "      <td>2.9</td>\n",
              "    </tr>\n",
              "    <tr>\n",
              "      <th>3</th>\n",
              "      <td>0</td>\n",
              "      <td>143</td>\n",
              "      <td>18</td>\n",
              "      <td>18.4</td>\n",
              "      <td>7.4</td>\n",
              "      <td>11.9</td>\n",
              "      <td>55.6</td>\n",
              "      <td>2.6</td>\n",
              "      <td>3.6</td>\n",
              "      <td>73.0</td>\n",
              "      <td>5.4</td>\n",
              "      <td>8.4</td>\n",
              "      <td>65.2</td>\n",
              "      <td>1.5</td>\n",
              "      <td>5.4</td>\n",
              "      <td>7.0</td>\n",
              "      <td>2.2</td>\n",
              "      <td>2.1</td>\n",
              "      <td>1.0</td>\n",
              "      <td>0.8</td>\n",
              "      <td>2.0</td>\n",
              "    </tr>\n",
              "    <tr>\n",
              "      <th>4</th>\n",
              "      <td>0</td>\n",
              "      <td>539</td>\n",
              "      <td>10</td>\n",
              "      <td>18.3</td>\n",
              "      <td>7.6</td>\n",
              "      <td>13.3</td>\n",
              "      <td>57.3</td>\n",
              "      <td>3.0</td>\n",
              "      <td>4.7</td>\n",
              "      <td>65.1</td>\n",
              "      <td>5.4</td>\n",
              "      <td>8.0</td>\n",
              "      <td>66.7</td>\n",
              "      <td>2.0</td>\n",
              "      <td>5.6</td>\n",
              "      <td>7.6</td>\n",
              "      <td>1.2</td>\n",
              "      <td>2.3</td>\n",
              "      <td>1.2</td>\n",
              "      <td>0.8</td>\n",
              "      <td>1.9</td>\n",
              "    </tr>\n",
              "  </tbody>\n",
              "</table>\n",
              "</div>"
            ],
            "text/plain": [
              "   년도  선수명   팀   PTS   FG   FGA   FG%  ...  DEF   TOT  AST   TO  STL   BS   PF\n",
              "0   0  423   4  19.7  7.5  11.4  52.3  ...  6.4   8.0  3.1  2.2  1.7  0.2  2.2\n",
              "1   0  272   7  19.1  7.5  13.3  55.8  ...  5.8   8.4  2.4  1.7  1.2  0.9  1.8\n",
              "2   0  140   2  18.5  7.1  11.4  61.7  ...  7.4  11.4  1.6  2.6  1.6  0.7  2.9\n",
              "3   0  143  18  18.4  7.4  11.9  55.6  ...  5.4   7.0  2.2  2.1  1.0  0.8  2.0\n",
              "4   0  539  10  18.3  7.6  13.3  57.3  ...  5.6   7.6  1.2  2.3  1.2  0.8  1.9\n",
              "\n",
              "[5 rows x 21 columns]"
            ]
          },
          "metadata": {},
          "execution_count": 54
        }
      ]
    },
    {
      "cell_type": "code",
      "metadata": {
        "id": "jNF41etLhOkJ"
      },
      "source": [
        "Data.to_csv('data.csv', index=False)"
      ],
      "execution_count": null,
      "outputs": []
    },
    {
      "cell_type": "code",
      "metadata": {
        "colab": {
          "base_uri": "https://localhost:8080/",
          "height": 316
        },
        "id": "qfhigUMUijLt",
        "outputId": "926a2877-6f2c-4cb7-d626-4871c5b99a77"
      },
      "source": [
        "Data.describe()"
      ],
      "execution_count": null,
      "outputs": [
        {
          "output_type": "execute_result",
          "data": {
            "text/html": [
              "<div>\n",
              "<style scoped>\n",
              "    .dataframe tbody tr th:only-of-type {\n",
              "        vertical-align: middle;\n",
              "    }\n",
              "\n",
              "    .dataframe tbody tr th {\n",
              "        vertical-align: top;\n",
              "    }\n",
              "\n",
              "    .dataframe thead th {\n",
              "        text-align: right;\n",
              "    }\n",
              "</style>\n",
              "<table border=\"1\" class=\"dataframe\">\n",
              "  <thead>\n",
              "    <tr style=\"text-align: right;\">\n",
              "      <th></th>\n",
              "      <th>년도</th>\n",
              "      <th>선수명</th>\n",
              "      <th>팀</th>\n",
              "      <th>PTS</th>\n",
              "      <th>FG</th>\n",
              "      <th>FGA</th>\n",
              "      <th>FG%</th>\n",
              "      <th>FT</th>\n",
              "      <th>FTA</th>\n",
              "      <th>FT%</th>\n",
              "      <th>PP</th>\n",
              "      <th>PPA</th>\n",
              "      <th>PP%</th>\n",
              "      <th>OFF</th>\n",
              "      <th>DEF</th>\n",
              "      <th>TOT</th>\n",
              "      <th>AST</th>\n",
              "      <th>TO</th>\n",
              "      <th>STL</th>\n",
              "      <th>BS</th>\n",
              "      <th>PF</th>\n",
              "    </tr>\n",
              "  </thead>\n",
              "  <tbody>\n",
              "    <tr>\n",
              "      <th>count</th>\n",
              "      <td>1808.000000</td>\n",
              "      <td>1808.000000</td>\n",
              "      <td>1808.000000</td>\n",
              "      <td>1808.000000</td>\n",
              "      <td>1808.000000</td>\n",
              "      <td>1808.000000</td>\n",
              "      <td>1808.000000</td>\n",
              "      <td>1808.000000</td>\n",
              "      <td>1808.000000</td>\n",
              "      <td>1808.000000</td>\n",
              "      <td>1808.000000</td>\n",
              "      <td>1808.000000</td>\n",
              "      <td>1808.000000</td>\n",
              "      <td>1808.000000</td>\n",
              "      <td>1808.000000</td>\n",
              "      <td>1808.000000</td>\n",
              "      <td>1808.000000</td>\n",
              "      <td>1808.000000</td>\n",
              "      <td>1808.000000</td>\n",
              "      <td>1808.000000</td>\n",
              "      <td>1808.000000</td>\n",
              "    </tr>\n",
              "    <tr>\n",
              "      <th>mean</th>\n",
              "      <td>4.451881</td>\n",
              "      <td>262.196903</td>\n",
              "      <td>11.868916</td>\n",
              "      <td>5.978097</td>\n",
              "      <td>2.286670</td>\n",
              "      <td>3.441427</td>\n",
              "      <td>43.210177</td>\n",
              "      <td>0.867810</td>\n",
              "      <td>1.219303</td>\n",
              "      <td>57.370907</td>\n",
              "      <td>1.386560</td>\n",
              "      <td>2.428097</td>\n",
              "      <td>48.420465</td>\n",
              "      <td>0.818142</td>\n",
              "      <td>1.789546</td>\n",
              "      <td>2.606361</td>\n",
              "      <td>1.284237</td>\n",
              "      <td>0.893805</td>\n",
              "      <td>0.551936</td>\n",
              "      <td>0.215321</td>\n",
              "      <td>1.506305</td>\n",
              "    </tr>\n",
              "    <tr>\n",
              "      <th>std</th>\n",
              "      <td>2.785230</td>\n",
              "      <td>159.966543</td>\n",
              "      <td>6.750594</td>\n",
              "      <td>5.684488</td>\n",
              "      <td>2.231146</td>\n",
              "      <td>3.630565</td>\n",
              "      <td>19.422882</td>\n",
              "      <td>1.042247</td>\n",
              "      <td>1.433649</td>\n",
              "      <td>31.465056</td>\n",
              "      <td>1.709122</td>\n",
              "      <td>2.800606</td>\n",
              "      <td>22.652367</td>\n",
              "      <td>0.893166</td>\n",
              "      <td>1.827369</td>\n",
              "      <td>2.623089</td>\n",
              "      <td>1.307134</td>\n",
              "      <td>0.765856</td>\n",
              "      <td>0.469957</td>\n",
              "      <td>0.359383</td>\n",
              "      <td>0.826789</td>\n",
              "    </tr>\n",
              "    <tr>\n",
              "      <th>min</th>\n",
              "      <td>0.000000</td>\n",
              "      <td>0.000000</td>\n",
              "      <td>0.000000</td>\n",
              "      <td>0.000000</td>\n",
              "      <td>0.000000</td>\n",
              "      <td>0.000000</td>\n",
              "      <td>0.000000</td>\n",
              "      <td>0.000000</td>\n",
              "      <td>0.000000</td>\n",
              "      <td>0.000000</td>\n",
              "      <td>0.000000</td>\n",
              "      <td>0.000000</td>\n",
              "      <td>0.000000</td>\n",
              "      <td>0.000000</td>\n",
              "      <td>0.000000</td>\n",
              "      <td>0.000000</td>\n",
              "      <td>0.000000</td>\n",
              "      <td>0.000000</td>\n",
              "      <td>0.000000</td>\n",
              "      <td>0.000000</td>\n",
              "      <td>0.000000</td>\n",
              "    </tr>\n",
              "    <tr>\n",
              "      <th>25%</th>\n",
              "      <td>2.000000</td>\n",
              "      <td>108.000000</td>\n",
              "      <td>7.000000</td>\n",
              "      <td>1.500000</td>\n",
              "      <td>0.600000</td>\n",
              "      <td>0.900000</td>\n",
              "      <td>37.800000</td>\n",
              "      <td>0.100000</td>\n",
              "      <td>0.200000</td>\n",
              "      <td>50.000000</td>\n",
              "      <td>0.300000</td>\n",
              "      <td>0.500000</td>\n",
              "      <td>42.900000</td>\n",
              "      <td>0.200000</td>\n",
              "      <td>0.500000</td>\n",
              "      <td>0.800000</td>\n",
              "      <td>0.300000</td>\n",
              "      <td>0.300000</td>\n",
              "      <td>0.200000</td>\n",
              "      <td>0.000000</td>\n",
              "      <td>1.000000</td>\n",
              "    </tr>\n",
              "    <tr>\n",
              "      <th>50%</th>\n",
              "      <td>4.000000</td>\n",
              "      <td>269.500000</td>\n",
              "      <td>11.000000</td>\n",
              "      <td>4.100000</td>\n",
              "      <td>1.500000</td>\n",
              "      <td>2.100000</td>\n",
              "      <td>48.100000</td>\n",
              "      <td>0.500000</td>\n",
              "      <td>0.700000</td>\n",
              "      <td>67.900000</td>\n",
              "      <td>0.700000</td>\n",
              "      <td>1.300000</td>\n",
              "      <td>53.800000</td>\n",
              "      <td>0.500000</td>\n",
              "      <td>1.200000</td>\n",
              "      <td>1.700000</td>\n",
              "      <td>0.900000</td>\n",
              "      <td>0.700000</td>\n",
              "      <td>0.500000</td>\n",
              "      <td>0.100000</td>\n",
              "      <td>1.500000</td>\n",
              "    </tr>\n",
              "    <tr>\n",
              "      <th>75%</th>\n",
              "      <td>7.000000</td>\n",
              "      <td>398.250000</td>\n",
              "      <td>18.000000</td>\n",
              "      <td>9.200000</td>\n",
              "      <td>3.400000</td>\n",
              "      <td>5.000000</td>\n",
              "      <td>53.625000</td>\n",
              "      <td>1.225000</td>\n",
              "      <td>1.800000</td>\n",
              "      <td>78.400000</td>\n",
              "      <td>1.900000</td>\n",
              "      <td>3.400000</td>\n",
              "      <td>61.100000</td>\n",
              "      <td>1.000000</td>\n",
              "      <td>2.500000</td>\n",
              "      <td>3.500000</td>\n",
              "      <td>1.900000</td>\n",
              "      <td>1.300000</td>\n",
              "      <td>0.800000</td>\n",
              "      <td>0.300000</td>\n",
              "      <td>2.100000</td>\n",
              "    </tr>\n",
              "    <tr>\n",
              "      <th>max</th>\n",
              "      <td>9.000000</td>\n",
              "      <td>539.000000</td>\n",
              "      <td>22.000000</td>\n",
              "      <td>28.800000</td>\n",
              "      <td>11.200000</td>\n",
              "      <td>19.600000</td>\n",
              "      <td>100.000000</td>\n",
              "      <td>8.000000</td>\n",
              "      <td>11.000000</td>\n",
              "      <td>100.000000</td>\n",
              "      <td>10.000000</td>\n",
              "      <td>16.900000</td>\n",
              "      <td>100.000000</td>\n",
              "      <td>6.100000</td>\n",
              "      <td>11.000000</td>\n",
              "      <td>14.700000</td>\n",
              "      <td>7.700000</td>\n",
              "      <td>4.500000</td>\n",
              "      <td>4.000000</td>\n",
              "      <td>4.000000</td>\n",
              "      <td>5.000000</td>\n",
              "    </tr>\n",
              "  </tbody>\n",
              "</table>\n",
              "</div>"
            ],
            "text/plain": [
              "                년도          선수명  ...           BS           PF\n",
              "count  1808.000000  1808.000000  ...  1808.000000  1808.000000\n",
              "mean      4.451881   262.196903  ...     0.215321     1.506305\n",
              "std       2.785230   159.966543  ...     0.359383     0.826789\n",
              "min       0.000000     0.000000  ...     0.000000     0.000000\n",
              "25%       2.000000   108.000000  ...     0.000000     1.000000\n",
              "50%       4.000000   269.500000  ...     0.100000     1.500000\n",
              "75%       7.000000   398.250000  ...     0.300000     2.100000\n",
              "max       9.000000   539.000000  ...     4.000000     5.000000\n",
              "\n",
              "[8 rows x 21 columns]"
            ]
          },
          "metadata": {},
          "execution_count": 56
        }
      ]
    },
    {
      "cell_type": "markdown",
      "metadata": {
        "id": "sBs4XAt6BMhy"
      },
      "source": [
        "#데이터 분포 확인\n",
        "pearson correlation 값 확인  \n",
        "seaborn으로 heatmap 생성  \n"
      ]
    },
    {
      "cell_type": "code",
      "metadata": {
        "colab": {
          "base_uri": "https://localhost:8080/",
          "height": 735
        },
        "id": "QY8owwLnlini",
        "outputId": "acbea7a0-0006-463c-d782-6bc2407c6b06"
      },
      "source": [
        "Data.corr(method='pearson')"
      ],
      "execution_count": null,
      "outputs": [
        {
          "output_type": "execute_result",
          "data": {
            "text/html": [
              "<div>\n",
              "<style scoped>\n",
              "    .dataframe tbody tr th:only-of-type {\n",
              "        vertical-align: middle;\n",
              "    }\n",
              "\n",
              "    .dataframe tbody tr th {\n",
              "        vertical-align: top;\n",
              "    }\n",
              "\n",
              "    .dataframe thead th {\n",
              "        text-align: right;\n",
              "    }\n",
              "</style>\n",
              "<table border=\"1\" class=\"dataframe\">\n",
              "  <thead>\n",
              "    <tr style=\"text-align: right;\">\n",
              "      <th></th>\n",
              "      <th>년도</th>\n",
              "      <th>선수명</th>\n",
              "      <th>팀</th>\n",
              "      <th>PTS</th>\n",
              "      <th>FG</th>\n",
              "      <th>FGA</th>\n",
              "      <th>FG%</th>\n",
              "      <th>FT</th>\n",
              "      <th>FTA</th>\n",
              "      <th>FT%</th>\n",
              "      <th>PP</th>\n",
              "      <th>PPA</th>\n",
              "      <th>PP%</th>\n",
              "      <th>OFF</th>\n",
              "      <th>DEF</th>\n",
              "      <th>TOT</th>\n",
              "      <th>AST</th>\n",
              "      <th>TO</th>\n",
              "      <th>STL</th>\n",
              "      <th>BS</th>\n",
              "      <th>PF</th>\n",
              "    </tr>\n",
              "  </thead>\n",
              "  <tbody>\n",
              "    <tr>\n",
              "      <th>년도</th>\n",
              "      <td>1.000000</td>\n",
              "      <td>0.008994</td>\n",
              "      <td>-0.018923</td>\n",
              "      <td>0.060731</td>\n",
              "      <td>0.056958</td>\n",
              "      <td>0.021889</td>\n",
              "      <td>0.008414</td>\n",
              "      <td>0.021942</td>\n",
              "      <td>0.021874</td>\n",
              "      <td>-0.076854</td>\n",
              "      <td>0.049417</td>\n",
              "      <td>0.054958</td>\n",
              "      <td>-0.004665</td>\n",
              "      <td>0.053697</td>\n",
              "      <td>0.062144</td>\n",
              "      <td>0.062318</td>\n",
              "      <td>0.054992</td>\n",
              "      <td>0.007799</td>\n",
              "      <td>0.024889</td>\n",
              "      <td>0.024096</td>\n",
              "      <td>-0.019742</td>\n",
              "    </tr>\n",
              "    <tr>\n",
              "      <th>선수명</th>\n",
              "      <td>0.008994</td>\n",
              "      <td>1.000000</td>\n",
              "      <td>-0.020410</td>\n",
              "      <td>0.023166</td>\n",
              "      <td>0.021009</td>\n",
              "      <td>0.025387</td>\n",
              "      <td>0.029163</td>\n",
              "      <td>0.039550</td>\n",
              "      <td>0.047102</td>\n",
              "      <td>0.002015</td>\n",
              "      <td>0.026334</td>\n",
              "      <td>0.030275</td>\n",
              "      <td>0.019733</td>\n",
              "      <td>0.067585</td>\n",
              "      <td>0.025737</td>\n",
              "      <td>0.040600</td>\n",
              "      <td>-0.008825</td>\n",
              "      <td>0.004629</td>\n",
              "      <td>0.013047</td>\n",
              "      <td>0.061381</td>\n",
              "      <td>0.034678</td>\n",
              "    </tr>\n",
              "    <tr>\n",
              "      <th>팀</th>\n",
              "      <td>-0.018923</td>\n",
              "      <td>-0.020410</td>\n",
              "      <td>1.000000</td>\n",
              "      <td>-0.006177</td>\n",
              "      <td>-0.006171</td>\n",
              "      <td>0.000321</td>\n",
              "      <td>-0.001142</td>\n",
              "      <td>-0.001992</td>\n",
              "      <td>0.009073</td>\n",
              "      <td>-0.020612</td>\n",
              "      <td>0.003286</td>\n",
              "      <td>0.002033</td>\n",
              "      <td>0.018641</td>\n",
              "      <td>0.027517</td>\n",
              "      <td>0.016317</td>\n",
              "      <td>0.021383</td>\n",
              "      <td>-0.024179</td>\n",
              "      <td>0.019710</td>\n",
              "      <td>-0.012872</td>\n",
              "      <td>-0.005673</td>\n",
              "      <td>0.019562</td>\n",
              "    </tr>\n",
              "    <tr>\n",
              "      <th>PTS</th>\n",
              "      <td>0.060731</td>\n",
              "      <td>0.023166</td>\n",
              "      <td>-0.006177</td>\n",
              "      <td>1.000000</td>\n",
              "      <td>0.991391</td>\n",
              "      <td>0.931973</td>\n",
              "      <td>0.431428</td>\n",
              "      <td>0.893828</td>\n",
              "      <td>0.892130</td>\n",
              "      <td>0.429781</td>\n",
              "      <td>0.897335</td>\n",
              "      <td>0.900913</td>\n",
              "      <td>0.390161</td>\n",
              "      <td>0.706493</td>\n",
              "      <td>0.865283</td>\n",
              "      <td>0.843817</td>\n",
              "      <td>0.616568</td>\n",
              "      <td>0.825327</td>\n",
              "      <td>0.679817</td>\n",
              "      <td>0.604538</td>\n",
              "      <td>0.618119</td>\n",
              "    </tr>\n",
              "    <tr>\n",
              "      <th>FG</th>\n",
              "      <td>0.056958</td>\n",
              "      <td>0.021009</td>\n",
              "      <td>-0.006171</td>\n",
              "      <td>0.991391</td>\n",
              "      <td>1.000000</td>\n",
              "      <td>0.958595</td>\n",
              "      <td>0.440654</td>\n",
              "      <td>0.855004</td>\n",
              "      <td>0.865492</td>\n",
              "      <td>0.393427</td>\n",
              "      <td>0.932715</td>\n",
              "      <td>0.931228</td>\n",
              "      <td>0.397767</td>\n",
              "      <td>0.743398</td>\n",
              "      <td>0.887214</td>\n",
              "      <td>0.871636</td>\n",
              "      <td>0.583381</td>\n",
              "      <td>0.812890</td>\n",
              "      <td>0.656384</td>\n",
              "      <td>0.640153</td>\n",
              "      <td>0.610150</td>\n",
              "    </tr>\n",
              "    <tr>\n",
              "      <th>FGA</th>\n",
              "      <td>0.021889</td>\n",
              "      <td>0.025387</td>\n",
              "      <td>0.000321</td>\n",
              "      <td>0.931973</td>\n",
              "      <td>0.958595</td>\n",
              "      <td>1.000000</td>\n",
              "      <td>0.372683</td>\n",
              "      <td>0.841238</td>\n",
              "      <td>0.865646</td>\n",
              "      <td>0.337784</td>\n",
              "      <td>0.959929</td>\n",
              "      <td>0.972757</td>\n",
              "      <td>0.338886</td>\n",
              "      <td>0.807779</td>\n",
              "      <td>0.898296</td>\n",
              "      <td>0.901154</td>\n",
              "      <td>0.508094</td>\n",
              "      <td>0.775636</td>\n",
              "      <td>0.599211</td>\n",
              "      <td>0.679398</td>\n",
              "      <td>0.582317</td>\n",
              "    </tr>\n",
              "    <tr>\n",
              "      <th>FG%</th>\n",
              "      <td>0.008414</td>\n",
              "      <td>0.029163</td>\n",
              "      <td>-0.001142</td>\n",
              "      <td>0.431428</td>\n",
              "      <td>0.440654</td>\n",
              "      <td>0.372683</td>\n",
              "      <td>1.000000</td>\n",
              "      <td>0.335387</td>\n",
              "      <td>0.346203</td>\n",
              "      <td>0.436917</td>\n",
              "      <td>0.411653</td>\n",
              "      <td>0.378265</td>\n",
              "      <td>0.877698</td>\n",
              "      <td>0.358099</td>\n",
              "      <td>0.389022</td>\n",
              "      <td>0.392814</td>\n",
              "      <td>0.309464</td>\n",
              "      <td>0.371999</td>\n",
              "      <td>0.362885</td>\n",
              "      <td>0.275708</td>\n",
              "      <td>0.419191</td>\n",
              "    </tr>\n",
              "    <tr>\n",
              "      <th>FT</th>\n",
              "      <td>0.021942</td>\n",
              "      <td>0.039550</td>\n",
              "      <td>-0.001992</td>\n",
              "      <td>0.893828</td>\n",
              "      <td>0.855004</td>\n",
              "      <td>0.841238</td>\n",
              "      <td>0.335387</td>\n",
              "      <td>1.000000</td>\n",
              "      <td>0.977628</td>\n",
              "      <td>0.431007</td>\n",
              "      <td>0.808183</td>\n",
              "      <td>0.822305</td>\n",
              "      <td>0.297343</td>\n",
              "      <td>0.661086</td>\n",
              "      <td>0.773435</td>\n",
              "      <td>0.764231</td>\n",
              "      <td>0.557939</td>\n",
              "      <td>0.748082</td>\n",
              "      <td>0.614303</td>\n",
              "      <td>0.525621</td>\n",
              "      <td>0.543493</td>\n",
              "    </tr>\n",
              "    <tr>\n",
              "      <th>FTA</th>\n",
              "      <td>0.021874</td>\n",
              "      <td>0.047102</td>\n",
              "      <td>0.009073</td>\n",
              "      <td>0.892130</td>\n",
              "      <td>0.865492</td>\n",
              "      <td>0.865646</td>\n",
              "      <td>0.346203</td>\n",
              "      <td>0.977628</td>\n",
              "      <td>1.000000</td>\n",
              "      <td>0.372051</td>\n",
              "      <td>0.849905</td>\n",
              "      <td>0.863842</td>\n",
              "      <td>0.302040</td>\n",
              "      <td>0.719617</td>\n",
              "      <td>0.811621</td>\n",
              "      <td>0.810752</td>\n",
              "      <td>0.534884</td>\n",
              "      <td>0.753076</td>\n",
              "      <td>0.608291</td>\n",
              "      <td>0.573850</td>\n",
              "      <td>0.558173</td>\n",
              "    </tr>\n",
              "    <tr>\n",
              "      <th>FT%</th>\n",
              "      <td>-0.076854</td>\n",
              "      <td>0.002015</td>\n",
              "      <td>-0.020612</td>\n",
              "      <td>0.429781</td>\n",
              "      <td>0.393427</td>\n",
              "      <td>0.337784</td>\n",
              "      <td>0.436917</td>\n",
              "      <td>0.431007</td>\n",
              "      <td>0.372051</td>\n",
              "      <td>1.000000</td>\n",
              "      <td>0.278166</td>\n",
              "      <td>0.293665</td>\n",
              "      <td>0.456779</td>\n",
              "      <td>0.249122</td>\n",
              "      <td>0.325919</td>\n",
              "      <td>0.312064</td>\n",
              "      <td>0.383659</td>\n",
              "      <td>0.381302</td>\n",
              "      <td>0.387011</td>\n",
              "      <td>0.175380</td>\n",
              "      <td>0.464840</td>\n",
              "    </tr>\n",
              "    <tr>\n",
              "      <th>PP</th>\n",
              "      <td>0.049417</td>\n",
              "      <td>0.026334</td>\n",
              "      <td>0.003286</td>\n",
              "      <td>0.897335</td>\n",
              "      <td>0.932715</td>\n",
              "      <td>0.959929</td>\n",
              "      <td>0.411653</td>\n",
              "      <td>0.808183</td>\n",
              "      <td>0.849905</td>\n",
              "      <td>0.278166</td>\n",
              "      <td>1.000000</td>\n",
              "      <td>0.988027</td>\n",
              "      <td>0.373326</td>\n",
              "      <td>0.825453</td>\n",
              "      <td>0.890820</td>\n",
              "      <td>0.902015</td>\n",
              "      <td>0.445226</td>\n",
              "      <td>0.727016</td>\n",
              "      <td>0.548882</td>\n",
              "      <td>0.691389</td>\n",
              "      <td>0.541385</td>\n",
              "    </tr>\n",
              "    <tr>\n",
              "      <th>PPA</th>\n",
              "      <td>0.054958</td>\n",
              "      <td>0.030275</td>\n",
              "      <td>0.002033</td>\n",
              "      <td>0.900913</td>\n",
              "      <td>0.931228</td>\n",
              "      <td>0.972757</td>\n",
              "      <td>0.378265</td>\n",
              "      <td>0.822305</td>\n",
              "      <td>0.863842</td>\n",
              "      <td>0.293665</td>\n",
              "      <td>0.988027</td>\n",
              "      <td>1.000000</td>\n",
              "      <td>0.330306</td>\n",
              "      <td>0.833152</td>\n",
              "      <td>0.890089</td>\n",
              "      <td>0.904081</td>\n",
              "      <td>0.465862</td>\n",
              "      <td>0.746483</td>\n",
              "      <td>0.571966</td>\n",
              "      <td>0.682582</td>\n",
              "      <td>0.558934</td>\n",
              "    </tr>\n",
              "    <tr>\n",
              "      <th>PP%</th>\n",
              "      <td>-0.004665</td>\n",
              "      <td>0.019733</td>\n",
              "      <td>0.018641</td>\n",
              "      <td>0.390161</td>\n",
              "      <td>0.397767</td>\n",
              "      <td>0.338886</td>\n",
              "      <td>0.877698</td>\n",
              "      <td>0.297343</td>\n",
              "      <td>0.302040</td>\n",
              "      <td>0.456779</td>\n",
              "      <td>0.373326</td>\n",
              "      <td>0.330306</td>\n",
              "      <td>1.000000</td>\n",
              "      <td>0.309140</td>\n",
              "      <td>0.353763</td>\n",
              "      <td>0.351473</td>\n",
              "      <td>0.283326</td>\n",
              "      <td>0.335669</td>\n",
              "      <td>0.335208</td>\n",
              "      <td>0.244026</td>\n",
              "      <td>0.408707</td>\n",
              "    </tr>\n",
              "    <tr>\n",
              "      <th>OFF</th>\n",
              "      <td>0.053697</td>\n",
              "      <td>0.067585</td>\n",
              "      <td>0.027517</td>\n",
              "      <td>0.706493</td>\n",
              "      <td>0.743398</td>\n",
              "      <td>0.807779</td>\n",
              "      <td>0.358099</td>\n",
              "      <td>0.661086</td>\n",
              "      <td>0.719617</td>\n",
              "      <td>0.249122</td>\n",
              "      <td>0.825453</td>\n",
              "      <td>0.833152</td>\n",
              "      <td>0.309140</td>\n",
              "      <td>1.000000</td>\n",
              "      <td>0.840182</td>\n",
              "      <td>0.925272</td>\n",
              "      <td>0.283648</td>\n",
              "      <td>0.560779</td>\n",
              "      <td>0.465514</td>\n",
              "      <td>0.661517</td>\n",
              "      <td>0.552237</td>\n",
              "    </tr>\n",
              "    <tr>\n",
              "      <th>DEF</th>\n",
              "      <td>0.062144</td>\n",
              "      <td>0.025737</td>\n",
              "      <td>0.016317</td>\n",
              "      <td>0.865283</td>\n",
              "      <td>0.887214</td>\n",
              "      <td>0.898296</td>\n",
              "      <td>0.389022</td>\n",
              "      <td>0.773435</td>\n",
              "      <td>0.811621</td>\n",
              "      <td>0.325919</td>\n",
              "      <td>0.890820</td>\n",
              "      <td>0.890089</td>\n",
              "      <td>0.353763</td>\n",
              "      <td>0.840182</td>\n",
              "      <td>1.000000</td>\n",
              "      <td>0.982866</td>\n",
              "      <td>0.452798</td>\n",
              "      <td>0.731351</td>\n",
              "      <td>0.568390</td>\n",
              "      <td>0.744608</td>\n",
              "      <td>0.597095</td>\n",
              "    </tr>\n",
              "    <tr>\n",
              "      <th>TOT</th>\n",
              "      <td>0.062318</td>\n",
              "      <td>0.040600</td>\n",
              "      <td>0.021383</td>\n",
              "      <td>0.843817</td>\n",
              "      <td>0.871636</td>\n",
              "      <td>0.901154</td>\n",
              "      <td>0.392814</td>\n",
              "      <td>0.764231</td>\n",
              "      <td>0.810752</td>\n",
              "      <td>0.312064</td>\n",
              "      <td>0.902015</td>\n",
              "      <td>0.904081</td>\n",
              "      <td>0.351473</td>\n",
              "      <td>0.925272</td>\n",
              "      <td>0.982866</td>\n",
              "      <td>1.000000</td>\n",
              "      <td>0.412732</td>\n",
              "      <td>0.700898</td>\n",
              "      <td>0.554541</td>\n",
              "      <td>0.744310</td>\n",
              "      <td>0.604389</td>\n",
              "    </tr>\n",
              "    <tr>\n",
              "      <th>AST</th>\n",
              "      <td>0.054992</td>\n",
              "      <td>-0.008825</td>\n",
              "      <td>-0.024179</td>\n",
              "      <td>0.616568</td>\n",
              "      <td>0.583381</td>\n",
              "      <td>0.508094</td>\n",
              "      <td>0.309464</td>\n",
              "      <td>0.557939</td>\n",
              "      <td>0.534884</td>\n",
              "      <td>0.383659</td>\n",
              "      <td>0.445226</td>\n",
              "      <td>0.465862</td>\n",
              "      <td>0.283326</td>\n",
              "      <td>0.283648</td>\n",
              "      <td>0.452798</td>\n",
              "      <td>0.412732</td>\n",
              "      <td>1.000000</td>\n",
              "      <td>0.724794</td>\n",
              "      <td>0.707600</td>\n",
              "      <td>0.208004</td>\n",
              "      <td>0.467087</td>\n",
              "    </tr>\n",
              "    <tr>\n",
              "      <th>TO</th>\n",
              "      <td>0.007799</td>\n",
              "      <td>0.004629</td>\n",
              "      <td>0.019710</td>\n",
              "      <td>0.825327</td>\n",
              "      <td>0.812890</td>\n",
              "      <td>0.775636</td>\n",
              "      <td>0.371999</td>\n",
              "      <td>0.748082</td>\n",
              "      <td>0.753076</td>\n",
              "      <td>0.381302</td>\n",
              "      <td>0.727016</td>\n",
              "      <td>0.746483</td>\n",
              "      <td>0.335669</td>\n",
              "      <td>0.560779</td>\n",
              "      <td>0.731351</td>\n",
              "      <td>0.700898</td>\n",
              "      <td>0.724794</td>\n",
              "      <td>1.000000</td>\n",
              "      <td>0.693480</td>\n",
              "      <td>0.507733</td>\n",
              "      <td>0.600099</td>\n",
              "    </tr>\n",
              "    <tr>\n",
              "      <th>STL</th>\n",
              "      <td>0.024889</td>\n",
              "      <td>0.013047</td>\n",
              "      <td>-0.012872</td>\n",
              "      <td>0.679817</td>\n",
              "      <td>0.656384</td>\n",
              "      <td>0.599211</td>\n",
              "      <td>0.362885</td>\n",
              "      <td>0.614303</td>\n",
              "      <td>0.608291</td>\n",
              "      <td>0.387011</td>\n",
              "      <td>0.548882</td>\n",
              "      <td>0.571966</td>\n",
              "      <td>0.335208</td>\n",
              "      <td>0.465514</td>\n",
              "      <td>0.568390</td>\n",
              "      <td>0.554541</td>\n",
              "      <td>0.707600</td>\n",
              "      <td>0.693480</td>\n",
              "      <td>1.000000</td>\n",
              "      <td>0.329862</td>\n",
              "      <td>0.587618</td>\n",
              "    </tr>\n",
              "    <tr>\n",
              "      <th>BS</th>\n",
              "      <td>0.024096</td>\n",
              "      <td>0.061381</td>\n",
              "      <td>-0.005673</td>\n",
              "      <td>0.604538</td>\n",
              "      <td>0.640153</td>\n",
              "      <td>0.679398</td>\n",
              "      <td>0.275708</td>\n",
              "      <td>0.525621</td>\n",
              "      <td>0.573850</td>\n",
              "      <td>0.175380</td>\n",
              "      <td>0.691389</td>\n",
              "      <td>0.682582</td>\n",
              "      <td>0.244026</td>\n",
              "      <td>0.661517</td>\n",
              "      <td>0.744608</td>\n",
              "      <td>0.744310</td>\n",
              "      <td>0.208004</td>\n",
              "      <td>0.507733</td>\n",
              "      <td>0.329862</td>\n",
              "      <td>1.000000</td>\n",
              "      <td>0.419289</td>\n",
              "    </tr>\n",
              "    <tr>\n",
              "      <th>PF</th>\n",
              "      <td>-0.019742</td>\n",
              "      <td>0.034678</td>\n",
              "      <td>0.019562</td>\n",
              "      <td>0.618119</td>\n",
              "      <td>0.610150</td>\n",
              "      <td>0.582317</td>\n",
              "      <td>0.419191</td>\n",
              "      <td>0.543493</td>\n",
              "      <td>0.558173</td>\n",
              "      <td>0.464840</td>\n",
              "      <td>0.541385</td>\n",
              "      <td>0.558934</td>\n",
              "      <td>0.408707</td>\n",
              "      <td>0.552237</td>\n",
              "      <td>0.597095</td>\n",
              "      <td>0.604389</td>\n",
              "      <td>0.467087</td>\n",
              "      <td>0.600099</td>\n",
              "      <td>0.587618</td>\n",
              "      <td>0.419289</td>\n",
              "      <td>1.000000</td>\n",
              "    </tr>\n",
              "  </tbody>\n",
              "</table>\n",
              "</div>"
            ],
            "text/plain": [
              "           년도       선수명         팀  ...       STL        BS        PF\n",
              "년도   1.000000  0.008994 -0.018923  ...  0.024889  0.024096 -0.019742\n",
              "선수명  0.008994  1.000000 -0.020410  ...  0.013047  0.061381  0.034678\n",
              "팀   -0.018923 -0.020410  1.000000  ... -0.012872 -0.005673  0.019562\n",
              "PTS  0.060731  0.023166 -0.006177  ...  0.679817  0.604538  0.618119\n",
              "FG   0.056958  0.021009 -0.006171  ...  0.656384  0.640153  0.610150\n",
              "FGA  0.021889  0.025387  0.000321  ...  0.599211  0.679398  0.582317\n",
              "FG%  0.008414  0.029163 -0.001142  ...  0.362885  0.275708  0.419191\n",
              "FT   0.021942  0.039550 -0.001992  ...  0.614303  0.525621  0.543493\n",
              "FTA  0.021874  0.047102  0.009073  ...  0.608291  0.573850  0.558173\n",
              "FT% -0.076854  0.002015 -0.020612  ...  0.387011  0.175380  0.464840\n",
              "PP   0.049417  0.026334  0.003286  ...  0.548882  0.691389  0.541385\n",
              "PPA  0.054958  0.030275  0.002033  ...  0.571966  0.682582  0.558934\n",
              "PP% -0.004665  0.019733  0.018641  ...  0.335208  0.244026  0.408707\n",
              "OFF  0.053697  0.067585  0.027517  ...  0.465514  0.661517  0.552237\n",
              "DEF  0.062144  0.025737  0.016317  ...  0.568390  0.744608  0.597095\n",
              "TOT  0.062318  0.040600  0.021383  ...  0.554541  0.744310  0.604389\n",
              "AST  0.054992 -0.008825 -0.024179  ...  0.707600  0.208004  0.467087\n",
              "TO   0.007799  0.004629  0.019710  ...  0.693480  0.507733  0.600099\n",
              "STL  0.024889  0.013047 -0.012872  ...  1.000000  0.329862  0.587618\n",
              "BS   0.024096  0.061381 -0.005673  ...  0.329862  1.000000  0.419289\n",
              "PF  -0.019742  0.034678  0.019562  ...  0.587618  0.419289  1.000000\n",
              "\n",
              "[21 rows x 21 columns]"
            ]
          },
          "metadata": {},
          "execution_count": 59
        }
      ]
    },
    {
      "cell_type": "code",
      "metadata": {
        "id": "8mKqKboPrhLr"
      },
      "source": [
        "import seaborn as sns"
      ],
      "execution_count": 11,
      "outputs": []
    },
    {
      "cell_type": "code",
      "metadata": {
        "colab": {
          "base_uri": "https://localhost:8080/",
          "height": 708
        },
        "id": "fGwtJjvnmylN",
        "outputId": "4ec0065d-c077-4918-a17d-d769b9c4d8e8"
      },
      "source": [
        "heatmap_data=Data[['PTS', 'FG', 'FGA', 'FT', 'FTA', 'PP', 'PPA', 'TOT', 'TO']]\n",
        "plt.figure(figsize=(14, 12))\n",
        "plt.title('Pearson Correlation of Features')\n",
        "sns.heatmap(heatmap_data.astype(float).corr(), linewidths=0.1, vmax=1.0, square=True, annot=True)"
      ],
      "execution_count": 18,
      "outputs": [
        {
          "output_type": "execute_result",
          "data": {
            "text/plain": [
              "<matplotlib.axes._subplots.AxesSubplot at 0x7fa9b677f950>"
            ]
          },
          "metadata": {},
          "execution_count": 18
        },
        {
          "output_type": "display_data",
          "data": {
            "image/png": "[encoded data removed]",
            "text/plain": [
              "<Figure size 1008x864 with 2 Axes>"
            ]
          },
          "metadata": {
            "needs_background": "light"
          }
        }
      ]
    },
    {
      "cell_type": "markdown",
      "metadata": {
        "id": "7ema06_cCS1d"
      },
      "source": [
        "#데이터 split"
      ]
    },
    {
      "cell_type": "code",
      "metadata": {
        "id": "1z7OSdGFr0Cn"
      },
      "source": [
        "X_data=Data.drop('PTS', axis=1)\n",
        "y_data=Data['PTS']"
      ],
      "execution_count": 12,
      "outputs": []
    },
    {
      "cell_type": "code",
      "metadata": {
        "id": "enCv5nx4tx8b"
      },
      "source": [
        "X_train, X_test, y_train, y_test=train_test_split(X_data, y_data, test_size=0.3)"
      ],
      "execution_count": 13,
      "outputs": []
    },
    {
      "cell_type": "code",
      "metadata": {
        "colab": {
          "base_uri": "https://localhost:8080/"
        },
        "id": "dVZDFkLXuZX_",
        "outputId": "f522171b-4793-4a0c-a508-0d6908524625"
      },
      "source": [
        "print(X_train.shape, X_test.shape, y_train.shape, y_test.shape)"
      ],
      "execution_count": 14,
      "outputs": [
        {
          "output_type": "stream",
          "name": "stdout",
          "text": [
            "(1265, 20) (543, 20) (1265,) (543,)\n"
          ]
        }
      ]
    },
    {
      "cell_type": "markdown",
      "metadata": {
        "id": "9TohZYP-Cb2-"
      },
      "source": [
        "#sklearn PCA\n",
        "scaling한 후 PCA를 통해 8개의 주성분 분석"
      ]
    },
    {
      "cell_type": "code",
      "metadata": {
        "colab": {
          "base_uri": "https://localhost:8080/",
          "height": 204
        },
        "id": "g3XadjPMueeZ",
        "outputId": "01a0e7de-71e9-4b2d-e402-81a2cade258f"
      },
      "source": [
        "from sklearn.preprocessing import scale\n",
        "X_scale=pd.DataFrame(scale(X_data), columns=X_data.columns)\n",
        "X_scale.head()"
      ],
      "execution_count": 15,
      "outputs": [
        {
          "output_type": "execute_result",
          "data": {
            "text/html": [
              "<div>\n",
              "<style scoped>\n",
              "    .dataframe tbody tr th:only-of-type {\n",
              "        vertical-align: middle;\n",
              "    }\n",
              "\n",
              "    .dataframe tbody tr th {\n",
              "        vertical-align: top;\n",
              "    }\n",
              "\n",
              "    .dataframe thead th {\n",
              "        text-align: right;\n",
              "    }\n",
              "</style>\n",
              "<table border=\"1\" class=\"dataframe\">\n",
              "  <thead>\n",
              "    <tr style=\"text-align: right;\">\n",
              "      <th></th>\n",
              "      <th>년도</th>\n",
              "      <th>선수명</th>\n",
              "      <th>팀</th>\n",
              "      <th>FG</th>\n",
              "      <th>FGA</th>\n",
              "      <th>FG%</th>\n",
              "      <th>FT</th>\n",
              "      <th>FTA</th>\n",
              "      <th>FT%</th>\n",
              "      <th>PP</th>\n",
              "      <th>PPA</th>\n",
              "      <th>PP%</th>\n",
              "      <th>OFF</th>\n",
              "      <th>DEF</th>\n",
              "      <th>TOT</th>\n",
              "      <th>AST</th>\n",
              "      <th>TO</th>\n",
              "      <th>STL</th>\n",
              "      <th>BS</th>\n",
              "      <th>PF</th>\n",
              "    </tr>\n",
              "  </thead>\n",
              "  <tbody>\n",
              "    <tr>\n",
              "      <th>0</th>\n",
              "      <td>-1.598831</td>\n",
              "      <td>1.005508</td>\n",
              "      <td>-1.165985</td>\n",
              "      <td>2.337262</td>\n",
              "      <td>2.192710</td>\n",
              "      <td>0.468125</td>\n",
              "      <td>2.238275</td>\n",
              "      <td>1.730816</td>\n",
              "      <td>0.929195</td>\n",
              "      <td>1.529536</td>\n",
              "      <td>1.418622</td>\n",
              "      <td>0.604057</td>\n",
              "      <td>0.987613</td>\n",
              "      <td>2.523699</td>\n",
              "      <td>2.056786</td>\n",
              "      <td>1.389502</td>\n",
              "      <td>1.706007</td>\n",
              "      <td>2.443589</td>\n",
              "      <td>-0.042643</td>\n",
              "      <td>0.839255</td>\n",
              "    </tr>\n",
              "    <tr>\n",
              "      <th>1</th>\n",
              "      <td>-1.598831</td>\n",
              "      <td>0.061299</td>\n",
              "      <td>-0.721457</td>\n",
              "      <td>2.337262</td>\n",
              "      <td>2.716189</td>\n",
              "      <td>0.648375</td>\n",
              "      <td>2.814113</td>\n",
              "      <td>2.358759</td>\n",
              "      <td>0.798856</td>\n",
              "      <td>2.056268</td>\n",
              "      <td>1.990085</td>\n",
              "      <td>0.577562</td>\n",
              "      <td>1.995544</td>\n",
              "      <td>2.195267</td>\n",
              "      <td>2.209320</td>\n",
              "      <td>0.853831</td>\n",
              "      <td>1.052962</td>\n",
              "      <td>1.379368</td>\n",
              "      <td>1.905677</td>\n",
              "      <td>0.355322</td>\n",
              "    </tr>\n",
              "    <tr>\n",
              "      <th>2</th>\n",
              "      <td>-1.598831</td>\n",
              "      <td>-0.764102</td>\n",
              "      <td>-1.462337</td>\n",
              "      <td>2.157932</td>\n",
              "      <td>2.192710</td>\n",
              "      <td>0.952224</td>\n",
              "      <td>3.389952</td>\n",
              "      <td>2.847159</td>\n",
              "      <td>0.817930</td>\n",
              "      <td>2.758577</td>\n",
              "      <td>2.525832</td>\n",
              "      <td>0.674709</td>\n",
              "      <td>3.563436</td>\n",
              "      <td>3.071086</td>\n",
              "      <td>3.353326</td>\n",
              "      <td>0.241636</td>\n",
              "      <td>2.228442</td>\n",
              "      <td>2.230745</td>\n",
              "      <td>1.349014</td>\n",
              "      <td>1.686139</td>\n",
              "    </tr>\n",
              "    <tr>\n",
              "      <th>3</th>\n",
              "      <td>-1.598831</td>\n",
              "      <td>-0.745343</td>\n",
              "      <td>0.908480</td>\n",
              "      <td>2.292429</td>\n",
              "      <td>2.330468</td>\n",
              "      <td>0.638075</td>\n",
              "      <td>1.662436</td>\n",
              "      <td>1.661045</td>\n",
              "      <td>0.496850</td>\n",
              "      <td>2.348897</td>\n",
              "      <td>2.132951</td>\n",
              "      <td>0.740946</td>\n",
              "      <td>0.763629</td>\n",
              "      <td>1.976313</td>\n",
              "      <td>1.675450</td>\n",
              "      <td>0.700782</td>\n",
              "      <td>1.575398</td>\n",
              "      <td>0.953679</td>\n",
              "      <td>1.627346</td>\n",
              "      <td>0.597288</td>\n",
              "    </tr>\n",
              "    <tr>\n",
              "      <th>4</th>\n",
              "      <td>-1.598831</td>\n",
              "      <td>1.730860</td>\n",
              "      <td>-0.276929</td>\n",
              "      <td>2.382094</td>\n",
              "      <td>2.716189</td>\n",
              "      <td>0.725625</td>\n",
              "      <td>2.046329</td>\n",
              "      <td>2.428530</td>\n",
              "      <td>0.245708</td>\n",
              "      <td>2.348897</td>\n",
              "      <td>1.990085</td>\n",
              "      <td>0.807182</td>\n",
              "      <td>1.323590</td>\n",
              "      <td>2.085790</td>\n",
              "      <td>1.904251</td>\n",
              "      <td>-0.064462</td>\n",
              "      <td>1.836615</td>\n",
              "      <td>1.379368</td>\n",
              "      <td>1.627346</td>\n",
              "      <td>0.476305</td>\n",
              "    </tr>\n",
              "  </tbody>\n",
              "</table>\n",
              "</div>"
            ],
            "text/plain": [
              "         년도       선수명         팀  ...       STL        BS        PF\n",
              "0 -1.598831  1.005508 -1.165985  ...  2.443589 -0.042643  0.839255\n",
              "1 -1.598831  0.061299 -0.721457  ...  1.379368  1.905677  0.355322\n",
              "2 -1.598831 -0.764102 -1.462337  ...  2.230745  1.349014  1.686139\n",
              "3 -1.598831 -0.745343  0.908480  ...  0.953679  1.627346  0.597288\n",
              "4 -1.598831  1.730860 -0.276929  ...  1.379368  1.627346  0.476305\n",
              "\n",
              "[5 rows x 20 columns]"
            ]
          },
          "metadata": {},
          "execution_count": 15
        }
      ]
    },
    {
      "cell_type": "code",
      "metadata": {
        "colab": {
          "base_uri": "https://localhost:8080/"
        },
        "id": "K-eOBiHQwQz_",
        "outputId": "910b0b9d-4268-4e7e-dad3-c8d69dff7f28"
      },
      "source": [
        "from sklearn.decomposition import PCA\n",
        "pca=PCA(n_components=8)\n",
        "X_pca=pca.fit_transform(X_scale)\n",
        "print(\"원본 데이터: {}\".format(str(X_data.shape)))\n",
        "print(\"축소된 데이터: {}\".format(str(X_pca.shape)))"
      ],
      "execution_count": 16,
      "outputs": [
        {
          "output_type": "stream",
          "name": "stdout",
          "text": [
            "원본 데이터: (1808, 20)\n",
            "축소된 데이터: (1808, 8)\n"
          ]
        }
      ]
    },
    {
      "cell_type": "code",
      "metadata": {
        "colab": {
          "base_uri": "https://localhost:8080/"
        },
        "id": "s9GGv2EI0i5Y",
        "outputId": "013b0420-40f1-4b93-d3ae-a7bfce5275da"
      },
      "source": [
        "pca.explained_variance_ratio_"
      ],
      "execution_count": null,
      "outputs": [
        {
          "output_type": "execute_result",
          "data": {
            "text/plain": [
              "array([0.54192277, 0.09223216, 0.06487644, 0.05185028, 0.05029971,\n",
              "       0.04852267, 0.03187388, 0.02919714])"
            ]
          },
          "metadata": {},
          "execution_count": 102
        }
      ]
    },
    {
      "cell_type": "code",
      "metadata": {
        "colab": {
          "base_uri": "https://localhost:8080/"
        },
        "id": "JzI1TyNm0Z60",
        "outputId": "4274f09c-3f80-4dd5-a474-d596ec3bb7e7"
      },
      "source": [
        "sum(pca.explained_variance_ratio_)"
      ],
      "execution_count": null,
      "outputs": [
        {
          "output_type": "execute_result",
          "data": {
            "text/plain": [
              "0.9107750493759977"
            ]
          },
          "metadata": {},
          "execution_count": 103
        }
      ]
    },
    {
      "cell_type": "code",
      "metadata": {
        "colab": {
          "base_uri": "https://localhost:8080/"
        },
        "id": "0-7WvnEfySSS",
        "outputId": "029b6cc2-da0b-4747-aec0-eb3e03a44b8c"
      },
      "source": [
        "print(\"PCA 주성분 형태: {}\".format(pca.components_.shape))"
      ],
      "execution_count": null,
      "outputs": [
        {
          "output_type": "stream",
          "name": "stdout",
          "text": [
            "PCA 주성분 형태: (8, 20)\n"
          ]
        }
      ]
    },
    {
      "cell_type": "code",
      "metadata": {
        "colab": {
          "base_uri": "https://localhost:8080/",
          "height": 279
        },
        "id": "LLcBmxgeyUhD",
        "outputId": "3c323ab6-f57b-4b6a-a5aa-aa4c84159f26"
      },
      "source": [
        "plt.plot(pca.explained_variance_ratio_)\n",
        "plt.xlabel('Number of compoenets')\n",
        "plt.ylabel('explained variance')\n",
        "plt.show()"
      ],
      "execution_count": null,
      "outputs": [
        {
          "output_type": "display_data",
          "data": {
            "image/png": "[encoded data removed]",
            "text/plain": [
              "<Figure size 432x288 with 1 Axes>"
            ]
          },
          "metadata": {
            "needs_background": "light"
          }
        }
      ]
    },
    {
      "cell_type": "markdown",
      "metadata": {
        "id": "ZKyIx2V_Ct6g"
      },
      "source": [
        "components의 variance가 0.9보다 큰 n_components 찾음"
      ]
    },
    {
      "cell_type": "code",
      "metadata": {
        "colab": {
          "base_uri": "https://localhost:8080/"
        },
        "id": "jmn2q8lOzI2o",
        "outputId": "150f0da0-50c1-4e9a-d2a7-8b7cb7fe8d08"
      },
      "source": [
        "pca=PCA(n_components=0.9)\n",
        "pca.fit(X_scale)"
      ],
      "execution_count": null,
      "outputs": [
        {
          "output_type": "execute_result",
          "data": {
            "text/plain": [
              "PCA(copy=True, iterated_power='auto', n_components=0.9, random_state=None,\n",
              "    svd_solver='auto', tol=0.0, whiten=False)"
            ]
          },
          "metadata": {},
          "execution_count": 109
        }
      ]
    },
    {
      "cell_type": "code",
      "metadata": {
        "colab": {
          "base_uri": "https://localhost:8080/"
        },
        "id": "HDpAc6QGzPfY",
        "outputId": "29e835be-c518-4d43-b4f1-a363bfff7325"
      },
      "source": [
        "pca.n_components_"
      ],
      "execution_count": null,
      "outputs": [
        {
          "output_type": "execute_result",
          "data": {
            "text/plain": [
              "8"
            ]
          },
          "metadata": {},
          "execution_count": 110
        }
      ]
    },
    {
      "cell_type": "markdown",
      "metadata": {
        "id": "zodQ94LIESwy"
      },
      "source": [
        "PCA components와 다른 특성들과의  PCA explained variance"
      ]
    },
    {
      "cell_type": "code",
      "metadata": {
        "colab": {
          "base_uri": "https://localhost:8080/",
          "height": 943
        },
        "id": "MTLxOwqL3At7",
        "outputId": "fb88153d-2078-4275-de6f-068a81f15942"
      },
      "source": [
        "Dimensions=['Dimension {}'.format(i) for i in range(1, pca.n_components_+1)]\n",
        "\n",
        "components=pd.DataFrame(np.round(pca.components_, 8), columns=X_data.keys())\n",
        "components.index=Dimensions\n",
        "\n",
        "ratios=pca.explained_variance_ratio_.reshape(pca.n_components_, 1)\n",
        "variance_ratios=pd.DataFrame(np.round(ratios, 8), columns=['Explained Variance'])\n",
        "variance_ratios.index=Dimensions\n",
        "\n",
        "fig, ax=plt.subplots(figsize=(14, 8))\n",
        "\n",
        "components.plot(ax=ax, kind='bar')\n",
        "ax.set_ylabel(\"Feature Weights\")\n",
        "ax.set_xticklabels(Dimensions, rotation=0)\n",
        "\n",
        "for i, var in enumerate(pca.explained_variance_ratio_):\n",
        "  ax.text(i-0.40, ax.get_ylim()[1]+0.05, \"Explained Variance\\n %.4f\"%(var))\n",
        "\n",
        "pca_results=pd.concat([variance_ratios, components], axis=1)"
      ],
      "execution_count": null,
      "outputs": [
        {
          "output_type": "stream",
          "name": "stderr",
          "text": [
            "/usr/local/lib/python3.7/dist-packages/matplotlib/backends/backend_agg.py:214: RuntimeWarning: Glyph 45380 missing from current font.\n",
            "  font.set_text(s, 0.0, flags=flags)\n",
            "/usr/local/lib/python3.7/dist-packages/matplotlib/backends/backend_agg.py:214: RuntimeWarning: Glyph 46020 missing from current font.\n",
            "  font.set_text(s, 0.0, flags=flags)\n",
            "/usr/local/lib/python3.7/dist-packages/matplotlib/backends/backend_agg.py:214: RuntimeWarning: Glyph 49440 missing from current font.\n",
            "  font.set_text(s, 0.0, flags=flags)\n",
            "/usr/local/lib/python3.7/dist-packages/matplotlib/backends/backend_agg.py:214: RuntimeWarning: Glyph 49688 missing from current font.\n",
            "  font.set_text(s, 0.0, flags=flags)\n",
            "/usr/local/lib/python3.7/dist-packages/matplotlib/backends/backend_agg.py:214: RuntimeWarning: Glyph 47749 missing from current font.\n",
            "  font.set_text(s, 0.0, flags=flags)\n",
            "/usr/local/lib/python3.7/dist-packages/matplotlib/backends/backend_agg.py:214: RuntimeWarning: Glyph 54016 missing from current font.\n",
            "  font.set_text(s, 0.0, flags=flags)\n",
            "/usr/local/lib/python3.7/dist-packages/matplotlib/backends/backend_agg.py:183: RuntimeWarning: Glyph 45380 missing from current font.\n",
            "  font.set_text(s, 0, flags=flags)\n",
            "/usr/local/lib/python3.7/dist-packages/matplotlib/backends/backend_agg.py:183: RuntimeWarning: Glyph 46020 missing from current font.\n",
            "  font.set_text(s, 0, flags=flags)\n",
            "/usr/local/lib/python3.7/dist-packages/matplotlib/backends/backend_agg.py:183: RuntimeWarning: Glyph 49440 missing from current font.\n",
            "  font.set_text(s, 0, flags=flags)\n",
            "/usr/local/lib/python3.7/dist-packages/matplotlib/backends/backend_agg.py:183: RuntimeWarning: Glyph 49688 missing from current font.\n",
            "  font.set_text(s, 0, flags=flags)\n",
            "/usr/local/lib/python3.7/dist-packages/matplotlib/backends/backend_agg.py:183: RuntimeWarning: Glyph 47749 missing from current font.\n",
            "  font.set_text(s, 0, flags=flags)\n",
            "/usr/local/lib/python3.7/dist-packages/matplotlib/backends/backend_agg.py:183: RuntimeWarning: Glyph 54016 missing from current font.\n",
            "  font.set_text(s, 0, flags=flags)\n"
          ]
        },
        {
          "output_type": "display_data",
          "data": {
            "image/png": "[encoded data removed]",
            "text/plain": [
              "<Figure size 1008x576 with 1 Axes>"
            ]
          },
          "metadata": {
            "needs_background": "light"
          }
        }
      ]
    },
    {
      "cell_type": "code",
      "metadata": {
        "colab": {
          "base_uri": "https://localhost:8080/",
          "height": 468
        },
        "id": "qJbZMO9r3UNz",
        "outputId": "335d69c4-ddb3-42bd-a13f-a618ca85b9b7"
      },
      "source": [
        "pca_results.cumsum()"
      ],
      "execution_count": null,
      "outputs": [
        {
          "output_type": "execute_result",
          "data": {
            "text/html": [
              "<div>\n",
              "<style scoped>\n",
              "    .dataframe tbody tr th:only-of-type {\n",
              "        vertical-align: middle;\n",
              "    }\n",
              "\n",
              "    .dataframe tbody tr th {\n",
              "        vertical-align: top;\n",
              "    }\n",
              "\n",
              "    .dataframe thead th {\n",
              "        text-align: right;\n",
              "    }\n",
              "</style>\n",
              "<table border=\"1\" class=\"dataframe\">\n",
              "  <thead>\n",
              "    <tr style=\"text-align: right;\">\n",
              "      <th></th>\n",
              "      <th>Explained Variance</th>\n",
              "      <th>년도</th>\n",
              "      <th>선수명</th>\n",
              "      <th>팀</th>\n",
              "      <th>FG</th>\n",
              "      <th>FGA</th>\n",
              "      <th>FG%</th>\n",
              "      <th>FT</th>\n",
              "      <th>FTA</th>\n",
              "      <th>FT%</th>\n",
              "      <th>PP</th>\n",
              "      <th>PPA</th>\n",
              "      <th>PP%</th>\n",
              "      <th>OFF</th>\n",
              "      <th>DEF</th>\n",
              "      <th>TOT</th>\n",
              "      <th>AST</th>\n",
              "      <th>TO</th>\n",
              "      <th>STL</th>\n",
              "      <th>BS</th>\n",
              "      <th>PF</th>\n",
              "    </tr>\n",
              "  </thead>\n",
              "  <tbody>\n",
              "    <tr>\n",
              "      <th>Dimension 1</th>\n",
              "      <td>0.541923</td>\n",
              "      <td>0.012384</td>\n",
              "      <td>0.012131</td>\n",
              "      <td>0.001960</td>\n",
              "      <td>0.290807</td>\n",
              "      <td>0.289293</td>\n",
              "      <td>0.154506</td>\n",
              "      <td>0.267678</td>\n",
              "      <td>0.274708</td>\n",
              "      <td>0.137634</td>\n",
              "      <td>0.284523</td>\n",
              "      <td>0.286344</td>\n",
              "      <td>0.142404</td>\n",
              "      <td>0.252528</td>\n",
              "      <td>0.282462</td>\n",
              "      <td>0.282849</td>\n",
              "      <td>0.184000</td>\n",
              "      <td>0.255087</td>\n",
              "      <td>0.214419</td>\n",
              "      <td>0.212509</td>\n",
              "      <td>0.211328</td>\n",
              "    </tr>\n",
              "    <tr>\n",
              "      <th>Dimension 2</th>\n",
              "      <td>0.634155</td>\n",
              "      <td>0.098772</td>\n",
              "      <td>0.037855</td>\n",
              "      <td>0.015255</td>\n",
              "      <td>0.334072</td>\n",
              "      <td>0.418748</td>\n",
              "      <td>-0.326601</td>\n",
              "      <td>0.312009</td>\n",
              "      <td>0.357659</td>\n",
              "      <td>-0.282091</td>\n",
              "      <td>0.430618</td>\n",
              "      <td>0.443992</td>\n",
              "      <td>-0.364907</td>\n",
              "      <td>0.432015</td>\n",
              "      <td>0.418172</td>\n",
              "      <td>0.438568</td>\n",
              "      <td>-0.053197</td>\n",
              "      <td>0.190443</td>\n",
              "      <td>0.025672</td>\n",
              "      <td>0.424772</td>\n",
              "      <td>0.018913</td>\n",
              "    </tr>\n",
              "    <tr>\n",
              "      <th>Dimension 3</th>\n",
              "      <td>0.699031</td>\n",
              "      <td>0.094814</td>\n",
              "      <td>-0.116113</td>\n",
              "      <td>-0.068190</td>\n",
              "      <td>0.377724</td>\n",
              "      <td>0.412480</td>\n",
              "      <td>-0.710116</td>\n",
              "      <td>0.474461</td>\n",
              "      <td>0.468467</td>\n",
              "      <td>-0.222520</td>\n",
              "      <td>0.334379</td>\n",
              "      <td>0.393619</td>\n",
              "      <td>-0.756843</td>\n",
              "      <td>0.203570</td>\n",
              "      <td>0.319481</td>\n",
              "      <td>0.292581</td>\n",
              "      <td>0.451504</td>\n",
              "      <td>0.461375</td>\n",
              "      <td>0.382531</td>\n",
              "      <td>0.157903</td>\n",
              "      <td>0.071089</td>\n",
              "    </tr>\n",
              "    <tr>\n",
              "      <th>Dimension 4</th>\n",
              "      <td>0.750882</td>\n",
              "      <td>0.738040</td>\n",
              "      <td>0.285497</td>\n",
              "      <td>-0.701493</td>\n",
              "      <td>0.389789</td>\n",
              "      <td>0.387524</td>\n",
              "      <td>-0.644318</td>\n",
              "      <td>0.459921</td>\n",
              "      <td>0.448423</td>\n",
              "      <td>-0.286208</td>\n",
              "      <td>0.328978</td>\n",
              "      <td>0.389903</td>\n",
              "      <td>-0.717377</td>\n",
              "      <td>0.189884</td>\n",
              "      <td>0.307630</td>\n",
              "      <td>0.279585</td>\n",
              "      <td>0.535884</td>\n",
              "      <td>0.439715</td>\n",
              "      <td>0.427964</td>\n",
              "      <td>0.148183</td>\n",
              "      <td>0.023278</td>\n",
              "    </tr>\n",
              "    <tr>\n",
              "      <th>Dimension 5</th>\n",
              "      <td>0.801181</td>\n",
              "      <td>1.416768</td>\n",
              "      <td>-0.324215</td>\n",
              "      <td>-0.356060</td>\n",
              "      <td>0.410192</td>\n",
              "      <td>0.375678</td>\n",
              "      <td>-0.551680</td>\n",
              "      <td>0.407008</td>\n",
              "      <td>0.402470</td>\n",
              "      <td>-0.410666</td>\n",
              "      <td>0.351836</td>\n",
              "      <td>0.403580</td>\n",
              "      <td>-0.622343</td>\n",
              "      <td>0.186811</td>\n",
              "      <td>0.332619</td>\n",
              "      <td>0.296815</td>\n",
              "      <td>0.585760</td>\n",
              "      <td>0.445405</td>\n",
              "      <td>0.435189</td>\n",
              "      <td>0.104892</td>\n",
              "      <td>-0.036703</td>\n",
              "    </tr>\n",
              "    <tr>\n",
              "      <th>Dimension 6</th>\n",
              "      <td>0.849704</td>\n",
              "      <td>1.660669</td>\n",
              "      <td>0.335442</td>\n",
              "      <td>0.326418</td>\n",
              "      <td>0.392146</td>\n",
              "      <td>0.337572</td>\n",
              "      <td>-0.584941</td>\n",
              "      <td>0.422920</td>\n",
              "      <td>0.420603</td>\n",
              "      <td>-0.450414</td>\n",
              "      <td>0.305123</td>\n",
              "      <td>0.368858</td>\n",
              "      <td>-0.650671</td>\n",
              "      <td>0.177517</td>\n",
              "      <td>0.305184</td>\n",
              "      <td>0.275015</td>\n",
              "      <td>0.691140</td>\n",
              "      <td>0.497395</td>\n",
              "      <td>0.524375</td>\n",
              "      <td>0.038126</td>\n",
              "      <td>0.016403</td>\n",
              "    </tr>\n",
              "    <tr>\n",
              "      <th>Dimension 7</th>\n",
              "      <td>0.881578</td>\n",
              "      <td>1.436576</td>\n",
              "      <td>0.376497</td>\n",
              "      <td>0.310571</td>\n",
              "      <td>0.461156</td>\n",
              "      <td>0.387494</td>\n",
              "      <td>-0.320004</td>\n",
              "      <td>0.351909</td>\n",
              "      <td>0.399654</td>\n",
              "      <td>-1.181183</td>\n",
              "      <td>0.419386</td>\n",
              "      <td>0.440587</td>\n",
              "      <td>-0.427659</td>\n",
              "      <td>0.060904</td>\n",
              "      <td>0.260828</td>\n",
              "      <td>0.204107</td>\n",
              "      <td>0.942456</td>\n",
              "      <td>0.664530</td>\n",
              "      <td>0.664287</td>\n",
              "      <td>-0.027918</td>\n",
              "      <td>-0.340436</td>\n",
              "    </tr>\n",
              "    <tr>\n",
              "      <th>Dimension 8</th>\n",
              "      <td>0.910775</td>\n",
              "      <td>1.473282</td>\n",
              "      <td>0.411751</td>\n",
              "      <td>0.353941</td>\n",
              "      <td>0.576145</td>\n",
              "      <td>0.491953</td>\n",
              "      <td>-0.267011</td>\n",
              "      <td>0.751630</td>\n",
              "      <td>0.728183</td>\n",
              "      <td>-0.895049</td>\n",
              "      <td>0.542453</td>\n",
              "      <td>0.551117</td>\n",
              "      <td>-0.370488</td>\n",
              "      <td>-0.100264</td>\n",
              "      <td>0.164603</td>\n",
              "      <td>0.082338</td>\n",
              "      <td>0.864972</td>\n",
              "      <td>0.605624</td>\n",
              "      <td>0.357943</td>\n",
              "      <td>-0.319273</td>\n",
              "      <td>-0.932132</td>\n",
              "    </tr>\n",
              "  </tbody>\n",
              "</table>\n",
              "</div>"
            ],
            "text/plain": [
              "             Explained Variance        년도  ...        BS        PF\n",
              "Dimension 1            0.541923  0.012384  ...  0.212509  0.211328\n",
              "Dimension 2            0.634155  0.098772  ...  0.424772  0.018913\n",
              "Dimension 3            0.699031  0.094814  ...  0.157903  0.071089\n",
              "Dimension 4            0.750882  0.738040  ...  0.148183  0.023278\n",
              "Dimension 5            0.801181  1.416768  ...  0.104892 -0.036703\n",
              "Dimension 6            0.849704  1.660669  ...  0.038126  0.016403\n",
              "Dimension 7            0.881578  1.436576  ... -0.027918 -0.340436\n",
              "Dimension 8            0.910775  1.473282  ... -0.319273 -0.932132\n",
              "\n",
              "[8 rows x 21 columns]"
            ]
          },
          "metadata": {},
          "execution_count": 119
        }
      ]
    },
    {
      "cell_type": "markdown",
      "metadata": {
        "id": "luYPlC_ZFqjb"
      },
      "source": [
        "#비지도학습 KMeans\n",
        "PCA 데이터로 KMeans"
      ]
    },
    {
      "cell_type": "code",
      "metadata": {
        "colab": {
          "base_uri": "https://localhost:8080/"
        },
        "id": "l_QXf-Sg5wpR",
        "outputId": "1885a895-f35c-4c3a-85a4-992690434263"
      },
      "source": [
        "from sklearn.cluster import KMeans\n",
        "km=KMeans(n_clusters=5)\n",
        "km.fit(X_pca)\n",
        "print(np.unique(km.labels_, return_counts=True))"
      ],
      "execution_count": 23,
      "outputs": [
        {
          "output_type": "stream",
          "name": "stdout",
          "text": [
            "(array([0, 1, 2, 3, 4], dtype=int32), array([274, 306, 136, 258, 834]))\n"
          ]
        }
      ]
    },
    {
      "cell_type": "code",
      "metadata": {
        "colab": {
          "base_uri": "https://localhost:8080/"
        },
        "id": "YprVwW1i8RHH",
        "outputId": "aa2156b1-9843-4e46-c41d-b911bb6853b9"
      },
      "source": [
        "!pip install mglearn"
      ],
      "execution_count": 21,
      "outputs": [
        {
          "output_type": "stream",
          "name": "stdout",
          "text": [
            "Collecting mglearn\n",
            "  Downloading mglearn-0.1.9.tar.gz (540 kB)\n",
            "\u001b[?25l\r\u001b[K     |▋                               | 10 kB 9.6 MB/s eta 0:00:01\r\u001b[K     |█▏                              | 20 kB 14.8 MB/s eta 0:00:01\r\u001b[K     |█▉                              | 30 kB 12.7 MB/s eta 0:00:01\r\u001b[K     |██▍                             | 40 kB 10.1 MB/s eta 0:00:01\r\u001b[K     |███                             | 51 kB 5.5 MB/s eta 0:00:01\r\u001b[K     |███▋                            | 61 kB 5.1 MB/s eta 0:00:01\r\u001b[K     |████▎                           | 71 kB 5.5 MB/s eta 0:00:01\r\u001b[K     |████▉                           | 81 kB 6.0 MB/s eta 0:00:01\r\u001b[K     |█████▌                          | 92 kB 4.8 MB/s eta 0:00:01\r\u001b[K     |██████                          | 102 kB 5.2 MB/s eta 0:00:01\r\u001b[K     |██████▊                         | 112 kB 5.2 MB/s eta 0:00:01\r\u001b[K     |███████▎                        | 122 kB 5.2 MB/s eta 0:00:01\r\u001b[K     |███████▉                        | 133 kB 5.2 MB/s eta 0:00:01\r\u001b[K     |████████▌                       | 143 kB 5.2 MB/s eta 0:00:01\r\u001b[K     |█████████                       | 153 kB 5.2 MB/s eta 0:00:01\r\u001b[K     |█████████▊                      | 163 kB 5.2 MB/s eta 0:00:01\r\u001b[K     |██████████▎                     | 174 kB 5.2 MB/s eta 0:00:01\r\u001b[K     |███████████                     | 184 kB 5.2 MB/s eta 0:00:01\r\u001b[K     |███████████▌                    | 194 kB 5.2 MB/s eta 0:00:01\r\u001b[K     |████████████▏                   | 204 kB 5.2 MB/s eta 0:00:01\r\u001b[K     |████████████▊                   | 215 kB 5.2 MB/s eta 0:00:01\r\u001b[K     |█████████████▍                  | 225 kB 5.2 MB/s eta 0:00:01\r\u001b[K     |██████████████                  | 235 kB 5.2 MB/s eta 0:00:01\r\u001b[K     |██████████████▋                 | 245 kB 5.2 MB/s eta 0:00:01\r\u001b[K     |███████████████▏                | 256 kB 5.2 MB/s eta 0:00:01\r\u001b[K     |███████████████▊                | 266 kB 5.2 MB/s eta 0:00:01\r\u001b[K     |████████████████▍               | 276 kB 5.2 MB/s eta 0:00:01\r\u001b[K     |█████████████████               | 286 kB 5.2 MB/s eta 0:00:01\r\u001b[K     |█████████████████▋              | 296 kB 5.2 MB/s eta 0:00:01\r\u001b[K     |██████████████████▏             | 307 kB 5.2 MB/s eta 0:00:01\r\u001b[K     |██████████████████▉             | 317 kB 5.2 MB/s eta 0:00:01\r\u001b[K     |███████████████████▍            | 327 kB 5.2 MB/s eta 0:00:01\r\u001b[K     |████████████████████            | 337 kB 5.2 MB/s eta 0:00:01\r\u001b[K     |████████████████████▋           | 348 kB 5.2 MB/s eta 0:00:01\r\u001b[K     |█████████████████████▎          | 358 kB 5.2 MB/s eta 0:00:01\r\u001b[K     |█████████████████████▉          | 368 kB 5.2 MB/s eta 0:00:01\r\u001b[K     |██████████████████████▌         | 378 kB 5.2 MB/s eta 0:00:01\r\u001b[K     |███████████████████████         | 389 kB 5.2 MB/s eta 0:00:01\r\u001b[K     |███████████████████████▋        | 399 kB 5.2 MB/s eta 0:00:01\r\u001b[K     |████████████████████████▎       | 409 kB 5.2 MB/s eta 0:00:01\r\u001b[K     |████████████████████████▉       | 419 kB 5.2 MB/s eta 0:00:01\r\u001b[K     |█████████████████████████▌      | 430 kB 5.2 MB/s eta 0:00:01\r\u001b[K     |██████████████████████████      | 440 kB 5.2 MB/s eta 0:00:01\r\u001b[K     |██████████████████████████▊     | 450 kB 5.2 MB/s eta 0:00:01\r\u001b[K     |███████████████████████████▎    | 460 kB 5.2 MB/s eta 0:00:01\r\u001b[K     |████████████████████████████    | 471 kB 5.2 MB/s eta 0:00:01\r\u001b[K     |████████████████████████████▌   | 481 kB 5.2 MB/s eta 0:00:01\r\u001b[K     |█████████████████████████████▏  | 491 kB 5.2 MB/s eta 0:00:01\r\u001b[K     |█████████████████████████████▊  | 501 kB 5.2 MB/s eta 0:00:01\r\u001b[K     |██████████████████████████████▍ | 512 kB 5.2 MB/s eta 0:00:01\r\u001b[K     |███████████████████████████████ | 522 kB 5.2 MB/s eta 0:00:01\r\u001b[K     |███████████████████████████████▌| 532 kB 5.2 MB/s eta 0:00:01\r\u001b[K     |████████████████████████████████| 540 kB 5.2 MB/s \n",
            "\u001b[?25hRequirement already satisfied: numpy in /usr/local/lib/python3.7/dist-packages (from mglearn) (1.19.5)\n",
            "Requirement already satisfied: matplotlib in /usr/local/lib/python3.7/dist-packages (from mglearn) (3.2.2)\n",
            "Requirement already satisfied: scikit-learn in /usr/local/lib/python3.7/dist-packages (from mglearn) (0.22.2.post1)\n",
            "Requirement already satisfied: pandas in /usr/local/lib/python3.7/dist-packages (from mglearn) (1.1.5)\n",
            "Requirement already satisfied: pillow in /usr/local/lib/python3.7/dist-packages (from mglearn) (7.1.2)\n",
            "Requirement already satisfied: cycler in /usr/local/lib/python3.7/dist-packages (from mglearn) (0.10.0)\n",
            "Requirement already satisfied: imageio in /usr/local/lib/python3.7/dist-packages (from mglearn) (2.4.1)\n",
            "Requirement already satisfied: joblib in /usr/local/lib/python3.7/dist-packages (from mglearn) (1.0.1)\n",
            "Requirement already satisfied: six in /usr/local/lib/python3.7/dist-packages (from cycler->mglearn) (1.15.0)\n",
            "Requirement already satisfied: pyparsing!=2.0.4,!=2.1.2,!=2.1.6,>=2.0.1 in /usr/local/lib/python3.7/dist-packages (from matplotlib->mglearn) (2.4.7)\n",
            "Requirement already satisfied: python-dateutil>=2.1 in /usr/local/lib/python3.7/dist-packages (from matplotlib->mglearn) (2.8.2)\n",
            "Requirement already satisfied: kiwisolver>=1.0.1 in /usr/local/lib/python3.7/dist-packages (from matplotlib->mglearn) (1.3.2)\n",
            "Requirement already satisfied: pytz>=2017.2 in /usr/local/lib/python3.7/dist-packages (from pandas->mglearn) (2018.9)\n",
            "Requirement already satisfied: scipy>=0.17.0 in /usr/local/lib/python3.7/dist-packages (from scikit-learn->mglearn) (1.4.1)\n",
            "Building wheels for collected packages: mglearn\n",
            "  Building wheel for mglearn (setup.py) ... \u001b[?25l\u001b[?25hdone\n",
            "  Created wheel for mglearn: filename=mglearn-0.1.9-py2.py3-none-any.whl size=582637 sha256=01e8ce1f601c3d6264e9afbbde8f268fa76341675153611ee9df1f708c9f59cf\n",
            "  Stored in directory: /root/.cache/pip/wheels/f1/17/e1/1720d6dcd70187b6b6c3750cb3508798f2b1d57c9d3214b08b\n",
            "Successfully built mglearn\n",
            "Installing collected packages: mglearn\n",
            "Successfully installed mglearn-0.1.9\n"
          ]
        }
      ]
    },
    {
      "cell_type": "code",
      "metadata": {
        "colab": {
          "base_uri": "https://localhost:8080/",
          "height": 283
        },
        "id": "8Ytzj9gO6RzS",
        "outputId": "41cd43cd-1157-4923-8b14-8891877ac027"
      },
      "source": [
        "import mglearn\n",
        "mglearn.discrete_scatter(X_pca[:, 0], X_pca[:, 1], km.labels_, markers='o')\n",
        "mglearn.discrete_scatter(km.cluster_centers_[:, 0], km.cluster_centers_[:, 1], markers='^')"
      ],
      "execution_count": 24,
      "outputs": [
        {
          "output_type": "execute_result",
          "data": {
            "text/plain": [
              "[<matplotlib.lines.Line2D at 0x7fa9b13c8a50>]"
            ]
          },
          "metadata": {},
          "execution_count": 24
        },
        {
          "output_type": "display_data",
          "data": {
            "image/png": "[encoded data removed]",
            "text/plain": [
              "<Figure size 432x288 with 1 Axes>"
            ]
          },
          "metadata": {
            "needs_background": "light"
          }
        }
      ]
    },
    {
      "cell_type": "code",
      "metadata": {
        "id": "8Bz2fsjI7DbO",
        "colab": {
          "base_uri": "https://localhost:8080/",
          "height": 283
        },
        "outputId": "a88df87c-32ec-4119-e622-07e7970e390d"
      },
      "source": [
        "mglearn.discrete_scatter(X_pca[:, 0], X_pca[:, 2], km.labels_, markers='o')\n",
        "mglearn.discrete_scatter(km.cluster_centers_[:, 0], km.cluster_centers_[:, 2], markers='^')"
      ],
      "execution_count": 36,
      "outputs": [
        {
          "output_type": "execute_result",
          "data": {
            "text/plain": [
              "[<matplotlib.lines.Line2D at 0x7fa9afc45510>]"
            ]
          },
          "metadata": {},
          "execution_count": 36
        },
        {
          "output_type": "display_data",
          "data": {
            "image/png": "[encoded data removed]",
            "text/plain": [
              "<Figure size 432x288 with 1 Axes>"
            ]
          },
          "metadata": {
            "needs_background": "light"
          }
        }
      ]
    },
    {
      "cell_type": "markdown",
      "metadata": {
        "id": "ZLHthPkhIIhW"
      },
      "source": [
        "기존 데이터로 KMeans"
      ]
    },
    {
      "cell_type": "code",
      "metadata": {
        "colab": {
          "base_uri": "https://localhost:8080/"
        },
        "id": "OvBl-ZAJHkc8",
        "outputId": "383ee4ca-2e59-4257-9b86-4afe09c97150"
      },
      "source": [
        "model=KMeans(n_clusters=5)\n",
        "model.fit(X_data)"
      ],
      "execution_count": 44,
      "outputs": [
        {
          "output_type": "execute_result",
          "data": {
            "text/plain": [
              "KMeans(algorithm='auto', copy_x=True, init='k-means++', max_iter=300,\n",
              "       n_clusters=5, n_init=10, n_jobs=None, precompute_distances='auto',\n",
              "       random_state=None, tol=0.0001, verbose=0)"
            ]
          },
          "metadata": {},
          "execution_count": 44
        }
      ]
    },
    {
      "cell_type": "code",
      "metadata": {
        "colab": {
          "base_uri": "https://localhost:8080/"
        },
        "id": "jS7ORrVYL5rm",
        "outputId": "f52d5da4-a10e-49af-db9c-cb7cb9c46222"
      },
      "source": [
        "print(np.unique(KM.labels_, return_counts=True))"
      ],
      "execution_count": 73,
      "outputs": [
        {
          "output_type": "stream",
          "name": "stdout",
          "text": [
            "(array([0, 1, 2, 3, 4], dtype=int32), array([474, 326, 288, 344, 376]))\n"
          ]
        }
      ]
    },
    {
      "cell_type": "code",
      "metadata": {
        "colab": {
          "base_uri": "https://localhost:8080/",
          "height": 279
        },
        "id": "xYGoVVsGIUsF",
        "outputId": "24f9ede5-0b48-4291-9ea3-b33f0edcdcc1"
      },
      "source": [
        "labels=model.labels_\n",
        "for label in labels:\n",
        "  plt.scatter(X_data[labels==label][X_data.columns[1]], X_data[labels==label][X_data.columns[3]])\n",
        "plt.xlabel(\"player\")\n",
        "plt.ylabel(X_data.columns[3])\n",
        "plt.show()"
      ],
      "execution_count": 74,
      "outputs": [
        {
          "output_type": "display_data",
          "data": {
            "image/png": "[encoded data removed]",
            "text/plain": [
              "<Figure size 432x288 with 1 Axes>"
            ]
          },
          "metadata": {
            "needs_background": "light"
          }
        }
      ]
    },
    {
      "cell_type": "markdown",
      "metadata": {
        "id": "EJsEo-AZPe0n"
      },
      "source": [
        "# AFFinityPropagation으로 clustering"
      ]
    },
    {
      "cell_type": "code",
      "metadata": {
        "id": "64PNCOOxJ0K9"
      },
      "source": [
        "from sklearn import cluster\n",
        "AP=cluster.AffinityPropagation()"
      ],
      "execution_count": 75,
      "outputs": []
    },
    {
      "cell_type": "code",
      "metadata": {
        "id": "2yqLlpYxMUiS"
      },
      "source": [
        "AP.fit(X_data)\n",
        "labels=AP.labels_"
      ],
      "execution_count": 77,
      "outputs": []
    },
    {
      "cell_type": "code",
      "metadata": {
        "colab": {
          "base_uri": "https://localhost:8080/"
        },
        "id": "auJBuprMMqiS",
        "outputId": "5e07bc09-d034-411d-8cfc-ea5c1f754cf9"
      },
      "source": [
        "print(np.unique(AP.labels_, return_counts=True))"
      ],
      "execution_count": 80,
      "outputs": [
        {
          "output_type": "stream",
          "name": "stdout",
          "text": [
            "(array([ 0,  1,  2,  3,  4,  5,  6,  7,  8,  9, 10, 11, 12, 13, 14, 15, 16,\n",
            "       17, 18, 19, 20, 21, 22, 23, 24, 25, 26, 27, 28]), array([ 93, 104, 131,  81,  23,  31,  39,  20,  30,  80, 106,  21,  37,\n",
            "        54, 156,  31,  44, 141,  43,  60,  68,  19, 103,  63,  90,  97,\n",
            "        16,  17,  10]))\n"
          ]
        }
      ]
    },
    {
      "cell_type": "code",
      "metadata": {
        "colab": {
          "base_uri": "https://localhost:8080/"
        },
        "id": "FlW5d1AqM2YK",
        "outputId": "a52a1816-306e-48f8-cff9-1cf36a00f6f2"
      },
      "source": [
        "X_data.columns"
      ],
      "execution_count": 81,
      "outputs": [
        {
          "output_type": "execute_result",
          "data": {
            "text/plain": [
              "Index(['년도', '선수명', '팀', 'FG', 'FGA', 'FG%', 'FT', 'FTA', 'FT%', 'PP', 'PPA',\n",
              "       'PP%', 'OFF', 'DEF', 'TOT', 'AST', 'TO', 'STL', 'BS', 'PF'],\n",
              "      dtype='object')"
            ]
          },
          "metadata": {},
          "execution_count": 81
        }
      ]
    },
    {
      "cell_type": "code",
      "metadata": {
        "colab": {
          "base_uri": "https://localhost:8080/",
          "height": 279
        },
        "id": "MslLrptAMX3r",
        "outputId": "57cd73d5-ed70-43fa-d1f8-e9713c2d6be9"
      },
      "source": [
        "for label in labels:\n",
        "  plt.scatter(X_data[labels==label][X_data.columns[1]], X_data[labels==label][X_data.columns[3]])\n",
        "plt.xlabel(\"player\")\n",
        "plt.ylabel(X_data.columns[3])\n",
        "plt.show()"
      ],
      "execution_count": 85,
      "outputs": [
        {
          "output_type": "display_data",
          "data": {
            "image/png": "[encoded data removed]",
            "text/plain": [
              "<Figure size 432x288 with 1 Axes>"
            ]
          },
          "metadata": {
            "needs_background": "light"
          }
        }
      ]
    },
    {
      "cell_type": "code",
      "metadata": {
        "colab": {
          "base_uri": "https://localhost:8080/"
        },
        "id": "EIy9KXPeO4Lr",
        "outputId": "d63d0f43-7ce6-492e-921c-ce486f03c8d8"
      },
      "source": [
        "len(np.unique(X_data[\"선수명\"]))"
      ],
      "execution_count": 94,
      "outputs": [
        {
          "output_type": "execute_result",
          "data": {
            "text/plain": [
              "540"
            ]
          },
          "metadata": {},
          "execution_count": 94
        }
      ]
    },
    {
      "cell_type": "code",
      "metadata": {
        "colab": {
          "base_uri": "https://localhost:8080/",
          "height": 279
        },
        "id": "lJKHBlgEMzNt",
        "outputId": "131bacfa-39c6-4175-c307-385958f98afa"
      },
      "source": [
        "for label in labels:\n",
        "  plt.scatter(X_data[labels==label][X_data.columns[2]], X_data[labels==label][X_data.columns[3]])\n",
        "plt.xlabel(\"team\")\n",
        "plt.ylabel(X_data.columns[3])\n",
        "plt.show()"
      ],
      "execution_count": 88,
      "outputs": [
        {
          "output_type": "display_data",
          "data": {
            "image/png": "[encoded data removed]",
            "text/plain": [
              "<Figure size 432x288 with 1 Axes>"
            ]
          },
          "metadata": {
            "needs_background": "light"
          }
        }
      ]
    }
  ]
}