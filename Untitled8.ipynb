{
  "nbformat": 4,
  "nbformat_minor": 0,
  "metadata": {
    "colab": {
      "name": "Untitled8.ipynb",
      "provenance": [],
      "collapsed_sections": [],
      "authorship_tag": "ABX9TyOESV/ek/REugGCYP9WdMh0",
      "include_colab_link": true
    },
    "kernelspec": {
      "name": "python3",
      "display_name": "Python 3"
    }
  },
  "cells": [
    {
      "cell_type": "markdown",
      "metadata": {
        "id": "view-in-github",
        "colab_type": "text"
      },
      "source": [
        "<a href=\"https://colab.research.google.com/github/shwldus067/colab/blob/main/Untitled8.ipynb\" target=\"_parent\"><img src=\"https://colab.research.google.com/assets/colab-badge.svg\" alt=\"Open In Colab\"/></a>"
      ]
    },
    {
      "cell_type": "markdown",
      "metadata": {
        "id": "380NUnseGXBt"
      },
      "source": [
        "#7. 여러 개를 분류합니다\n",
        "\n",
        "#7-1. 여러 개의 이미지를 분류하는 다층 신경망을 만듭니다."
      ]
    },
    {
      "cell_type": "code",
      "metadata": {
        "id": "ybfo3QXCGUDz"
      },
      "source": [
        "import numpy as np"
      ],
      "execution_count": null,
      "outputs": []
    },
    {
      "cell_type": "code",
      "metadata": {
        "id": "w_CkglswEo8M"
      },
      "source": [
        "class MultiClassNetwork:\n",
        "  def __init__(self, units=10, batch_size=32, learning_rate=0.1, l1=0, l2=0):\n",
        "    self.units=units\n",
        "    self.batch_size=batch_size\n",
        "    self.w1=None\n",
        "    self.b1=None\n",
        "    self.w2=None\n",
        "    self.b2=None\n",
        "    self.a1=None  #은닉층의 활성화\n",
        "    self.losses=[]\n",
        "    self.val_losses=[]  #검증 손실\n",
        "    self.lr=learning_rate\n",
        "    self.l1=l1\n",
        "    self.l2=l2\n",
        "\n",
        "  def forpass(self, x):\n",
        "    z1=np.dot(x, self.w1)+self.b1\n",
        "    self.a1=self.sigmoid(z1)\n",
        "    z2=np.dot(self.a1, self.w2)+self.b2\n",
        "    return z2\n",
        "\n",
        "  def backprop(self, x, err):\n",
        "    m=len(x)\n",
        "    w2_grad=np.dot(self.a1.T, err)/m\n",
        "    b2_grad=np.sum(err)/m\n",
        "    err_to_hidden=np.dot(err, self.w2.T)*self.a1*(1-self.a1)\n",
        "    w1_grad=np.dot(x.T, err_to_hidden)/m\n",
        "    b1_grad=np.sum(err_to_hidden, axis=0)/m\n",
        "    return w1_grad, b1_grad, w2_grad, b2_grad\n",
        "\n",
        "  def sigmoid(self, z):\n",
        "    z=np.clip(z, -100, None)\n",
        "    a=1/(1+np.exp(-z))\n",
        "    return a\n",
        "  \n",
        "  def softmax(self, z):\n",
        "    z=np.clip(z, -100, None)\n",
        "    exp_z=np.exp(z)\n",
        "    return exp_z/np.sum(exp_z, axis=1).reshape(-1, 1) \n",
        "    #sum->(1, 입력 개수), reshape->(입력 개수, 1)\n",
        "\n",
        "  def init_weights(self, n_features, n_classes):\n",
        "    self.w1=np.random.normal(0, 1, (n_features, self.units))  #(특성, 은닉층)\n",
        "    self.b1=np.zeros(self.units)\n",
        "    self.w2=np.random.normal(0, 1, (self.units, n_classes))   #(은닉층, 출력층)\n",
        "    self.b2=np.zeros(n_classes)\n",
        "\n",
        "  def fit(self, x, y, epochs=100, x_val=None, y_val=None):\n",
        "    np.random.seed(42)\n",
        "    self.init_weights(x.shape[1], y.shape[1]) #가중치 초기화\n",
        "    for i in range(epochs):\n",
        "      loss=0\n",
        "      for x_batch, y_batch in self.gen_batch(x, y):\n",
        "        a=self.training(x_batch, y_batch)\n",
        "        a=np.clip(a, 1e-10, 1-1e-10)\n",
        "        loss+=np.sum(-y_batch*np.log(a))  # 크로스 엔트로피 손실 함수\n",
        "      self.losses.append((loss+self.reg_loss())/len(x))\n",
        "      self.update_val_loss(x_val, y_val)\n",
        "\n",
        "  def gen_batch(self, x, y):\n",
        "    length=len(x)\n",
        "    bins=length//self.batch_size\n",
        "    if length%self.batch_size:\n",
        "      bins+=1\n",
        "    indexes=np.random.permutation(np.arange(len(x)))  #인덱스 섞음\n",
        "    x=x[indexes]\n",
        "    y=y[indexes]\n",
        "    for i in range(bins):\n",
        "      start=self.batch_size*i\n",
        "      end=self.batch_size*(i+1) # slicing시 배열 인덱스가 넘어가면 알아서 자름\n",
        "      yield x[start:end], y[start:end]\n",
        "\n",
        "  def training(self, x, y):\n",
        "    m=len(x)\n",
        "    z=self.forpass(x)\n",
        "    a=self.softmax(z)\n",
        "    err=-(y-a)\n",
        "    w1_grad, b1_grad, w2_grad, b2_grad=self.backprop(x, err)\n",
        "    w1_grad+=(self.l1*np.sign(self.w1)+self.l2*self.w1)/m #규제 적용\n",
        "    w2_grad+=(self.l1*np.sign(self.w2)+self.l2*self.w2)/m\n",
        "    self.w1-=self.lr*w1_grad\n",
        "    self.b1-=self.lr*b1_grad\n",
        "    self.w2-=self.lr*w2_grad\n",
        "    self.b2-=self.lr*b2_grad\n",
        "    return a\n",
        "\n",
        "  def predict(self, x):\n",
        "    z=self.forpass(x)\n",
        "    return np.argmax(z, axis=1) #가장 큰 값의 인덱스 반환\n",
        "\n",
        "  def score(self, x, y):\n",
        "    return np.mean(self.predict(x)==np.argmax(y, axis=1))\n",
        "\n",
        "  def reg_loss(self): #손실 규제\n",
        "    return self.l1*(np.sum(np.abs(self.w1))+np.sum(np.abs(self.w2)))+\\\n",
        "    self.l2/2*(np.sum(self.w1**2)+np.sum(self.w2**2))\n",
        "\n",
        "  def update_val_loss(self, x_val, y_val):\n",
        "    z=self.forpass(x_val)\n",
        "    a=self.softmax(z)\n",
        "    a=np.clip(a, 1e-10, 1-1e-10)\n",
        "    val_loss=np.sum(-y_val*np.log(a))\n",
        "    self.val_losses.append((val_loss+self.reg_loss())/len(y_val))"
      ],
      "execution_count": null,
      "outputs": []
    },
    {
      "cell_type": "code",
      "metadata": {
        "colab": {
          "base_uri": "https://localhost:8080/"
        },
        "id": "gsXd18vjj4LA",
        "outputId": "ada2a34e-543d-4169-eb9f-9cb71e9c60fe"
      },
      "source": [
        "a=np.array([[1, 2], [3, 4]])\n",
        "print(a)\n",
        "a.sum(axis=1)"
      ],
      "execution_count": null,
      "outputs": [
        {
          "output_type": "stream",
          "text": [
            "[[1 2]\n",
            " [3 4]]\n"
          ],
          "name": "stdout"
        },
        {
          "output_type": "execute_result",
          "data": {
            "text/plain": [
              "array([3, 7])"
            ]
          },
          "metadata": {
            "tags": []
          },
          "execution_count": 33
        }
      ]
    },
    {
      "cell_type": "code",
      "metadata": {
        "id": "AuTVRabKK1cq"
      },
      "source": [
        "import tensorflow as tf"
      ],
      "execution_count": null,
      "outputs": []
    },
    {
      "cell_type": "code",
      "metadata": {
        "colab": {
          "base_uri": "https://localhost:8080/",
          "height": 35
        },
        "id": "nbWaBCldK4FE",
        "outputId": "04da73dd-81e6-4a1e-8acc-58d7a3c6f3dd"
      },
      "source": [
        "tf.__version__"
      ],
      "execution_count": null,
      "outputs": [
        {
          "output_type": "execute_result",
          "data": {
            "application/vnd.google.colaboratory.intrinsic+json": {
              "type": "string"
            },
            "text/plain": [
              "'2.3.0'"
            ]
          },
          "metadata": {
            "tags": []
          },
          "execution_count": 4
        }
      ]
    },
    {
      "cell_type": "code",
      "metadata": {
        "colab": {
          "base_uri": "https://localhost:8080/"
        },
        "id": "z2OhmCwHK5cy",
        "outputId": "db4c9007-9f99-4d0d-f012-aae6238a5a9e"
      },
      "source": [
        "(x_train_all, y_train_all), (x_test, y_test)=tf.keras.datasets.fashion_mnist.load_data()"
      ],
      "execution_count": null,
      "outputs": [
        {
          "output_type": "stream",
          "text": [
            "Downloading data from https://storage.googleapis.com/tensorflow/tf-keras-datasets/train-labels-idx1-ubyte.gz\n",
            "32768/29515 [=================================] - 0s 0us/step\n",
            "Downloading data from https://storage.googleapis.com/tensorflow/tf-keras-datasets/train-images-idx3-ubyte.gz\n",
            "26427392/26421880 [==============================] - 0s 0us/step\n",
            "Downloading data from https://storage.googleapis.com/tensorflow/tf-keras-datasets/t10k-labels-idx1-ubyte.gz\n",
            "8192/5148 [===============================================] - 0s 0us/step\n",
            "Downloading data from https://storage.googleapis.com/tensorflow/tf-keras-datasets/t10k-images-idx3-ubyte.gz\n",
            "4423680/4422102 [==============================] - 0s 0us/step\n"
          ],
          "name": "stdout"
        }
      ]
    },
    {
      "cell_type": "code",
      "metadata": {
        "colab": {
          "base_uri": "https://localhost:8080/"
        },
        "id": "kijnYwPNLAfl",
        "outputId": "adbbf23a-082d-4fe3-be3c-c907ec5bdb15"
      },
      "source": [
        "print(x_train_all.shape, y_train_all.shape) # 입력:28*28의 그림 6000개, 결과:0~9"
      ],
      "execution_count": null,
      "outputs": [
        {
          "output_type": "stream",
          "text": [
            "(60000, 28, 28) (60000,)\n"
          ],
          "name": "stdout"
        }
      ]
    },
    {
      "cell_type": "code",
      "metadata": {
        "id": "qor7Q5SQLEwC"
      },
      "source": [
        "import matplotlib.pyplot as plt"
      ],
      "execution_count": null,
      "outputs": []
    },
    {
      "cell_type": "code",
      "metadata": {
        "colab": {
          "base_uri": "https://localhost:8080/",
          "height": 265
        },
        "id": "1sTFmQqBLIHr",
        "outputId": "10d1535c-10c0-4614-fee4-0aa4bde9fc7e"
      },
      "source": [
        "plt.imshow(x_train_all[0], cmap='gray')\n",
        "plt.show()"
      ],
      "execution_count": null,
      "outputs": [
        {
          "output_type": "display_data",
          "data": {
            "image/png": "[encoded data removed]",
            "text/plain": [
              "<Figure size 432x288 with 1 Axes>"
            ]
          },
          "metadata": {
            "tags": [],
            "needs_background": "light"
          }
        }
      ]
    },
    {
      "cell_type": "code",
      "metadata": {
        "colab": {
          "base_uri": "https://localhost:8080/"
        },
        "id": "xhtWjBBILNOE",
        "outputId": "922f8cc4-ed36-4029-d1b0-3bfb22020f13"
      },
      "source": [
        "print(y_train_all[:10])"
      ],
      "execution_count": null,
      "outputs": [
        {
          "output_type": "stream",
          "text": [
            "[9 0 0 3 0 2 7 2 5 5]\n"
          ],
          "name": "stdout"
        }
      ]
    },
    {
      "cell_type": "code",
      "metadata": {
        "id": "QsdVYO0YLTpQ"
      },
      "source": [
        "class_names=['티셔츠/윗도리', '바지', '스웨터', '드레스', '코트', \n",
        "               '샌들', '셔츠', '스니커즈', '가방', '앵클부츠']"
      ],
      "execution_count": null,
      "outputs": []
    },
    {
      "cell_type": "code",
      "metadata": {
        "colab": {
          "base_uri": "https://localhost:8080/"
        },
        "id": "Out86_muLZaC",
        "outputId": "2ac0d128-ff35-46bb-b848-11f466661e00"
      },
      "source": [
        "print(class_names[y_train_all[0]])"
      ],
      "execution_count": null,
      "outputs": [
        {
          "output_type": "stream",
          "text": [
            "앵클부츠\n"
          ],
          "name": "stdout"
        }
      ]
    },
    {
      "cell_type": "code",
      "metadata": {
        "colab": {
          "base_uri": "https://localhost:8080/"
        },
        "id": "ZYkBs448Ldwz",
        "outputId": "a3a68c88-ac30-4e13-9f7c-43cd9995dbec"
      },
      "source": [
        "# bincount : 배열에 있는 정수 값의 등장 횟수를 셈 -> 데이터의 균일성 확인 가능\n",
        "np.bincount(y_train_all)"
      ],
      "execution_count": null,
      "outputs": [
        {
          "output_type": "execute_result",
          "data": {
            "text/plain": [
              "array([6000, 6000, 6000, 6000, 6000, 6000, 6000, 6000, 6000, 6000])"
            ]
          },
          "metadata": {
            "tags": []
          },
          "execution_count": 12
        }
      ]
    },
    {
      "cell_type": "code",
      "metadata": {
        "id": "5lMWEUV9Li6R"
      },
      "source": [
        "from sklearn.model_selection import train_test_split\n",
        "x_train, x_val, y_train, y_val=train_test_split(x_train_all, y_train_all,\n",
        "                        stratify=y_train_all, test_size=0.2, random_state=42)"
      ],
      "execution_count": null,
      "outputs": []
    },
    {
      "cell_type": "code",
      "metadata": {
        "colab": {
          "base_uri": "https://localhost:8080/"
        },
        "id": "M1_PNGOCMLvS",
        "outputId": "69e4aefc-1a88-45b3-c278-f1b93a171694"
      },
      "source": [
        "np.bincount(y_train)"
      ],
      "execution_count": null,
      "outputs": [
        {
          "output_type": "execute_result",
          "data": {
            "text/plain": [
              "array([4800, 4800, 4800, 4800, 4800, 4800, 4800, 4800, 4800, 4800])"
            ]
          },
          "metadata": {
            "tags": []
          },
          "execution_count": 14
        }
      ]
    },
    {
      "cell_type": "code",
      "metadata": {
        "colab": {
          "base_uri": "https://localhost:8080/"
        },
        "id": "IibX2_NXMQUW",
        "outputId": "eeba9c7d-61c3-4298-9fab-f26a8b5ab65e"
      },
      "source": [
        "np.bincount(y_val)"
      ],
      "execution_count": null,
      "outputs": [
        {
          "output_type": "execute_result",
          "data": {
            "text/plain": [
              "array([1200, 1200, 1200, 1200, 1200, 1200, 1200, 1200, 1200, 1200])"
            ]
          },
          "metadata": {
            "tags": []
          },
          "execution_count": 15
        }
      ]
    },
    {
      "cell_type": "code",
      "metadata": {
        "id": "y0LfViG0MSPR"
      },
      "source": [
        "# 픽셀의 값이 0에서 1사이의 값을 갖게 하기 위해 픽셀 최대값인 255로 나눠서 정규화\n",
        "x_train=x_train/255\n",
        "x_val=x_val/255"
      ],
      "execution_count": null,
      "outputs": []
    },
    {
      "cell_type": "code",
      "metadata": {
        "id": "sRhMMYVRMjEM"
      },
      "source": [
        "# 1 testcase당(1 row) 784(28*28)개의 픽셀로 이루어져 있으므로 784개의 특성(col)로 바꿈\n",
        "x_train=x_train.reshape(-1, 784)\n",
        "x_val=x_val.reshape(-1, 784)"
      ],
      "execution_count": null,
      "outputs": []
    },
    {
      "cell_type": "code",
      "metadata": {
        "colab": {
          "base_uri": "https://localhost:8080/"
        },
        "id": "u2SpNj_0Mpa4",
        "outputId": "6f9ac655-829e-4a4d-93e6-e7a7eaa00163"
      },
      "source": [
        "print(x_train.shape, x_val.shape)"
      ],
      "execution_count": null,
      "outputs": [
        {
          "output_type": "stream",
          "text": [
            "(48000, 784) (12000, 784)\n"
          ],
          "name": "stdout"
        }
      ]
    },
    {
      "cell_type": "code",
      "metadata": {
        "colab": {
          "base_uri": "https://localhost:8080/"
        },
        "id": "nto2aS6wMtRM",
        "outputId": "9b2305f2-687a-4ef1-eae0-15fc4bb2d272"
      },
      "source": [
        "from sklearn.preprocessing import LabelBinarizer\n",
        "lb=LabelBinarizer()   # labeling으로 카테고리화\n",
        "lb.fit_transform([0, 1, 3, 1])"
      ],
      "execution_count": null,
      "outputs": [
        {
          "output_type": "execute_result",
          "data": {
            "text/plain": [
              "array([[1, 0, 0],\n",
              "       [0, 1, 0],\n",
              "       [0, 0, 1],\n",
              "       [0, 1, 0]])"
            ]
          },
          "metadata": {
            "tags": []
          },
          "execution_count": 19
        }
      ]
    },
    {
      "cell_type": "code",
      "metadata": {
        "colab": {
          "base_uri": "https://localhost:8080/"
        },
        "id": "vwpAizKwNZnC",
        "outputId": "ff2467eb-f89e-4193-cfc8-47e9d5359cf1"
      },
      "source": [
        "tf.keras.utils.to_categorical([0, 1, 3])  # one-hot encoding으로 카테고리화"
      ],
      "execution_count": null,
      "outputs": [
        {
          "output_type": "execute_result",
          "data": {
            "text/plain": [
              "array([[1., 0., 0., 0.],\n",
              "       [0., 1., 0., 0.],\n",
              "       [0., 0., 0., 1.]], dtype=float32)"
            ]
          },
          "metadata": {
            "tags": []
          },
          "execution_count": 20
        }
      ]
    },
    {
      "cell_type": "code",
      "metadata": {
        "id": "bVSWnurnNtKO"
      },
      "source": [
        "# 한 입력에 대해 출력층의 뉴런마다 값을 비교해야 하기 때문에\n",
        "# 출력층의 뉴런 개수 10개에 맞게 one-hot encoding -> (n_features, 10)배열 생성\n",
        "y_train_encoded=tf.keras.utils.to_categorical(y_train)\n",
        "y_val_encoded=tf.keras.utils.to_categorical(y_val)"
      ],
      "execution_count": null,
      "outputs": []
    },
    {
      "cell_type": "code",
      "metadata": {
        "colab": {
          "base_uri": "https://localhost:8080/"
        },
        "id": "iBgMQG6rOVG5",
        "outputId": "2480c037-0c6a-4f63-9ae4-e92d5fb6f0f3"
      },
      "source": [
        "print(y_train_encoded.shape, y_val_encoded.shape)"
      ],
      "execution_count": null,
      "outputs": [
        {
          "output_type": "stream",
          "text": [
            "(48000, 10) (12000, 10)\n"
          ],
          "name": "stdout"
        }
      ]
    },
    {
      "cell_type": "code",
      "metadata": {
        "colab": {
          "base_uri": "https://localhost:8080/"
        },
        "id": "2N3NRpavOZfw",
        "outputId": "d10a6de0-2969-44fb-9ed9-db24d3d65a8a"
      },
      "source": [
        "print(y_train[0], y_train_encoded[0])"
      ],
      "execution_count": null,
      "outputs": [
        {
          "output_type": "stream",
          "text": [
            "6 [0. 0. 0. 0. 0. 0. 1. 0. 0. 0.]\n"
          ],
          "name": "stdout"
        }
      ]
    },
    {
      "cell_type": "code",
      "metadata": {
        "id": "C-GVoHLcOeFw"
      },
      "source": [
        "fc=MultiClassNetwork(units=100, batch_size=256) #100개 은닉층 \n",
        "fc.fit(x_train, y_train_encoded, x_val=x_val, y_val=y_val_encoded, epochs=40)"
      ],
      "execution_count": null,
      "outputs": []
    },
    {
      "cell_type": "code",
      "metadata": {
        "colab": {
          "base_uri": "https://localhost:8080/",
          "height": 279
        },
        "id": "eRO_HQUpOrlP",
        "outputId": "c96fe4fa-11bf-4482-f145-c340b6be4fe0"
      },
      "source": [
        "plt.plot(fc.losses)\n",
        "plt.plot(fc.val_losses)\n",
        "plt.ylabel('loss')\n",
        "plt.xlabel('iteration')\n",
        "plt.legend(['train_loss', 'val_loss'])\n",
        "plt.show()"
      ],
      "execution_count": null,
      "outputs": [
        {
          "output_type": "display_data",
          "data": {
            "image/png": "[encoded data removed]",
            "text/plain": [
              "<Figure size 432x288 with 1 Axes>"
            ]
          },
          "metadata": {
            "tags": [],
            "needs_background": "light"
          }
        }
      ]
    },
    {
      "cell_type": "code",
      "metadata": {
        "colab": {
          "base_uri": "https://localhost:8080/"
        },
        "id": "p8HHKZIcPqd6",
        "outputId": "3462ae49-c7f1-4f8d-d0d0-64807b77a195"
      },
      "source": [
        "fc.score(x_val, y_val_encoded)"
      ],
      "execution_count": null,
      "outputs": [
        {
          "output_type": "execute_result",
          "data": {
            "text/plain": [
              "0.8150833333333334"
            ]
          },
          "metadata": {
            "tags": []
          },
          "execution_count": 26
        }
      ]
    },
    {
      "cell_type": "code",
      "metadata": {
        "colab": {
          "base_uri": "https://localhost:8080/"
        },
        "id": "uXg7G2g9Ptl_",
        "outputId": "9df1633b-1eeb-4e1a-ee77-a7eed885d635"
      },
      "source": [
        "# 0~11999까지의 수의 mod 10값을 random하게 permutation한 배열\n",
        "np.random.permutation(np.arange(12000)%10)"
      ],
      "execution_count": null,
      "outputs": [
        {
          "output_type": "execute_result",
          "data": {
            "text/plain": [
              "array([4, 6, 3, ..., 0, 6, 6])"
            ]
          },
          "metadata": {
            "tags": []
          },
          "execution_count": 27
        }
      ]
    },
    {
      "cell_type": "code",
      "metadata": {
        "colab": {
          "base_uri": "https://localhost:8080/"
        },
        "id": "KBk4c5t2QFKF",
        "outputId": "9ff546d6-ff24-43b7-bd0a-42d035572f7e"
      },
      "source": [
        "# random하게 0~9까지의 값을 y_val과 비교했을 때의 확률\n",
        "np.sum(y_val==np.random.permutation(np.arange(12000)%10))/12000"
      ],
      "execution_count": null,
      "outputs": [
        {
          "output_type": "execute_result",
          "data": {
            "text/plain": [
              "0.10325"
            ]
          },
          "metadata": {
            "tags": []
          },
          "execution_count": 28
        }
      ]
    },
    {
      "cell_type": "markdown",
      "metadata": {
        "id": "90HsyUVxRFm7"
      },
      "source": [
        "# 7-2. 텐서플로와 케라스로 테스트"
      ]
    },
    {
      "cell_type": "code",
      "metadata": {
        "id": "_s2EDNebQrpa"
      },
      "source": [
        "from tensorflow.keras import Sequential\n",
        "from tensorflow.keras.layers import Dense"
      ],
      "execution_count": null,
      "outputs": []
    },
    {
      "cell_type": "code",
      "metadata": {
        "id": "lzF820Otv64Q"
      },
      "source": [
        "model=Sequential()\n",
        "# 활성화 함수로 sigmoid를 사용하는 784개의 특성을 갖는 100개의 입력층 추가\n",
        "model.add(Dense(100, activation='sigmoid', input_shape=(784, )))\n",
        "# 활성화 함수로 softmax를 사용하는 10개의 출력층 추가\n",
        "model.add(Dense(10, activation='softmax'))"
      ],
      "execution_count": null,
      "outputs": []
    },
    {
      "cell_type": "code",
      "metadata": {
        "id": "53oiZlYXyg3u"
      },
      "source": [
        "# optimizer(최적화 알고리즘)=확률적 경사 하강법\n",
        "# loss함수=crossentropy(이진 분류일 경우에는 'binary_crossentropy'로 따로 지정)\n",
        "# 케라스에서 기본으로 측정하는 손실값에 정확도도 출력하기 위해 'accuracy'추가\n",
        "model.compile(optimizer='sgd', loss='categorical_crossentropy', metrics=['accuracy'])"
      ],
      "execution_count": null,
      "outputs": []
    },
    {
      "cell_type": "code",
      "metadata": {
        "colab": {
          "base_uri": "https://localhost:8080/"
        },
        "id": "1SGM1o4P0Meg",
        "outputId": "36219c97-f044-48f3-f768-a160e13e1106"
      },
      "source": [
        "history=model.fit(x_train, y_train_encoded, epochs=40,\n",
        "                  validation_data=(x_val, y_val_encoded))"
      ],
      "execution_count": null,
      "outputs": [
        {
          "output_type": "stream",
          "text": [
            "Epoch 1/40\n",
            "1500/1500 [==============================] - 3s 2ms/step - loss: 1.3979 - accuracy: 0.6348 - val_loss: 0.9723 - val_accuracy: 0.7313\n",
            "Epoch 2/40\n",
            "1500/1500 [==============================] - 3s 2ms/step - loss: 0.8453 - accuracy: 0.7425 - val_loss: 0.7531 - val_accuracy: 0.7577\n",
            "Epoch 3/40\n",
            "1500/1500 [==============================] - 3s 2ms/step - loss: 0.7103 - accuracy: 0.7634 - val_loss: 0.6653 - val_accuracy: 0.7810\n",
            "Epoch 4/40\n",
            "1500/1500 [==============================] - 3s 2ms/step - loss: 0.6460 - accuracy: 0.7800 - val_loss: 0.6133 - val_accuracy: 0.7898\n",
            "Epoch 5/40\n",
            "1500/1500 [==============================] - 3s 2ms/step - loss: 0.6047 - accuracy: 0.7921 - val_loss: 0.5785 - val_accuracy: 0.8001\n",
            "Epoch 6/40\n",
            "1500/1500 [==============================] - 3s 2ms/step - loss: 0.5753 - accuracy: 0.8018 - val_loss: 0.5524 - val_accuracy: 0.8088\n",
            "Epoch 7/40\n",
            "1500/1500 [==============================] - 3s 2ms/step - loss: 0.5525 - accuracy: 0.8099 - val_loss: 0.5320 - val_accuracy: 0.8153\n",
            "Epoch 8/40\n",
            "1500/1500 [==============================] - 3s 2ms/step - loss: 0.5346 - accuracy: 0.8149 - val_loss: 0.5162 - val_accuracy: 0.8213\n",
            "Epoch 9/40\n",
            "1500/1500 [==============================] - 2s 2ms/step - loss: 0.5201 - accuracy: 0.8200 - val_loss: 0.5031 - val_accuracy: 0.8235\n",
            "Epoch 10/40\n",
            "1500/1500 [==============================] - 3s 2ms/step - loss: 0.5082 - accuracy: 0.8243 - val_loss: 0.4912 - val_accuracy: 0.8285\n",
            "Epoch 11/40\n",
            "1500/1500 [==============================] - 3s 2ms/step - loss: 0.4980 - accuracy: 0.8269 - val_loss: 0.4824 - val_accuracy: 0.8317\n",
            "Epoch 12/40\n",
            "1500/1500 [==============================] - 3s 2ms/step - loss: 0.4890 - accuracy: 0.8301 - val_loss: 0.4766 - val_accuracy: 0.8339\n",
            "Epoch 13/40\n",
            "1500/1500 [==============================] - 3s 2ms/step - loss: 0.4815 - accuracy: 0.8326 - val_loss: 0.4663 - val_accuracy: 0.8368\n",
            "Epoch 14/40\n",
            "1500/1500 [==============================] - 3s 2ms/step - loss: 0.4746 - accuracy: 0.8343 - val_loss: 0.4604 - val_accuracy: 0.8378\n",
            "Epoch 15/40\n",
            "1500/1500 [==============================] - 3s 2ms/step - loss: 0.4682 - accuracy: 0.8363 - val_loss: 0.4541 - val_accuracy: 0.8399\n",
            "Epoch 16/40\n",
            "1500/1500 [==============================] - 3s 2ms/step - loss: 0.4628 - accuracy: 0.8386 - val_loss: 0.4505 - val_accuracy: 0.8409\n",
            "Epoch 17/40\n",
            "1500/1500 [==============================] - 3s 2ms/step - loss: 0.4573 - accuracy: 0.8403 - val_loss: 0.4455 - val_accuracy: 0.8432\n",
            "Epoch 18/40\n",
            "1500/1500 [==============================] - 3s 2ms/step - loss: 0.4525 - accuracy: 0.8418 - val_loss: 0.4405 - val_accuracy: 0.8456\n",
            "Epoch 19/40\n",
            "1500/1500 [==============================] - 3s 2ms/step - loss: 0.4481 - accuracy: 0.8428 - val_loss: 0.4393 - val_accuracy: 0.8443\n",
            "Epoch 20/40\n",
            "1500/1500 [==============================] - 3s 2ms/step - loss: 0.4437 - accuracy: 0.8450 - val_loss: 0.4345 - val_accuracy: 0.8475\n",
            "Epoch 21/40\n",
            "1500/1500 [==============================] - 3s 2ms/step - loss: 0.4402 - accuracy: 0.8455 - val_loss: 0.4285 - val_accuracy: 0.8477\n",
            "Epoch 22/40\n",
            "1500/1500 [==============================] - 2s 2ms/step - loss: 0.4363 - accuracy: 0.8472 - val_loss: 0.4260 - val_accuracy: 0.8508\n",
            "Epoch 23/40\n",
            "1500/1500 [==============================] - 2s 2ms/step - loss: 0.4330 - accuracy: 0.8484 - val_loss: 0.4227 - val_accuracy: 0.8526\n",
            "Epoch 24/40\n",
            "1500/1500 [==============================] - 3s 2ms/step - loss: 0.4296 - accuracy: 0.8491 - val_loss: 0.4203 - val_accuracy: 0.8535\n",
            "Epoch 25/40\n",
            "1500/1500 [==============================] - 2s 2ms/step - loss: 0.4266 - accuracy: 0.8496 - val_loss: 0.4178 - val_accuracy: 0.8531\n",
            "Epoch 26/40\n",
            "1500/1500 [==============================] - 3s 2ms/step - loss: 0.4235 - accuracy: 0.8509 - val_loss: 0.4145 - val_accuracy: 0.8533\n",
            "Epoch 27/40\n",
            "1500/1500 [==============================] - 3s 2ms/step - loss: 0.4207 - accuracy: 0.8524 - val_loss: 0.4128 - val_accuracy: 0.8543\n",
            "Epoch 28/40\n",
            "1500/1500 [==============================] - 3s 2ms/step - loss: 0.4181 - accuracy: 0.8533 - val_loss: 0.4105 - val_accuracy: 0.8558\n",
            "Epoch 29/40\n",
            "1500/1500 [==============================] - 3s 2ms/step - loss: 0.4152 - accuracy: 0.8541 - val_loss: 0.4100 - val_accuracy: 0.8545\n",
            "Epoch 30/40\n",
            "1500/1500 [==============================] - 2s 2ms/step - loss: 0.4129 - accuracy: 0.8544 - val_loss: 0.4065 - val_accuracy: 0.8558\n",
            "Epoch 31/40\n",
            "1500/1500 [==============================] - 2s 2ms/step - loss: 0.4104 - accuracy: 0.8558 - val_loss: 0.4048 - val_accuracy: 0.8568\n",
            "Epoch 32/40\n",
            "1500/1500 [==============================] - 3s 2ms/step - loss: 0.4080 - accuracy: 0.8562 - val_loss: 0.4015 - val_accuracy: 0.8608\n",
            "Epoch 33/40\n",
            "1500/1500 [==============================] - 3s 2ms/step - loss: 0.4055 - accuracy: 0.8572 - val_loss: 0.4003 - val_accuracy: 0.8612\n",
            "Epoch 34/40\n",
            "1500/1500 [==============================] - 3s 2ms/step - loss: 0.4032 - accuracy: 0.8585 - val_loss: 0.3992 - val_accuracy: 0.8596\n",
            "Epoch 35/40\n",
            "1500/1500 [==============================] - 3s 2ms/step - loss: 0.4011 - accuracy: 0.8595 - val_loss: 0.3961 - val_accuracy: 0.8617\n",
            "Epoch 36/40\n",
            "1500/1500 [==============================] - 3s 2ms/step - loss: 0.3993 - accuracy: 0.8593 - val_loss: 0.3961 - val_accuracy: 0.8600\n",
            "Epoch 37/40\n",
            "1500/1500 [==============================] - 3s 2ms/step - loss: 0.3973 - accuracy: 0.8604 - val_loss: 0.3928 - val_accuracy: 0.8627\n",
            "Epoch 38/40\n",
            "1500/1500 [==============================] - 3s 2ms/step - loss: 0.3954 - accuracy: 0.8608 - val_loss: 0.3911 - val_accuracy: 0.8630\n",
            "Epoch 39/40\n",
            "1500/1500 [==============================] - 3s 2ms/step - loss: 0.3933 - accuracy: 0.8611 - val_loss: 0.3906 - val_accuracy: 0.8638\n",
            "Epoch 40/40\n",
            "1500/1500 [==============================] - 3s 2ms/step - loss: 0.3916 - accuracy: 0.8616 - val_loss: 0.3900 - val_accuracy: 0.8630\n"
          ],
          "name": "stdout"
        }
      ]
    },
    {
      "cell_type": "code",
      "metadata": {
        "colab": {
          "base_uri": "https://localhost:8080/"
        },
        "id": "Gnbok8r702iJ",
        "outputId": "9b27bec1-9059-46a2-eb96-336d2d01df94"
      },
      "source": [
        "# history 객체의 history 딕셔너리의 측정 지표\n",
        "print(history.history.keys())"
      ],
      "execution_count": null,
      "outputs": [
        {
          "output_type": "stream",
          "text": [
            "dict_keys(['loss', 'accuracy', 'val_loss', 'val_accuracy'])\n"
          ],
          "name": "stdout"
        }
      ]
    },
    {
      "cell_type": "code",
      "metadata": {
        "colab": {
          "base_uri": "https://localhost:8080/",
          "height": 279
        },
        "id": "17ZkRUwu1LdZ",
        "outputId": "1f23e8b5-6936-4195-c2df-dba1869340a9"
      },
      "source": [
        "plt.plot(history.history['loss'])\n",
        "plt.plot(history.history['val_loss'])\n",
        "plt.ylabel('loss')\n",
        "plt.xlabel('epoch')\n",
        "plt.legend(['train_loss', 'val_loss'])\n",
        "plt.show()"
      ],
      "execution_count": null,
      "outputs": [
        {
          "output_type": "display_data",
          "data": {
            "image/png": "[encoded data removed]",
            "text/plain": [
              "<Figure size 432x288 with 1 Axes>"
            ]
          },
          "metadata": {
            "tags": [],
            "needs_background": "light"
          }
        }
      ]
    },
    {
      "cell_type": "code",
      "metadata": {
        "colab": {
          "base_uri": "https://localhost:8080/",
          "height": 279
        },
        "id": "jwv7vuBV1cnp",
        "outputId": "1ad2b425-3e07-4d60-e81d-9da3172cb6de"
      },
      "source": [
        "plt.plot(history.history['accuracy'])\n",
        "plt.plot(history.history['val_accuracy'])\n",
        "plt.ylabel('accuracy')\n",
        "plt.xlabel('epoch')\n",
        "plt.legend(['train_accuracy', 'val_accuracy'])\n",
        "plt.show()"
      ],
      "execution_count": null,
      "outputs": [
        {
          "output_type": "display_data",
          "data": {
            "image/png": "[encoded data removed]",
            "text/plain": [
              "<Figure size 432x288 with 1 Axes>"
            ]
          },
          "metadata": {
            "tags": [],
            "needs_background": "light"
          }
        }
      ]
    },
    {
      "cell_type": "code",
      "metadata": {
        "id": "CPQPi-yY1tA4"
      },
      "source": [
        "# 검증 데이터로 테스트\n",
        "loss, accuracy=model.evaluate(x_val, y_val_encoded, verbose=0)"
      ],
      "execution_count": null,
      "outputs": []
    },
    {
      "cell_type": "code",
      "metadata": {
        "colab": {
          "base_uri": "https://localhost:8080/"
        },
        "id": "razk7aTf1-YS",
        "outputId": "eabf2278-4173-42ee-f652-21a932013315"
      },
      "source": [
        "print(loss, accuracy) # 검증 결과"
      ],
      "execution_count": null,
      "outputs": [
        {
          "output_type": "stream",
          "text": [
            "0.39004313945770264 0.8629999756813049\n"
          ],
          "name": "stdout"
        }
      ]
    }
  ]
}