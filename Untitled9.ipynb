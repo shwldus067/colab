{
  "nbformat": 4,
  "nbformat_minor": 0,
  "metadata": {
    "colab": {
      "name": "Untitled9",
      "provenance": [],
      "collapsed_sections": [],
      "authorship_tag": "ABX9TyMz10UDA5onTb6IH6RhI+10",
      "include_colab_link": true
    },
    "kernelspec": {
      "name": "python3",
      "display_name": "Python 3"
    }
  },
  "cells": [
    {
      "cell_type": "markdown",
      "metadata": {
        "id": "view-in-github",
        "colab_type": "text"
      },
      "source": [
        "<a href=\"https://colab.research.google.com/github/shwldus067/colab/blob/main/Untitled9.ipynb\" target=\"_parent\"><img src=\"https://colab.research.google.com/assets/colab-badge.svg\" alt=\"Open In Colab\"/></a>"
      ]
    },
    {
      "cell_type": "markdown",
      "metadata": {
        "id": "ccU5flBLVG1F"
      },
      "source": [
        "# 8. 이미지를 분류합니다\n",
        "## 8.1 합성곱을 알아 봅니다"
      ]
    },
    {
      "cell_type": "code",
      "metadata": {
        "id": "vJyGYMwsS9FZ"
      },
      "source": [
        "import numpy as np"
      ],
      "execution_count": null,
      "outputs": []
    },
    {
      "cell_type": "code",
      "metadata": {
        "id": "v-6ZUTSXVYpx"
      },
      "source": [
        "w=np.array([2, 1, 5, 3])\n",
        "x=np.array([2, 8, 3, 7, 1, 2, 0, 4, 5])"
      ],
      "execution_count": null,
      "outputs": []
    },
    {
      "cell_type": "code",
      "metadata": {
        "colab": {
          "base_uri": "https://localhost:8080/"
        },
        "id": "bX338VHsVi7R",
        "outputId": "2e2811ca-e005-481a-ac71-1c7e50f99d19"
      },
      "source": [
        "# w배열을 뒤집음\n",
        "w_r=np.flip(w)\n",
        "print(w_r)"
      ],
      "execution_count": null,
      "outputs": [
        {
          "output_type": "stream",
          "text": [
            "[3 5 1 2]\n"
          ],
          "name": "stdout"
        }
      ]
    },
    {
      "cell_type": "code",
      "metadata": {
        "colab": {
          "base_uri": "https://localhost:8080/"
        },
        "id": "u87LQ0ljVlCG",
        "outputId": "100e3864-68d2-4a9a-92d4-960afa65795a"
      },
      "source": [
        "# w배열의 0~3까지 2간격으로 slicing\n",
        "w[0:4:2]"
      ],
      "execution_count": null,
      "outputs": [
        {
          "output_type": "execute_result",
          "data": {
            "text/plain": [
              "array([2, 5])"
            ]
          },
          "metadata": {
            "tags": []
          },
          "execution_count": 4
        }
      ]
    },
    {
      "cell_type": "code",
      "metadata": {
        "colab": {
          "base_uri": "https://localhost:8080/"
        },
        "id": "weQDJTsgVtco",
        "outputId": "f9737ebb-3edd-471b-b8e3-93d2c542ae68"
      },
      "source": [
        "# 합성곱 결과\n",
        "for i in range(6):\n",
        "  print(np.dot(x[i:i+4], w_r))"
      ],
      "execution_count": null,
      "outputs": [
        {
          "output_type": "stream",
          "text": [
            "63\n",
            "48\n",
            "49\n",
            "28\n",
            "21\n",
            "20\n"
          ],
          "name": "stdout"
        }
      ]
    },
    {
      "cell_type": "code",
      "metadata": {
        "id": "a0m9IlBlWQTD"
      },
      "source": [
        "from scipy.signal import convolve"
      ],
      "execution_count": null,
      "outputs": []
    },
    {
      "cell_type": "code",
      "metadata": {
        "colab": {
          "base_uri": "https://localhost:8080/"
        },
        "id": "kBeZv5C0WcxE",
        "outputId": "79c776a7-55ac-4958-c20d-0c03a173013c"
      },
      "source": [
        "# x와 w배열 valid padding으로 합성곱 연산\n",
        "convolve(x, w, mode='valid')"
      ],
      "execution_count": null,
      "outputs": [
        {
          "output_type": "execute_result",
          "data": {
            "text/plain": [
              "array([63, 48, 49, 28, 21, 20])"
            ]
          },
          "metadata": {
            "tags": []
          },
          "execution_count": 7
        }
      ]
    },
    {
      "cell_type": "code",
      "metadata": {
        "id": "Y6uYcFs_W4uA"
      },
      "source": [
        "from scipy.signal import correlate"
      ],
      "execution_count": null,
      "outputs": []
    },
    {
      "cell_type": "code",
      "metadata": {
        "colab": {
          "base_uri": "https://localhost:8080/"
        },
        "id": "l5HRLRCKW9tp",
        "outputId": "ff204ade-eaf3-4c38-9ad8-f4bd6e4109e7"
      },
      "source": [
        "# x와 w배열 valid padding으로 교차상관연산\n",
        "correlate(x, w, mode='valid')"
      ],
      "execution_count": null,
      "outputs": [
        {
          "output_type": "execute_result",
          "data": {
            "text/plain": [
              "array([48, 57, 24, 25, 16, 39])"
            ]
          },
          "metadata": {
            "tags": []
          },
          "execution_count": 9
        }
      ]
    },
    {
      "cell_type": "code",
      "metadata": {
        "colab": {
          "base_uri": "https://localhost:8080/"
        },
        "id": "sK8XW0aHXHQy",
        "outputId": "e5f8af25-885b-4ca7-dd60-83f24c7ea207"
      },
      "source": [
        "# full padding\n",
        "correlate(x, w, mode='full')"
      ],
      "execution_count": null,
      "outputs": [
        {
          "output_type": "execute_result",
          "data": {
            "text/plain": [
              "array([ 6, 34, 51, 48, 57, 24, 25, 16, 39, 29, 13, 10])"
            ]
          },
          "metadata": {
            "tags": []
          },
          "execution_count": 10
        }
      ]
    },
    {
      "cell_type": "code",
      "metadata": {
        "colab": {
          "base_uri": "https://localhost:8080/"
        },
        "id": "UQITc8AiXRwk",
        "outputId": "63b756e5-3175-4a51-bcaa-faf973d61a2c"
      },
      "source": [
        "# same padding\n",
        "correlate(x, w, mode='same')"
      ],
      "execution_count": null,
      "outputs": [
        {
          "output_type": "execute_result",
          "data": {
            "text/plain": [
              "array([34, 51, 48, 57, 24, 25, 16, 39, 29])"
            ]
          },
          "metadata": {
            "tags": []
          },
          "execution_count": 11
        }
      ]
    },
    {
      "cell_type": "code",
      "metadata": {
        "id": "rZebgkAlXWD6"
      },
      "source": [
        "x=np.array([[1, 2, 3],\n",
        "            [4, 5, 6],\n",
        "            [7, 8, 9]])\n",
        "w=np.array([[2, 0], [0, 0]])"
      ],
      "execution_count": null,
      "outputs": []
    },
    {
      "cell_type": "code",
      "metadata": {
        "colab": {
          "base_uri": "https://localhost:8080/"
        },
        "id": "7xIWMGQJXfYP",
        "outputId": "c5ca4559-79ea-4fd8-9cd8-c5f1fb17bc65"
      },
      "source": [
        "from scipy.signal import correlate2d\n",
        "# 2차원 배열 valid padding으로 교차상관연산\n",
        "correlate2d(x, w, mode='valid')"
      ],
      "execution_count": null,
      "outputs": [
        {
          "output_type": "execute_result",
          "data": {
            "text/plain": [
              "array([[ 2,  4],\n",
              "       [ 8, 10]])"
            ]
          },
          "metadata": {
            "tags": []
          },
          "execution_count": 13
        }
      ]
    },
    {
      "cell_type": "code",
      "metadata": {
        "colab": {
          "base_uri": "https://localhost:8080/"
        },
        "id": "DcvFUmPUXqSu",
        "outputId": "e605969b-0cb4-4ca1-f12f-087d33eeba85"
      },
      "source": [
        "# w배열 뒤집음\n",
        "np.flip(w)"
      ],
      "execution_count": null,
      "outputs": [
        {
          "output_type": "execute_result",
          "data": {
            "text/plain": [
              "array([[0, 0],\n",
              "       [0, 2]])"
            ]
          },
          "metadata": {
            "tags": []
          },
          "execution_count": 14
        }
      ]
    },
    {
      "cell_type": "code",
      "metadata": {
        "colab": {
          "base_uri": "https://localhost:8080/"
        },
        "id": "tkRzhO4qX2cC",
        "outputId": "4f89e83a-7bb7-4c4c-d912-0942c7d264fa"
      },
      "source": [
        "from scipy.signal import convolve2d\n",
        "# 2차원 배열 valid padding으로 합성곱 연산\n",
        "convolve2d(x, w, mode='valid')"
      ],
      "execution_count": null,
      "outputs": [
        {
          "output_type": "execute_result",
          "data": {
            "text/plain": [
              "array([[10, 12],\n",
              "       [16, 18]])"
            ]
          },
          "metadata": {
            "tags": []
          },
          "execution_count": 15
        }
      ]
    },
    {
      "cell_type": "code",
      "metadata": {
        "colab": {
          "base_uri": "https://localhost:8080/"
        },
        "id": "cEdU9xrAYCuT",
        "outputId": "5a7544c7-8e66-4a7e-f943-e0b71b92d65c"
      },
      "source": [
        "# same padding\n",
        "convolve2d(x, w, mode='same')"
      ],
      "execution_count": null,
      "outputs": [
        {
          "output_type": "execute_result",
          "data": {
            "text/plain": [
              "array([[ 2,  4,  6],\n",
              "       [ 8, 10, 12],\n",
              "       [14, 16, 18]])"
            ]
          },
          "metadata": {
            "tags": []
          },
          "execution_count": 16
        }
      ]
    },
    {
      "cell_type": "code",
      "metadata": {
        "colab": {
          "base_uri": "https://localhost:8080/"
        },
        "id": "iPo75tl2YOUk",
        "outputId": "e2e11456-bd0b-4304-c01c-7c2644733569"
      },
      "source": [
        "correlate2d(x, w, mode='same')"
      ],
      "execution_count": null,
      "outputs": [
        {
          "output_type": "execute_result",
          "data": {
            "text/plain": [
              "array([[ 2,  4,  6],\n",
              "       [ 8, 10, 12],\n",
              "       [14, 16, 18]])"
            ]
          },
          "metadata": {
            "tags": []
          },
          "execution_count": 17
        }
      ]
    },
    {
      "cell_type": "code",
      "metadata": {
        "id": "zrsvMMLNYcsb"
      },
      "source": [
        "import tensorflow as tf"
      ],
      "execution_count": null,
      "outputs": []
    },
    {
      "cell_type": "code",
      "metadata": {
        "id": "7KCUCyuwYfFc"
      },
      "source": [
        "x_4d=x.astype(np.float).reshape(1, 3, 3, 1)\n",
        "w_4d=w.reshape(2, 2, 1, 1)"
      ],
      "execution_count": null,
      "outputs": []
    },
    {
      "cell_type": "code",
      "metadata": {
        "colab": {
          "base_uri": "https://localhost:8080/"
        },
        "id": "XdBuGWiCYlwr",
        "outputId": "a0fc3a9b-f7cd-43d4-c463-bf1f3f4ae23d"
      },
      "source": [
        "c_out=tf.nn.conv2d(x_4d, w_4d, strides=1, padding='SAME')\n",
        "c_out.numpy().reshape(3, 3)"
      ],
      "execution_count": null,
      "outputs": [
        {
          "output_type": "execute_result",
          "data": {
            "text/plain": [
              "array([[ 2.,  4.,  6.],\n",
              "       [ 8., 10., 12.],\n",
              "       [14., 16., 18.]])"
            ]
          },
          "metadata": {
            "tags": []
          },
          "execution_count": 20
        }
      ]
    },
    {
      "cell_type": "code",
      "metadata": {
        "colab": {
          "base_uri": "https://localhost:8080/"
        },
        "id": "U6p2vxlhYzIh",
        "outputId": "8bed0c25-f770-4a24-caa0-9972e0c6827a"
      },
      "source": [
        "c_out"
      ],
      "execution_count": null,
      "outputs": [
        {
          "output_type": "execute_result",
          "data": {
            "text/plain": [
              "<tf.Tensor: shape=(1, 3, 3, 1), dtype=float64, numpy=\n",
              "array([[[[ 2.],\n",
              "         [ 4.],\n",
              "         [ 6.]],\n",
              "\n",
              "        [[ 8.],\n",
              "         [10.],\n",
              "         [12.]],\n",
              "\n",
              "        [[14.],\n",
              "         [16.],\n",
              "         [18.]]]])>"
            ]
          },
          "metadata": {
            "tags": []
          },
          "execution_count": 21
        }
      ]
    },
    {
      "cell_type": "markdown",
      "metadata": {
        "id": "Em5xswfIZUlS"
      },
      "source": [
        "## 8.2 풀링에 대해 알아봅시다"
      ]
    },
    {
      "cell_type": "code",
      "metadata": {
        "id": "ptGZ9Qm9ZMkD"
      },
      "source": [
        "x=np.array([[1, 2, 3, 4],\n",
        "            [5, 6, 7, 8],\n",
        "            [9, 10, 11, 12],\n",
        "            [13, 14, 15, 16]])\n",
        "x=x.reshape(1, 4, 4, 1)"
      ],
      "execution_count": null,
      "outputs": []
    },
    {
      "cell_type": "code",
      "metadata": {
        "colab": {
          "base_uri": "https://localhost:8080/"
        },
        "id": "fgWb6Yi9ZhNo",
        "outputId": "7b9da089-ba4f-4768-e719-e984d0a65fab"
      },
      "source": [
        "p_out=tf.nn.max_pool2d(x, ksize=2, strides=2, padding='VALID')\n",
        "p_out.numpy().reshape(2, 2)"
      ],
      "execution_count": null,
      "outputs": [
        {
          "output_type": "execute_result",
          "data": {
            "text/plain": [
              "array([[ 6.,  8.],\n",
              "       [14., 16.]], dtype=float32)"
            ]
          },
          "metadata": {
            "tags": []
          },
          "execution_count": 23
        }
      ]
    },
    {
      "cell_type": "code",
      "metadata": {
        "colab": {
          "base_uri": "https://localhost:8080/"
        },
        "id": "VDAq3nOTZryt",
        "outputId": "cbaae29f-c2a2-4665-c764-d9b35a2a7556"
      },
      "source": [
        "p_out"
      ],
      "execution_count": null,
      "outputs": [
        {
          "output_type": "execute_result",
          "data": {
            "text/plain": [
              "<tf.Tensor: shape=(1, 2, 2, 1), dtype=float32, numpy=\n",
              "array([[[[ 6.],\n",
              "         [ 8.]],\n",
              "\n",
              "        [[14.],\n",
              "         [16.]]]], dtype=float32)>"
            ]
          },
          "metadata": {
            "tags": []
          },
          "execution_count": 24
        }
      ]
    },
    {
      "cell_type": "markdown",
      "metadata": {
        "id": "XHPf_ARaacwz"
      },
      "source": [
        "## 8.3 합성곱 신경망의 구조를 알아봅시다"
      ]
    },
    {
      "cell_type": "code",
      "metadata": {
        "id": "0PP3BRcKaQCP"
      },
      "source": [
        "def relu(x):\n",
        "  return np.maximum(x, 0)"
      ],
      "execution_count": null,
      "outputs": []
    },
    {
      "cell_type": "code",
      "metadata": {
        "colab": {
          "base_uri": "https://localhost:8080/"
        },
        "id": "WbAwP4gQalEz",
        "outputId": "0c6dd6b3-8f58-47d6-b38e-ede44cecd850"
      },
      "source": [
        "x=np.array([-1, 2, -3, 4, -5])\n",
        "relu(x)"
      ],
      "execution_count": null,
      "outputs": [
        {
          "output_type": "execute_result",
          "data": {
            "text/plain": [
              "array([0, 2, 0, 4, 0])"
            ]
          },
          "metadata": {
            "tags": []
          },
          "execution_count": 26
        }
      ]
    },
    {
      "cell_type": "code",
      "metadata": {
        "colab": {
          "base_uri": "https://localhost:8080/"
        },
        "id": "0Jr-517haoBr",
        "outputId": "845e0018-1ef8-458f-dd14-83e4d0bc8872"
      },
      "source": [
        "r_out=tf.nn.relu(x)\n",
        "r_out.numpy()"
      ],
      "execution_count": null,
      "outputs": [
        {
          "output_type": "execute_result",
          "data": {
            "text/plain": [
              "array([0, 2, 0, 4, 0])"
            ]
          },
          "metadata": {
            "tags": []
          },
          "execution_count": 27
        }
      ]
    },
    {
      "cell_type": "markdown",
      "metadata": {
        "id": "QRUj14dPav7h"
      },
      "source": [
        "## 8.4 합성곱 신경망을 만듭니다."
      ]
    },
    {
      "cell_type": "code",
      "metadata": {
        "id": "YimbdxT-atjD"
      },
      "source": [
        "import tensorflow as tf"
      ],
      "execution_count": null,
      "outputs": []
    },
    {
      "cell_type": "code",
      "metadata": {
        "id": "cf9DuC3z91Vs"
      },
      "source": [
        "class ConvolutionNetwork:\r\n",
        "  def __init__(self, n_kernels=10, units=10, batch_size=32, learning_rate=0.1):\r\n",
        "    self.n_kernels=n_kernels  # 합성곱의 커널 개수\r\n",
        "    self.kernel_size=3  # 커널 크기\r\n",
        "    self.optimizer=None # 옵티마이저\r\n",
        "    self.conv_w=None  # 합성곱 층의 가중치\r\n",
        "    self.conv_b=None  # 합성곱 층의 절편\r\n",
        "    self.units=units  # 은닉층의 뉴런 개수\r\n",
        "    self.batch_size=batch_size  # 배치 크기\r\n",
        "    self.w1=None  # 은닉층의 가중치\r\n",
        "    self.b1=None  # 은닉층의 절편\r\n",
        "    self.w2=None  # 출력층의 가중치\r\n",
        "    self.b2=None  # 출력층의 절편\r\n",
        "    self.a1=None  # 은닉층의 활성화 출력\r\n",
        "    self.losses=[]  # 훈련 손실\r\n",
        "    self.val_losses=[]  # 검증 손실\r\n",
        "    self.lr=learning_rate # 학습률\r\n",
        "\r\n",
        "  def forpass(self, x): # 구현을 쉽게 하기 위해 tensorflow의 연산을 사용\r\n",
        "    # 3*3 합성곱 연산\r\n",
        "    c_out=tf.nn.conv2d(x, self.conv_w, strides=1, padding='SAME')+self.conv_b\r\n",
        "    # relu 함수 적용\r\n",
        "    r_out=tf.nn.relu(c_out)\r\n",
        "    # 2*2 최대 풀링 적용\r\n",
        "    p_out=tf.nn.max_pool2d(r_out, ksize=2, strides=2, padding='VALID')\r\n",
        "    # 첫 번째 배치 차원을 제외하고 출력을 일렬로 펼침\r\n",
        "    f_out=tf.reshape(p_out, [x.shape[0], -1])\r\n",
        "    # 첫 번째 층(은닉층)의 선형 식을 계산, matmul:tensorflow의 점곱함수\r\n",
        "    z1=tf.matmul(f_out, self.w1)+self.b1\r\n",
        "    # 활성화 함수 relu를 적용\r\n",
        "    a1=tf.nn.relu(z1)\r\n",
        "    # 두 번째 층(출력층)의 선형 식 계산\r\n",
        "    z2=tf.matmul(a1, self.w2)+self.b2\r\n",
        "    return z2\r\n",
        "\r\n",
        "  def init_weights(self, input_shape, n_classes):\r\n",
        "    g=tf.initializers.glorot_uniform()  #tensorflow의 가중치 초기화 방법\r\n",
        "    # tf 배열로 초기화, 3*3*1배열(흑백 이미지이므로 깊이가 1)이 n_kernels개\r\n",
        "    self.conv_w=tf.Variable(g((3, 3, 1, self.n_kernels))) # 4차 배열\r\n",
        "    self.conv_b=tf.Variable(np.zeros(self.n_kernels), dtype=float)    \r\n",
        "    n_features=14*14*self.n_kernels   # 최종 출력(특성)의 개수\r\n",
        "    self.w1=tf.Variable(g((n_features, self.units)))  #(특성 개수, 은닉층 크기)\r\n",
        "    self.b1=tf.Variable(np.zeros(self.units), dtype=float)  #은닉층 크기\r\n",
        "    self.w2=tf.Variable(g((self.units, n_classes))) #(은닉층 크기, 클래스 개수)\r\n",
        "    self.b2=tf.Variable(np.zeros(n_classes), dtype=float) #클리스 개수\r\n",
        "\r\n",
        "  def fit(self, x, y, epochs=100, x_val=None, y_val=None):\r\n",
        "    #은닉층과 출력층의 가중치 초기화\r\n",
        "    self.init_weights(x.shape, y.shape[1])  # x의 개수, 원핫 인코딩한 y의 개수\r\n",
        "    self.optimizer=tf.optimizers.SGD(learning_rate=self.lr)\r\n",
        "    # epochs 만큼 반복\r\n",
        "    for i in range(epochs):\r\n",
        "      print(\"epoch\", i, end=' ')\r\n",
        "      batch_losses=[]\r\n",
        "      # 제너레이터 함수에서 반환한 미니배치를 순환\r\n",
        "      for x_batch, y_batch in self.gen_batch(x, y):\r\n",
        "        print('.', end='')\r\n",
        "        self.training(x_batch, y_batch)\r\n",
        "        # 배치 손실 기록\r\n",
        "        batch_losses.append(self.get_loss(x_batch, y_batch))\r\n",
        "      print()\r\n",
        "      # 배치 손실 평균내어 훈련 손실 값으로 저장\r\n",
        "      self.losses.append(np.mean(batch_losses))\r\n",
        "      # 검증 세트에 대한 손실 계산\r\n",
        "      self.val_losses.append(self.get_loss(x_val, y_val))\r\n",
        "\r\n",
        "  def gen_batch(self, x, y):\r\n",
        "    bins=len(x)//self.batch_size  #미니배치 횟수\r\n",
        "    indexes=np.random.permutation(np.arange(len(x)))  #인덱스를 섞음\r\n",
        "    x=x[indexes]\r\n",
        "    y=y[indexes]\r\n",
        "    for i in range(bins):\r\n",
        "      start=self.batch_size*i\r\n",
        "      end=self.batch_size*(i+1)\r\n",
        "      yield x[start:end], y[start:end]  #batch_size만큼 슬라이싱하여 반환\r\n",
        "\r\n",
        "  def training(self, x, y):\r\n",
        "    m=len(x)  #샘플 개수\r\n",
        "    # with block안에서 일어나는 모든 연산을 tape에 기록하고 with 밖에서\r\n",
        "    #  tape에 기록된 연산의 그래디언트를 자동으로 추적해서 계산\r\n",
        "    with tf.GradientTape() as tape: #tape객체를 tf.GradientTape()으로 선언\r\n",
        "      z=self.forpass(x) #정방향 계산 수행\r\n",
        "      #손실 계산\r\n",
        "      loss=tf.nn.softmax_cross_entropy_with_logits(y, z)\r\n",
        "      #손실의 평균을 저장\r\n",
        "      loss=tf.reduce_mean(loss)\r\n",
        "\r\n",
        "    weights_list=[self.conv_w, self.conv_b, self.w1, self.b1, self.w2, self.b2]\r\n",
        "    #가중치에 대한 gradient 계산, weights_list의 값들에 대한 loss의 gradient\r\n",
        "    grads=tape.gradient(loss, weights_list)\r\n",
        "    #가중치 업데이트, 각 grads의 값을 weights_list의 원소와 묶어 apply\r\n",
        "    self.optimizer.apply_gradients(zip(grads, weights_list))\r\n",
        "\r\n",
        "  def predict(self, x):\r\n",
        "    z=self.forpass(x) #정방향 계산 수행\r\n",
        "    return np.argmax(z.numpy(), axis=1) #가장 큰 값의 인덱스 반환\r\n",
        "\r\n",
        "  def score(self, x, y):\r\n",
        "    #예측과 타깃 열 벡터를 비교해 true의 비율을 반환\r\n",
        "    return np.mean(self.predict(x)==np.argmax(y, axis=1))\r\n",
        "\r\n",
        "  def get_loss(self, x, y):\r\n",
        "    z=self.forpass(x) #정방향 계산 수행\r\n",
        "    #손실을 계산해 저장\r\n",
        "    loss=tf.reduce_mean(tf.nn.softmax_cross_entropy_with_logits(y, z))\r\n",
        "    return loss.numpy()"
      ],
      "execution_count": null,
      "outputs": []
    },
    {
      "cell_type": "code",
      "metadata": {
        "colab": {
          "base_uri": "https://localhost:8080/"
        },
        "id": "q0oY1cFoZkTK",
        "outputId": "1cf2c568-41c0-4047-9e64-1bfb081641dc"
      },
      "source": [
        "x=tf.Variable(np.array([1.0, 2.0, 3.0]))\r\n",
        "with tf.GradientTape() as tape:\r\n",
        "  y=x**3+2*x+5\r\n",
        "\r\n",
        "# 그래디언트 계산\r\n",
        "print(tape.gradient(y, x))  # 각 x값에 대해 3*x^2+2"
      ],
      "execution_count": null,
      "outputs": [
        {
          "output_type": "stream",
          "text": [
            "tf.Tensor([ 5. 14. 29.], shape=(3,), dtype=float64)\n"
          ],
          "name": "stdout"
        }
      ]
    },
    {
      "cell_type": "code",
      "metadata": {
        "colab": {
          "base_uri": "https://localhost:8080/"
        },
        "id": "57-mpCiQZvV6",
        "outputId": "edc9d5cb-7736-40bb-ed05-0fc86e1b7e7c"
      },
      "source": [
        "x=tf.Variable(np.array([1.0, 2.0, 3.0]))\r\n",
        "with tf.GradientTape() as tape:\r\n",
        "  y=tf.nn.softmax(x)\r\n",
        "\r\n",
        "# 그래디언트 계산\r\n",
        "print(tape.gradient(y, x))  #softmax함수의 x값에 대한 그래디언트"
      ],
      "execution_count": null,
      "outputs": [
        {
          "output_type": "stream",
          "text": [
            "tf.Tensor([1.99908031e-17 5.43406367e-17 1.47713165e-16], shape=(3,), dtype=float64)\n"
          ],
          "name": "stdout"
        }
      ]
    },
    {
      "cell_type": "code",
      "metadata": {
        "colab": {
          "base_uri": "https://localhost:8080/"
        },
        "id": "QjV8HfX-aFg9",
        "outputId": "32bbe3a6-e8e9-4704-a04d-78d0adf99c78"
      },
      "source": [
        "# 데이터 준비\r\n",
        "(x_train_all, y_train_all), (x_test, y_test)=tf.keras.datasets.fashion_mnist.load_data()"
      ],
      "execution_count": null,
      "outputs": [
        {
          "output_type": "stream",
          "text": [
            "Downloading data from https://storage.googleapis.com/tensorflow/tf-keras-datasets/train-labels-idx1-ubyte.gz\n",
            "32768/29515 [=================================] - 0s 0us/step\n",
            "Downloading data from https://storage.googleapis.com/tensorflow/tf-keras-datasets/train-images-idx3-ubyte.gz\n",
            "26427392/26421880 [==============================] - 0s 0us/step\n",
            "Downloading data from https://storage.googleapis.com/tensorflow/tf-keras-datasets/t10k-labels-idx1-ubyte.gz\n",
            "8192/5148 [===============================================] - 0s 0us/step\n",
            "Downloading data from https://storage.googleapis.com/tensorflow/tf-keras-datasets/t10k-images-idx3-ubyte.gz\n",
            "4423680/4422102 [==============================] - 0s 0us/step\n"
          ],
          "name": "stdout"
        }
      ]
    },
    {
      "cell_type": "code",
      "metadata": {
        "id": "njtF9r9pbm7D"
      },
      "source": [
        "from sklearn.model_selection import train_test_split\r\n",
        "x_train, x_val, y_train, y_val=train_test_split(x_train_all, y_train_all, stratify=y_train_all,\r\n",
        "                                                test_size=0.2, random_state=42)"
      ],
      "execution_count": null,
      "outputs": []
    },
    {
      "cell_type": "code",
      "metadata": {
        "id": "c3_Feirsb7ON"
      },
      "source": [
        "# one-hot encoding\r\n",
        "y_train_encoded=tf.keras.utils.to_categorical(y_train)\r\n",
        "y_val_encoded=tf.keras.utils.to_categorical(y_val)"
      ],
      "execution_count": null,
      "outputs": []
    },
    {
      "cell_type": "code",
      "metadata": {
        "id": "fC0rwo7OcDqT"
      },
      "source": [
        "x_train=x_train.reshape(-1, 28, 28, 1)  # 각 입력을 28*28*1 크기의 배열로 만듦\r\n",
        "x_val=x_val.reshape(-1, 28, 28, 1)"
      ],
      "execution_count": null,
      "outputs": []
    },
    {
      "cell_type": "code",
      "metadata": {
        "colab": {
          "base_uri": "https://localhost:8080/"
        },
        "id": "NWPcPvCzcZUJ",
        "outputId": "23d20685-a05b-42e8-cc3c-a6fd0c36b9e6"
      },
      "source": [
        "x_train.shape"
      ],
      "execution_count": null,
      "outputs": [
        {
          "output_type": "execute_result",
          "data": {
            "text/plain": [
              "(48000, 28, 28, 1)"
            ]
          },
          "metadata": {
            "tags": []
          },
          "execution_count": 37
        }
      ]
    },
    {
      "cell_type": "code",
      "metadata": {
        "id": "xZs-OAQIca2a"
      },
      "source": [
        "x_train=x_train/255\r\n",
        "x_val=x_val/255"
      ],
      "execution_count": null,
      "outputs": []
    },
    {
      "cell_type": "code",
      "metadata": {
        "colab": {
          "base_uri": "https://localhost:8080/",
          "height": 204
        },
        "id": "3I3k421AceZJ",
        "outputId": "94348da8-e8dc-456f-ccd1-1d0ca0157460"
      },
      "source": [
        "cn=ConvolutionNetwork(n_kernels=10, units=100, batch_size=128, learning_rate=0.01)\r\n",
        "cn.fit(x_train, y_train_encoded, x_val=x_val, y_val=y_val_encoded, epochs=20)"
      ],
      "execution_count": null,
      "outputs": [
        {
          "output_type": "error",
          "ename": "NameError",
          "evalue": "ignored",
          "traceback": [
            "\u001b[0;31m---------------------------------------------------------------------------\u001b[0m",
            "\u001b[0;31mNameError\u001b[0m                                 Traceback (most recent call last)",
            "\u001b[0;32m<ipython-input-15-6fe7e190b617>\u001b[0m in \u001b[0;36m<module>\u001b[0;34m()\u001b[0m\n\u001b[0;32m----> 1\u001b[0;31m \u001b[0mcn\u001b[0m\u001b[0;34m=\u001b[0m\u001b[0mConvolutionNetwork\u001b[0m\u001b[0;34m(\u001b[0m\u001b[0mn_kernels\u001b[0m\u001b[0;34m=\u001b[0m\u001b[0;36m10\u001b[0m\u001b[0;34m,\u001b[0m \u001b[0munits\u001b[0m\u001b[0;34m=\u001b[0m\u001b[0;36m100\u001b[0m\u001b[0;34m,\u001b[0m \u001b[0mbatch_size\u001b[0m\u001b[0;34m=\u001b[0m\u001b[0;36m128\u001b[0m\u001b[0;34m,\u001b[0m \u001b[0mlearning_rate\u001b[0m\u001b[0;34m=\u001b[0m\u001b[0;36m0.01\u001b[0m\u001b[0;34m)\u001b[0m\u001b[0;34m\u001b[0m\u001b[0;34m\u001b[0m\u001b[0m\n\u001b[0m\u001b[1;32m      2\u001b[0m \u001b[0mcn\u001b[0m\u001b[0;34m.\u001b[0m\u001b[0mfit\u001b[0m\u001b[0;34m(\u001b[0m\u001b[0mx_train\u001b[0m\u001b[0;34m,\u001b[0m \u001b[0my_train_encoded\u001b[0m\u001b[0;34m,\u001b[0m \u001b[0mx_val\u001b[0m\u001b[0;34m=\u001b[0m\u001b[0mx_val\u001b[0m\u001b[0;34m,\u001b[0m \u001b[0my_val\u001b[0m\u001b[0;34m=\u001b[0m\u001b[0my_val_encoded\u001b[0m\u001b[0;34m,\u001b[0m \u001b[0mepochs\u001b[0m\u001b[0;34m=\u001b[0m\u001b[0;36m20\u001b[0m\u001b[0;34m)\u001b[0m\u001b[0;34m\u001b[0m\u001b[0;34m\u001b[0m\u001b[0m\n",
            "\u001b[0;31mNameError\u001b[0m: name 'ConvolutionNetwork' is not defined"
          ]
        }
      ]
    },
    {
      "cell_type": "code",
      "metadata": {
        "colab": {
          "base_uri": "https://localhost:8080/",
          "height": 239
        },
        "id": "SvfVw9Pocp_f",
        "outputId": "6a8a4e28-cd50-4c31-cb5a-6f2953f43754"
      },
      "source": [
        "import matplotlib.pyplot as plt\r\n",
        "plt.plot(cn.losses)\r\n",
        "plt.plot(cn.val_losses)\r\n",
        "plt.ylabel('loss')\r\n",
        "plt.xlabel('iteration')\r\n",
        "plt.legend(['train_loss', 'val_loss'])\r\n",
        "plt.show()"
      ],
      "execution_count": null,
      "outputs": [
        {
          "output_type": "error",
          "ename": "NameError",
          "evalue": "ignored",
          "traceback": [
            "\u001b[0;31m---------------------------------------------------------------------------\u001b[0m",
            "\u001b[0;31mNameError\u001b[0m                                 Traceback (most recent call last)",
            "\u001b[0;32m<ipython-input-14-1a3ee70644bb>\u001b[0m in \u001b[0;36m<module>\u001b[0;34m()\u001b[0m\n\u001b[1;32m      1\u001b[0m \u001b[0;32mimport\u001b[0m \u001b[0mmatplotlib\u001b[0m\u001b[0;34m.\u001b[0m\u001b[0mpyplot\u001b[0m \u001b[0;32mas\u001b[0m \u001b[0mplt\u001b[0m\u001b[0;34m\u001b[0m\u001b[0;34m\u001b[0m\u001b[0m\n\u001b[0;32m----> 2\u001b[0;31m \u001b[0mplt\u001b[0m\u001b[0;34m.\u001b[0m\u001b[0mplot\u001b[0m\u001b[0;34m(\u001b[0m\u001b[0mcn\u001b[0m\u001b[0;34m.\u001b[0m\u001b[0mlosses\u001b[0m\u001b[0;34m)\u001b[0m\u001b[0;34m\u001b[0m\u001b[0;34m\u001b[0m\u001b[0m\n\u001b[0m\u001b[1;32m      3\u001b[0m \u001b[0mplt\u001b[0m\u001b[0;34m.\u001b[0m\u001b[0mplot\u001b[0m\u001b[0;34m(\u001b[0m\u001b[0mcn\u001b[0m\u001b[0;34m.\u001b[0m\u001b[0mval_losses\u001b[0m\u001b[0;34m)\u001b[0m\u001b[0;34m\u001b[0m\u001b[0;34m\u001b[0m\u001b[0m\n\u001b[1;32m      4\u001b[0m \u001b[0mplt\u001b[0m\u001b[0;34m.\u001b[0m\u001b[0mylabel\u001b[0m\u001b[0;34m(\u001b[0m\u001b[0;34m'loss'\u001b[0m\u001b[0;34m)\u001b[0m\u001b[0;34m\u001b[0m\u001b[0;34m\u001b[0m\u001b[0m\n\u001b[1;32m      5\u001b[0m \u001b[0mplt\u001b[0m\u001b[0;34m.\u001b[0m\u001b[0mxlabel\u001b[0m\u001b[0;34m(\u001b[0m\u001b[0;34m'iteration'\u001b[0m\u001b[0;34m)\u001b[0m\u001b[0;34m\u001b[0m\u001b[0;34m\u001b[0m\u001b[0m\n",
            "\u001b[0;31mNameError\u001b[0m: name 'cn' is not defined"
          ]
        }
      ]
    },
    {
      "cell_type": "code",
      "metadata": {
        "colab": {
          "base_uri": "https://localhost:8080/"
        },
        "id": "AIP2Mfvte1fB",
        "outputId": "a3aa0fe5-127f-4194-b5ec-0fe125a41a27"
      },
      "source": [
        "cn.score(x_val, y_val_encoded)"
      ],
      "execution_count": null,
      "outputs": [
        {
          "output_type": "execute_result",
          "data": {
            "text/plain": [
              "0.8799166666666667"
            ]
          },
          "metadata": {
            "tags": []
          },
          "execution_count": 41
        }
      ]
    },
    {
      "cell_type": "markdown",
      "metadata": {
        "id": "5esn28oef3eq"
      },
      "source": [
        "## 8.5 케라스로 합성곱 신경망 모델을 만듭니다."
      ]
    },
    {
      "cell_type": "code",
      "metadata": {
        "id": "5uVH9JpWe6w5"
      },
      "source": [
        "from tensorflow.keras.layers import Conv2D, MaxPooling2D, Flatten, Dense"
      ],
      "execution_count": null,
      "outputs": []
    },
    {
      "cell_type": "code",
      "metadata": {
        "id": "txc_3qCn__4X"
      },
      "source": [
        "conv1=tf.keras.Sequential() #Sequential class에 하나씩 층을 추가\r\n",
        "# 필터 10개, 필터의 가중치는 3*3, 활성화는 relu, 패딩은 same\r\n",
        "# 케라스의 첫 번째 층에는 항상 입력 크기를 지정해야 하므로 28*28*1(흑백이므로 1)\r\n",
        "conv1.add(Conv2D(10, (3, 3), activation='relu', padding='same', input_shape=(28, 28, 1)))\r\n",
        "conv1.add(MaxPooling2D((2, 2))) # stride를 따로 지정하지 않아도 pooling 크기만큼 이동\r\n",
        "conv1.add(Flatten())  # 특성 맵을 1차원으로 펼침, keras API, 가중치x\r\n",
        "conv1.add(Dense(100, activation='relu'))  #100개 뉴런을 가진 은닉층\r\n",
        "conv1.add(Dense(10, activation='softmax'))  #10개 뉴런을 가진 출력층"
      ],
      "execution_count": null,
      "outputs": []
    },
    {
      "cell_type": "code",
      "metadata": {
        "colab": {
          "base_uri": "https://localhost:8080/"
        },
        "id": "y3KRomJEAVZp",
        "outputId": "b96075c2-9780-4376-c0cb-3eea31c9197d"
      },
      "source": [
        "conv1.summary()\r\n",
        "# 합성곱 층에서 합성곱을 수행한 후 output은 28*28*10(필터가 10개)\r\n",
        "#   w(3*3)+b(1)=10개의 param이 각 필터마다 있으므로 100개의 param\r\n",
        "# 풀링층의 output은 절반으로 크기를 줄이므로 14*14*14(필터는 줄지 않음)\r\n",
        "#   풀링에는 param이 필요하지 않으므로 0개의 parameter\r\n",
        "# flatten에서 펼치면 14*14*10의 배열이 생기고 param은 필요하지 않음\r\n",
        "# 은닉층은 100개의 뉴런으로 설정했고, 1960개의 입력이므로\r\n",
        "#   w(1960*100)+b(1*100)=196100개의 param\r\n",
        "# 출력층은 10개의 뉴런으로 설정했고, 100개의 입력이므로\r\n",
        "#   w(100*10)+b(1*10)=1010개의 param\r\n",
        "# 따라서 합성곱층을 이용하면 아주 적은 가중치연산으로 효율적으로 특성을 감지"
      ],
      "execution_count": null,
      "outputs": [
        {
          "output_type": "stream",
          "text": [
            "Model: \"sequential\"\n",
            "_________________________________________________________________\n",
            "Layer (type)                 Output Shape              Param #   \n",
            "=================================================================\n",
            "conv2d (Conv2D)              (None, 28, 28, 10)        100       \n",
            "_________________________________________________________________\n",
            "max_pooling2d (MaxPooling2D) (None, 14, 14, 10)        0         \n",
            "_________________________________________________________________\n",
            "flatten (Flatten)            (None, 1960)              0         \n",
            "_________________________________________________________________\n",
            "dense (Dense)                (None, 100)               196100    \n",
            "_________________________________________________________________\n",
            "dense_1 (Dense)              (None, 10)                1010      \n",
            "=================================================================\n",
            "Total params: 197,210\n",
            "Trainable params: 197,210\n",
            "Non-trainable params: 0\n",
            "_________________________________________________________________\n"
          ],
          "name": "stdout"
        }
      ]
    },
    {
      "cell_type": "code",
      "metadata": {
        "id": "l9jPk93aCs_D"
      },
      "source": [
        "# 케라스 모델 훈련\r\n",
        "conv1.compile(optimizer='adam', loss='categorical_crossentropy', metrics=['accuracy'])"
      ],
      "execution_count": null,
      "outputs": []
    },
    {
      "cell_type": "code",
      "metadata": {
        "colab": {
          "base_uri": "https://localhost:8080/"
        },
        "id": "yPd-hln-FBkB",
        "outputId": "1a1861af-e635-4522-84ba-d83c5b083b92"
      },
      "source": [
        "history=conv1.fit(x_train, y_train_encoded, epochs=20, validation_data=(x_val, y_val_encoded))"
      ],
      "execution_count": null,
      "outputs": [
        {
          "output_type": "stream",
          "text": [
            "Epoch 1/20\n",
            "1500/1500 [==============================] - 22s 14ms/step - loss: 0.9672 - accuracy: 0.8171 - val_loss: 0.3918 - val_accuracy: 0.8683\n",
            "Epoch 2/20\n",
            "1500/1500 [==============================] - 21s 14ms/step - loss: 0.3371 - accuracy: 0.8814 - val_loss: 0.3402 - val_accuracy: 0.8798\n",
            "Epoch 3/20\n",
            "1500/1500 [==============================] - 21s 14ms/step - loss: 0.2827 - accuracy: 0.8974 - val_loss: 0.3259 - val_accuracy: 0.8856\n",
            "Epoch 4/20\n",
            "1500/1500 [==============================] - 21s 14ms/step - loss: 0.2543 - accuracy: 0.9049 - val_loss: 0.3245 - val_accuracy: 0.8928\n",
            "Epoch 5/20\n",
            "1500/1500 [==============================] - 22s 14ms/step - loss: 0.2370 - accuracy: 0.9120 - val_loss: 0.3047 - val_accuracy: 0.9026\n",
            "Epoch 6/20\n",
            "1500/1500 [==============================] - 22s 15ms/step - loss: 0.2172 - accuracy: 0.9200 - val_loss: 0.3205 - val_accuracy: 0.8932\n",
            "Epoch 7/20\n",
            "1500/1500 [==============================] - 21s 14ms/step - loss: 0.2017 - accuracy: 0.9242 - val_loss: 0.3180 - val_accuracy: 0.8932\n",
            "Epoch 8/20\n",
            "1500/1500 [==============================] - 22s 14ms/step - loss: 0.1870 - accuracy: 0.9305 - val_loss: 0.3322 - val_accuracy: 0.9000\n",
            "Epoch 9/20\n",
            "1500/1500 [==============================] - 22s 14ms/step - loss: 0.1707 - accuracy: 0.9366 - val_loss: 0.3407 - val_accuracy: 0.8988\n",
            "Epoch 10/20\n",
            "1500/1500 [==============================] - 21s 14ms/step - loss: 0.1664 - accuracy: 0.9387 - val_loss: 0.3915 - val_accuracy: 0.8954\n",
            "Epoch 11/20\n",
            "1500/1500 [==============================] - 22s 14ms/step - loss: 0.1491 - accuracy: 0.9431 - val_loss: 0.3935 - val_accuracy: 0.8957\n",
            "Epoch 12/20\n",
            "1500/1500 [==============================] - 22s 14ms/step - loss: 0.1417 - accuracy: 0.9476 - val_loss: 0.4227 - val_accuracy: 0.8928\n",
            "Epoch 13/20\n",
            "1500/1500 [==============================] - 22s 14ms/step - loss: 0.1371 - accuracy: 0.9491 - val_loss: 0.4074 - val_accuracy: 0.9012\n",
            "Epoch 14/20\n",
            "1500/1500 [==============================] - 22s 14ms/step - loss: 0.1248 - accuracy: 0.9529 - val_loss: 0.4387 - val_accuracy: 0.8992\n",
            "Epoch 15/20\n",
            "1500/1500 [==============================] - 22s 14ms/step - loss: 0.1205 - accuracy: 0.9551 - val_loss: 0.4563 - val_accuracy: 0.8971\n",
            "Epoch 16/20\n",
            "1500/1500 [==============================] - 21s 14ms/step - loss: 0.1141 - accuracy: 0.9576 - val_loss: 0.4674 - val_accuracy: 0.8987\n",
            "Epoch 17/20\n",
            "1500/1500 [==============================] - 22s 14ms/step - loss: 0.1059 - accuracy: 0.9605 - val_loss: 0.5479 - val_accuracy: 0.8976\n",
            "Epoch 18/20\n",
            "1500/1500 [==============================] - 22s 14ms/step - loss: 0.1061 - accuracy: 0.9610 - val_loss: 0.6223 - val_accuracy: 0.8827\n",
            "Epoch 19/20\n",
            "1500/1500 [==============================] - 22s 14ms/step - loss: 0.1018 - accuracy: 0.9618 - val_loss: 0.5636 - val_accuracy: 0.8889\n",
            "Epoch 20/20\n",
            "1500/1500 [==============================] - 22s 15ms/step - loss: 0.1014 - accuracy: 0.9628 - val_loss: 0.5463 - val_accuracy: 0.8993\n"
          ],
          "name": "stdout"
        }
      ]
    },
    {
      "cell_type": "code",
      "metadata": {
        "colab": {
          "base_uri": "https://localhost:8080/",
          "height": 281
        },
        "id": "Qhq-fhnVFKZW",
        "outputId": "df75e81c-7cfd-4fd1-da43-fef0e8baaa00"
      },
      "source": [
        "plt.plot(history.history['loss'])\r\n",
        "plt.plot(history.history['val_loss'])\r\n",
        "plt.ylabel('loss')\r\n",
        "plt.xlabel('epoch')\r\n",
        "plt.legend(['train_loss', 'val_loss'])\r\n",
        "plt.show()\r\n",
        "# 훈련 세트의 손실은 급격히 감소, 검증 세트의 손실은 증가\r\n",
        "# 과대적합이 발생함"
      ],
      "execution_count": null,
      "outputs": [
        {
          "output_type": "display_data",
          "data": {
            "image/png": "[encoded data removed]",
            "text/plain": [
              "<Figure size 432x288 with 1 Axes>"
            ]
          },
          "metadata": {
            "tags": [],
            "needs_background": "light"
          }
        }
      ]
    },
    {
      "cell_type": "code",
      "metadata": {
        "colab": {
          "base_uri": "https://localhost:8080/",
          "height": 279
        },
        "id": "Ut9AiIpnHNcA",
        "outputId": "790b7d97-d8a3-49aa-fd81-445c154004f9"
      },
      "source": [
        "plt.plot(history.history['accuracy'])\r\n",
        "plt.plot(history.history['val_accuracy'])\r\n",
        "plt.ylabel('accuracy')\r\n",
        "plt.xlabel('epoch')\r\n",
        "plt.legend(['train_accuracy', 'val_accuracy'])\r\n",
        "plt.show()\r\n",
        "# 훈련 세트의 정확도는 증가하고, 검증 세트의 정확도는 감소\r\n",
        "# 과대적합 발생"
      ],
      "execution_count": null,
      "outputs": [
        {
          "output_type": "display_data",
          "data": {
            "image/png": "[encoded data removed]",
            "text/plain": [
              "<Figure size 432x288 with 1 Axes>"
            ]
          },
          "metadata": {
            "tags": [],
            "needs_background": "light"
          }
        }
      ]
    },
    {
      "cell_type": "code",
      "metadata": {
        "id": "I9qoUEmGHxIV"
      },
      "source": [
        "loss, accuracy=conv1.evaluate(x_val, y_val_encoded, verbose=0)"
      ],
      "execution_count": null,
      "outputs": []
    },
    {
      "cell_type": "code",
      "metadata": {
        "colab": {
          "base_uri": "https://localhost:8080/"
        },
        "id": "y2E8jixoH3g1",
        "outputId": "df825fe9-fa66-4198-c956-d4ead29f3ca6"
      },
      "source": [
        "print(accuracy)"
      ],
      "execution_count": null,
      "outputs": [
        {
          "output_type": "stream",
          "text": [
            "0.8993333578109741\n"
          ],
          "name": "stdout"
        }
      ]
    },
    {
      "cell_type": "code",
      "metadata": {
        "id": "np91LEsXH-at"
      },
      "source": [
        "# 케라스로 만든 합성곱 신경망에 드롭아웃 적용하기\r\n",
        "from tensorflow.keras.layers import Dropout"
      ],
      "execution_count": null,
      "outputs": []
    },
    {
      "cell_type": "code",
      "metadata": {
        "id": "RzPvoM8uLrZX"
      },
      "source": [
        "conv2=tf.keras.Sequential()\r\n",
        "conv2.add(Conv2D(10, (3, 3), activation='relu', padding='same', input_shape=(28, 28, 1)))\r\n",
        "conv2.add(MaxPooling2D((2, 2)))\r\n",
        "conv2.add(Flatten())\r\n",
        "conv2.add(Dropout(0.5)) # 0.5드롭아웃 비율로 드롭아웃을 추가\r\n",
        "conv2.add(Dense(100, activation='relu'))\r\n",
        "conv2.add(Dense(10, activation='softmax'))"
      ],
      "execution_count": null,
      "outputs": []
    },
    {
      "cell_type": "code",
      "metadata": {
        "colab": {
          "base_uri": "https://localhost:8080/"
        },
        "id": "bIa_DQ86MJGd",
        "outputId": "aea88cd8-f299-48bd-dc20-8f8059deeaef"
      },
      "source": [
        "conv2.summary()\r\n",
        "# dropout은 따로 연산이 필요없기 때문에 param은 0개이고\r\n",
        "# 뉴런을 비활성화 시킨 후 출력을 증가시키기 때문에 output은 flatten과 동일"
      ],
      "execution_count": null,
      "outputs": [
        {
          "output_type": "stream",
          "text": [
            "Model: \"sequential_2\"\n",
            "_________________________________________________________________\n",
            "Layer (type)                 Output Shape              Param #   \n",
            "=================================================================\n",
            "conv2d_1 (Conv2D)            (None, 28, 28, 10)        100       \n",
            "_________________________________________________________________\n",
            "max_pooling2d_1 (MaxPooling2 (None, 14, 14, 10)        0         \n",
            "_________________________________________________________________\n",
            "flatten_1 (Flatten)          (None, 1960)              0         \n",
            "_________________________________________________________________\n",
            "dropout (Dropout)            (None, 1960)              0         \n",
            "_________________________________________________________________\n",
            "dense_2 (Dense)              (None, 100)               196100    \n",
            "_________________________________________________________________\n",
            "dense_3 (Dense)              (None, 10)                1010      \n",
            "=================================================================\n",
            "Total params: 197,210\n",
            "Trainable params: 197,210\n",
            "Non-trainable params: 0\n",
            "_________________________________________________________________\n"
          ],
          "name": "stdout"
        }
      ]
    },
    {
      "cell_type": "code",
      "metadata": {
        "id": "eg_lhRWPMMej"
      },
      "source": [
        "conv2.compile(optimizer='adam', loss='categorical_crossentropy', metrics=['accuracy'])"
      ],
      "execution_count": null,
      "outputs": []
    },
    {
      "cell_type": "code",
      "metadata": {
        "colab": {
          "base_uri": "https://localhost:8080/"
        },
        "id": "1ZIxStqsMvWn",
        "outputId": "401ccef6-4984-4b60-c548-aaf48836482e"
      },
      "source": [
        "history=conv2.fit(x_train, y_train_encoded, epochs=20, validation_data=(x_val, y_val_encoded))"
      ],
      "execution_count": null,
      "outputs": [
        {
          "output_type": "stream",
          "text": [
            "Epoch 1/20\n",
            "1500/1500 [==============================] - 23s 15ms/step - loss: 1.6284 - accuracy: 0.7428 - val_loss: 0.4356 - val_accuracy: 0.8409\n",
            "Epoch 2/20\n",
            "1500/1500 [==============================] - 23s 15ms/step - loss: 0.4605 - accuracy: 0.8334 - val_loss: 0.3684 - val_accuracy: 0.8643\n",
            "Epoch 3/20\n",
            "1500/1500 [==============================] - 22s 15ms/step - loss: 0.3959 - accuracy: 0.8561 - val_loss: 0.3443 - val_accuracy: 0.8777\n",
            "Epoch 4/20\n",
            "1500/1500 [==============================] - 23s 15ms/step - loss: 0.3643 - accuracy: 0.8659 - val_loss: 0.3225 - val_accuracy: 0.8809\n",
            "Epoch 5/20\n",
            "1500/1500 [==============================] - 22s 15ms/step - loss: 0.3497 - accuracy: 0.8723 - val_loss: 0.3136 - val_accuracy: 0.8919\n",
            "Epoch 6/20\n",
            "1500/1500 [==============================] - 22s 15ms/step - loss: 0.3382 - accuracy: 0.8760 - val_loss: 0.3059 - val_accuracy: 0.8942\n",
            "Epoch 7/20\n",
            "1500/1500 [==============================] - 22s 15ms/step - loss: 0.3289 - accuracy: 0.8807 - val_loss: 0.2980 - val_accuracy: 0.8916\n",
            "Epoch 8/20\n",
            "1500/1500 [==============================] - 22s 15ms/step - loss: 0.3162 - accuracy: 0.8839 - val_loss: 0.2986 - val_accuracy: 0.8889\n",
            "Epoch 9/20\n",
            "1500/1500 [==============================] - 22s 15ms/step - loss: 0.3111 - accuracy: 0.8838 - val_loss: 0.2959 - val_accuracy: 0.8907\n",
            "Epoch 10/20\n",
            "1500/1500 [==============================] - 22s 15ms/step - loss: 0.3022 - accuracy: 0.8886 - val_loss: 0.3115 - val_accuracy: 0.8842\n",
            "Epoch 11/20\n",
            "1500/1500 [==============================] - 22s 15ms/step - loss: 0.2954 - accuracy: 0.8926 - val_loss: 0.2904 - val_accuracy: 0.8976\n",
            "Epoch 12/20\n",
            "1500/1500 [==============================] - 23s 15ms/step - loss: 0.2927 - accuracy: 0.8918 - val_loss: 0.2793 - val_accuracy: 0.9030\n",
            "Epoch 13/20\n",
            "1500/1500 [==============================] - 23s 15ms/step - loss: 0.2869 - accuracy: 0.8942 - val_loss: 0.2918 - val_accuracy: 0.8989\n",
            "Epoch 14/20\n",
            "1500/1500 [==============================] - 23s 15ms/step - loss: 0.2894 - accuracy: 0.8949 - val_loss: 0.2971 - val_accuracy: 0.8968\n",
            "Epoch 15/20\n",
            "1500/1500 [==============================] - 23s 15ms/step - loss: 0.2803 - accuracy: 0.8986 - val_loss: 0.2913 - val_accuracy: 0.8982\n",
            "Epoch 16/20\n",
            "1500/1500 [==============================] - 23s 15ms/step - loss: 0.2785 - accuracy: 0.8981 - val_loss: 0.2895 - val_accuracy: 0.8984\n",
            "Epoch 17/20\n",
            "1500/1500 [==============================] - 23s 15ms/step - loss: 0.2653 - accuracy: 0.9018 - val_loss: 0.2861 - val_accuracy: 0.9001\n",
            "Epoch 18/20\n",
            "1500/1500 [==============================] - 23s 15ms/step - loss: 0.2744 - accuracy: 0.9004 - val_loss: 0.2967 - val_accuracy: 0.8957\n",
            "Epoch 19/20\n",
            "1500/1500 [==============================] - 23s 15ms/step - loss: 0.2620 - accuracy: 0.9033 - val_loss: 0.2894 - val_accuracy: 0.8987\n",
            "Epoch 20/20\n",
            "1500/1500 [==============================] - 22s 15ms/step - loss: 0.2633 - accuracy: 0.9036 - val_loss: 0.2880 - val_accuracy: 0.9009\n"
          ],
          "name": "stdout"
        }
      ]
    },
    {
      "cell_type": "code",
      "metadata": {
        "colab": {
          "base_uri": "https://localhost:8080/",
          "height": 279
        },
        "id": "f5r0YsDrM5bt",
        "outputId": "7c705169-68d4-4dad-fbd2-45fb610bb204"
      },
      "source": [
        "plt.plot(history.history['loss'])\r\n",
        "plt.plot(history.history['val_loss'])\r\n",
        "plt.ylabel('loss')\r\n",
        "plt.xlabel('epoch')\r\n",
        "plt.legend(['train_loss', 'val_loss'])\r\n",
        "plt.show()\r\n",
        "# 훈련과 검증 데이터 모두 손실이 점차 감소"
      ],
      "execution_count": null,
      "outputs": [
        {
          "output_type": "display_data",
          "data": {
            "image/png": "[encoded data removed]",
            "text/plain": [
              "<Figure size 432x288 with 1 Axes>"
            ]
          },
          "metadata": {
            "tags": [],
            "needs_background": "light"
          }
        }
      ]
    },
    {
      "cell_type": "code",
      "metadata": {
        "colab": {
          "base_uri": "https://localhost:8080/",
          "height": 279
        },
        "id": "ens99Dd3WUQc",
        "outputId": "ba5f89e5-95f7-48da-c070-a94cc17c928f"
      },
      "source": [
        "plt.plot(history.history['accuracy'])\r\n",
        "plt.plot(history.history['val_accuracy'])\r\n",
        "plt.ylabel('accuracy')\r\n",
        "plt.xlabel('epoch')\r\n",
        "plt.legend(['train_accuracy', 'val_accuracy'])\r\n",
        "plt.show()\r\n",
        "# 정확도도 훈련, 검증 데이터 모두 완만하게 증가"
      ],
      "execution_count": null,
      "outputs": [
        {
          "output_type": "display_data",
          "data": {
            "image/png": "[encoded data removed]",
            "text/plain": [
              "<Figure size 432x288 with 1 Axes>"
            ]
          },
          "metadata": {
            "tags": [],
            "needs_background": "light"
          }
        }
      ]
    },
    {
      "cell_type": "code",
      "metadata": {
        "id": "6CIRWs2wWlJe"
      },
      "source": [
        "loss, accuracy=conv2.evaluate(x_val, y_val_encoded, verbose=0)"
      ],
      "execution_count": null,
      "outputs": []
    },
    {
      "cell_type": "code",
      "metadata": {
        "colab": {
          "base_uri": "https://localhost:8080/"
        },
        "id": "ysc_8aQdWpL3",
        "outputId": "0ec27706-bed9-4b88-b650-323f82c0270c"
      },
      "source": [
        "print(accuracy)"
      ],
      "execution_count": null,
      "outputs": [
        {
          "output_type": "stream",
          "text": [
            "0.9009166955947876\n"
          ],
          "name": "stdout"
        }
      ]
    }
  ]
}