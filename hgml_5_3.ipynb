{
  "nbformat": 4,
  "nbformat_minor": 0,
  "metadata": {
    "colab": {
      "name": "hgml_5-3.ipynb",
      "provenance": [],
      "collapsed_sections": [],
      "authorship_tag": "ABX9TyMnh0jQFfSTiQNmJymPMBUv",
      "include_colab_link": true
    },
    "kernelspec": {
      "name": "python3",
      "display_name": "Python 3"
    }
  },
  "cells": [
    {
      "cell_type": "markdown",
      "metadata": {
        "id": "view-in-github",
        "colab_type": "text"
      },
      "source": [
        "<a href=\"https://colab.research.google.com/github/shwldus067/colab/blob/main/hgml_5_3.ipynb\" target=\"_parent\"><img src=\"https://colab.research.google.com/assets/colab-badge.svg\" alt=\"Open In Colab\"/></a>"
      ]
    },
    {
      "cell_type": "markdown",
      "metadata": {
        "id": "kZ-3I1S5VecJ"
      },
      "source": [
        "# 트리의 앙상블\r\n",
        "## 랜덤 포레스트"
      ]
    },
    {
      "cell_type": "code",
      "metadata": {
        "id": "iRdcW5d2U2kC"
      },
      "source": [
        "import numpy as np\r\n",
        "import pandas as pd\r\n",
        "from sklearn.model_selection import train_test_split"
      ],
      "execution_count": null,
      "outputs": []
    },
    {
      "cell_type": "code",
      "metadata": {
        "id": "WQnuKXRTVwGt"
      },
      "source": [
        "wine=pd.read_csv('https://bit.ly/wine-date')\r\n",
        "data=wine[['alcohol', 'sugar', 'pH']].to_numpy()\r\n",
        "target=wine['class'].to_numpy()"
      ],
      "execution_count": null,
      "outputs": []
    },
    {
      "cell_type": "code",
      "metadata": {
        "id": "SoQDu271V_SH"
      },
      "source": [
        "train_input, test_input, train_target, test_target=train_test_split(data, target, test_size=0.2, random_state=42)"
      ],
      "execution_count": null,
      "outputs": []
    },
    {
      "cell_type": "code",
      "metadata": {
        "id": "WuefNIGDWYfV"
      },
      "source": [
        "from sklearn.model_selection import cross_validate\r\n",
        "from sklearn.ensemble import RandomForestClassifier"
      ],
      "execution_count": null,
      "outputs": []
    },
    {
      "cell_type": "code",
      "metadata": {
        "colab": {
          "base_uri": "https://localhost:8080/"
        },
        "id": "swcrqOH-WvXO",
        "outputId": "5417b427-b3c0-4792-97a4-7b5455c0ec94"
      },
      "source": [
        "rf=RandomForestClassifier(n_jobs=-1, random_state=42)\r\n",
        "scores=cross_validate(rf, train_input, train_target, return_train_score=True, n_jobs=-1)\r\n",
        "print(np.mean(scores['train_score']), np.mean(scores['test_score']))"
      ],
      "execution_count": null,
      "outputs": [
        {
          "output_type": "stream",
          "text": [
            "0.9973541965122431 0.8905151032797809\n"
          ],
          "name": "stdout"
        }
      ]
    },
    {
      "cell_type": "code",
      "metadata": {
        "colab": {
          "base_uri": "https://localhost:8080/"
        },
        "id": "ULafyE9gXB7e",
        "outputId": "39a82dd7-e40d-49b0-a635-fe1155ce0c4b"
      },
      "source": [
        "rf.fit(train_input, train_target)\r\n",
        "print(rf.feature_importances_)"
      ],
      "execution_count": null,
      "outputs": [
        {
          "output_type": "stream",
          "text": [
            "[0.23167441 0.50039841 0.26792718]\n"
          ],
          "name": "stdout"
        }
      ]
    },
    {
      "cell_type": "code",
      "metadata": {
        "colab": {
          "base_uri": "https://localhost:8080/"
        },
        "id": "55Bi4C11XWLz",
        "outputId": "a7060358-9461-4a55-d004-e6c165a4ee0a"
      },
      "source": [
        "rf=RandomForestClassifier(oob_score=True, n_jobs=-1, random_state=42)\r\n",
        "rf.fit(train_input, train_target)\r\n",
        "print(rf.oob_score_)"
      ],
      "execution_count": null,
      "outputs": [
        {
          "output_type": "stream",
          "text": [
            "0.8934000384837406\n"
          ],
          "name": "stdout"
        }
      ]
    },
    {
      "cell_type": "markdown",
      "metadata": {
        "id": "xWnmhFNfXh2y"
      },
      "source": [
        "## 엑스트라 트리"
      ]
    },
    {
      "cell_type": "code",
      "metadata": {
        "id": "w8GRrcJcXgCA"
      },
      "source": [
        "from sklearn.ensemble import ExtraTreesClassifier"
      ],
      "execution_count": null,
      "outputs": []
    },
    {
      "cell_type": "code",
      "metadata": {
        "colab": {
          "base_uri": "https://localhost:8080/"
        },
        "id": "3r1_PbbyXnkG",
        "outputId": "d9973bf1-f95c-4802-ee8d-e8dec1f3abf9"
      },
      "source": [
        "et=ExtraTreesClassifier(n_jobs=-1, random_state=42)\r\n",
        "scores=cross_validate(et, train_input, train_target, return_train_score=True, n_jobs=-1)\r\n",
        "print(np.mean(scores['train_score']), np.mean(scores['test_score']))"
      ],
      "execution_count": null,
      "outputs": [
        {
          "output_type": "stream",
          "text": [
            "0.9974503966084433 0.8887848893166506\n"
          ],
          "name": "stdout"
        }
      ]
    },
    {
      "cell_type": "code",
      "metadata": {
        "colab": {
          "base_uri": "https://localhost:8080/"
        },
        "id": "9sIOvzAjYDWV",
        "outputId": "5c0fb23e-8cdc-4d37-e78a-2ac24f228b37"
      },
      "source": [
        "et.fit(train_input, train_target)\r\n",
        "print(et.feature_importances_)"
      ],
      "execution_count": null,
      "outputs": [
        {
          "output_type": "stream",
          "text": [
            "[0.20183568 0.52242907 0.27573525]\n"
          ],
          "name": "stdout"
        }
      ]
    },
    {
      "cell_type": "markdown",
      "metadata": {
        "id": "YL9PMuOnaMIU"
      },
      "source": [
        "## 그레이디언트 부스팅"
      ]
    },
    {
      "cell_type": "code",
      "metadata": {
        "id": "QqYrGMJwaKMf"
      },
      "source": [
        "from sklearn.ensemble import GradientBoostingClassifier"
      ],
      "execution_count": null,
      "outputs": []
    },
    {
      "cell_type": "code",
      "metadata": {
        "colab": {
          "base_uri": "https://localhost:8080/"
        },
        "id": "kb12DaS6aVLn",
        "outputId": "d22054e5-1824-4409-d6c1-5586cba33426"
      },
      "source": [
        "gb=GradientBoostingClassifier(random_state=42)\r\n",
        "scores=cross_validate(gb, train_input, train_target, return_train_score=True, n_jobs=-1)\r\n",
        "print(np.mean(scores['train_score']), np.mean(scores['test_score']))"
      ],
      "execution_count": null,
      "outputs": [
        {
          "output_type": "stream",
          "text": [
            "0.8881086892152563 0.8720430147331015\n"
          ],
          "name": "stdout"
        }
      ]
    },
    {
      "cell_type": "code",
      "metadata": {
        "colab": {
          "base_uri": "https://localhost:8080/"
        },
        "id": "KbcvfpRJajJs",
        "outputId": "697e6439-c514-4f3e-b074-4d32e1ec3750"
      },
      "source": [
        "gb=GradientBoostingClassifier(n_estimators=500, learning_rate=0.2, random_state=42)\r\n",
        "scores=cross_validate(gb, train_input, train_target, return_train_score=True, n_jobs=-1)\r\n",
        "print(np.mean(scores['train_score']), np.mean(scores['test_score']))"
      ],
      "execution_count": null,
      "outputs": [
        {
          "output_type": "stream",
          "text": [
            "0.9464595437171814 0.8780082549788999\n"
          ],
          "name": "stdout"
        }
      ]
    },
    {
      "cell_type": "code",
      "metadata": {
        "colab": {
          "base_uri": "https://localhost:8080/"
        },
        "id": "h-Hx0bBVa8tt",
        "outputId": "1ccc9db0-454d-416b-b16c-edbd57a94f74"
      },
      "source": [
        "gb.fit(train_input, train_target)\r\n",
        "print(gb.feature_importances_)"
      ],
      "execution_count": null,
      "outputs": [
        {
          "output_type": "stream",
          "text": [
            "[0.15872278 0.68010884 0.16116839]\n"
          ],
          "name": "stdout"
        }
      ]
    },
    {
      "cell_type": "markdown",
      "metadata": {
        "id": "QvUq5RIgbVOC"
      },
      "source": [
        "## 히스토그램 기반 그레이디언트 부스팅"
      ]
    },
    {
      "cell_type": "code",
      "metadata": {
        "id": "gFmlCyXfbEGy"
      },
      "source": [
        "from sklearn.experimental import enable_hist_gradient_boosting\r\n",
        "from sklearn.ensemble import HistGradientBoostingClassifier"
      ],
      "execution_count": null,
      "outputs": []
    },
    {
      "cell_type": "code",
      "metadata": {
        "colab": {
          "base_uri": "https://localhost:8080/"
        },
        "id": "2GmeoQLNbq3E",
        "outputId": "af22873e-4737-4a8b-9622-6bfe72ef0e3b"
      },
      "source": [
        "hgb=HistGradientBoostingClassifier(random_state=42)\r\n",
        "scores=cross_validate(hgb, train_input, train_target, return_train_score=True, n_jobs=-1)\r\n",
        "print(np.mean(scores['train_score']), np.mean(scores['test_score']))"
      ],
      "execution_count": null,
      "outputs": [
        {
          "output_type": "stream",
          "text": [
            "0.9321723946453317 0.8801241948619236\n"
          ],
          "name": "stdout"
        }
      ]
    },
    {
      "cell_type": "code",
      "metadata": {
        "colab": {
          "base_uri": "https://localhost:8080/"
        },
        "id": "i5qPuCFvb45B",
        "outputId": "fb5e4f3e-ed38-4590-8c84-6e6235b3a674"
      },
      "source": [
        "hgb.fit(train_input, train_target)\r\n",
        "print(rf.feature_importances_)"
      ],
      "execution_count": null,
      "outputs": [
        {
          "output_type": "stream",
          "text": [
            "[0.23167441 0.50039841 0.26792718]\n"
          ],
          "name": "stdout"
        }
      ]
    },
    {
      "cell_type": "code",
      "metadata": {
        "colab": {
          "base_uri": "https://localhost:8080/"
        },
        "id": "JpIZxKYkb_bt",
        "outputId": "55e0b127-10cc-45df-d94a-303cf39da375"
      },
      "source": [
        "hgb.score(test_input, test_target)"
      ],
      "execution_count": null,
      "outputs": [
        {
          "output_type": "execute_result",
          "data": {
            "text/plain": [
              "0.8723076923076923"
            ]
          },
          "metadata": {
            "tags": []
          },
          "execution_count": 23
        }
      ]
    },
    {
      "cell_type": "markdown",
      "metadata": {
        "id": "XSDEct3ScDq4"
      },
      "source": [
        "## XGBoost"
      ]
    },
    {
      "cell_type": "code",
      "metadata": {
        "id": "nyh69QJZcGY3"
      },
      "source": [
        "from xgboost import XGBClassifier"
      ],
      "execution_count": null,
      "outputs": []
    },
    {
      "cell_type": "code",
      "metadata": {
        "colab": {
          "base_uri": "https://localhost:8080/"
        },
        "id": "4i8hCiAkcK08",
        "outputId": "8577243c-bc44-4813-f344-5210a0be8934"
      },
      "source": [
        "xgb=XGBClassifier(tree_method='hist', random_state=42)\r\n",
        "scores=cross_validate(xgb, train_input, train_target, return_train_score=True, n_jobs=-1)\r\n",
        "print(np.mean(scores['train_score']), np.mean(scores['test_score']))"
      ],
      "execution_count": null,
      "outputs": [
        {
          "output_type": "stream",
          "text": [
            "0.8824322471423747 0.8726214185237284\n"
          ],
          "name": "stdout"
        }
      ]
    },
    {
      "cell_type": "markdown",
      "metadata": {
        "id": "_HEJwQg5caGj"
      },
      "source": [
        "## LightGBM"
      ]
    },
    {
      "cell_type": "code",
      "metadata": {
        "id": "D_t5tADIcZC2"
      },
      "source": [
        "from lightgbm import LGBMClassifier"
      ],
      "execution_count": null,
      "outputs": []
    },
    {
      "cell_type": "code",
      "metadata": {
        "colab": {
          "base_uri": "https://localhost:8080/"
        },
        "id": "A5TTDAikcgRt",
        "outputId": "924f4b71-9b31-4e13-cd8f-c64f8f66ce0d"
      },
      "source": [
        "lgb=LGBMClassifier(random_state=42)\r\n",
        "scores=cross_validate(lgb, train_input, train_target, return_train_score=True, n_jobs=-1)\r\n",
        "print(np.mean(scores['train_score']), np.mean(scores['test_score']))"
      ],
      "execution_count": null,
      "outputs": [
        {
          "output_type": "stream",
          "text": [
            "0.9338079582727165 0.8789710890649293\n"
          ],
          "name": "stdout"
        }
      ]
    }
  ]
}