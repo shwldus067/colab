{
  "nbformat": 4,
  "nbformat_minor": 0,
  "metadata": {
    "colab": {
      "name": "Untitled5.ipynb",
      "provenance": [],
      "authorship_tag": "ABX9TyNugKAwh70YMEaHBFuolOrW",
      "include_colab_link": true
    },
    "kernelspec": {
      "name": "python3",
      "display_name": "Python 3"
    }
  },
  "cells": [
    {
      "cell_type": "markdown",
      "metadata": {
        "id": "view-in-github",
        "colab_type": "text"
      },
      "source": [
        "<a href=\"https://colab.research.google.com/github/shwldus067/colab/blob/main/Untitled5.ipynb\" target=\"_parent\"><img src=\"https://colab.research.google.com/assets/colab-badge.svg\" alt=\"Open In Colab\"/></a>"
      ]
    },
    {
      "cell_type": "code",
      "metadata": {
        "id": "OQIzsr9r5SQh"
      },
      "source": [
        "class SingleLayer:\n",
        "  def __init__(self, learning_rate=0.1, l1=0, l2=0):\n",
        "    self.w=None\n",
        "    self.b=None\n",
        "    self.losses=[]\n",
        "    self.val_losses=[]\n",
        "    self.w_history=[]\n",
        "    self.lr=learning_rate\n",
        "    self.l1=l1\n",
        "    self.l2=l2\n",
        "\n",
        "  def forpass(self, x):\n",
        "    z=np.sum(x*self.w)+self.b   #직선 방정식 계산\n",
        "    return z\n",
        "  \n",
        "  def backprop(self, x, err):\n",
        "    w_grad=x*err    #가중치에 대한 그래디언트 계산\n",
        "    b_grad=1*err    #절편에 대한 그래디언트 계산\n",
        "    return w_grad, b_grad\n",
        "\n",
        "  def activation(self, z):\n",
        "    z=np.clip(z, -100, None)  #안전한 np.exp() 계산을 위해 값 조정\n",
        "    a=1/(1+np.exp(-z))    #시그모이드 계산\n",
        "    return a\n",
        "\n",
        "  def reg_loss(self):   #L1 규제와 L2 규제 적용\n",
        "    return self.l1*np.sum(np.abs(self.w))+self.l2/2*np.sum(self.w**2)\n",
        "  \n",
        "  def update_val_loss(self, x_val, y_val):\n",
        "    if x_val is None:\n",
        "      return\n",
        "    val_loss=0\n",
        "    for i in range(len(x_val)):\n",
        "      z=self.forpass(x_val[i])    #정방향 계산\n",
        "      a=self.activation(z)        #활성화 함수 적용\n",
        "      a=np.clip(a, 1e-10, 1-1e-10)\n",
        "      val_loss+=-(y_val[i]*np.log(a)+(1-y_val[i])*np.log(1-a))\n",
        "    self.val_losses.append(val_loss/len(y_val)+self.reg_loss)\n",
        "\n",
        "  def fit(self, x, y, epochs=100, x_val=None, y_val=None):\n",
        "    self.w=np.ones(x.shape[1])    #가중치 초기화\n",
        "    self.b=0                      #절편 초기화\n",
        "    self.w_history.append(self.w.copy())   #가중치 기록\n",
        "    np.random.seed(42)            #랜덤 시드 지정\n",
        "    for i in range(epochs):\n",
        "      loss=0\n",
        "      indexes=np.random.permutation(np.arange(len(x)))    #인덱스 섞음\n",
        "      for i in indexes:   #모든 샘플에 대해 반복\n",
        "        z=self.forpass(x[i])    #정방향 계산\n",
        "        a=self.activation(z)    #활성화 함수 적용\n",
        "        err=-(y[i]-a)   #오차 계산\n",
        "        w_grad, b_grad=self.backprop(x[i], err) #역방향 계산\n",
        "        #그래디언트에서 패널티 항의 미분 값을 더함\n",
        "        w_grad+=self.l1*np.sign(self.w)+self.l2*self.w\n",
        "        self.w-=self.lr*w_grad  #가중치 업데이트\n",
        "        self.b-=b_grad    #절편 업데이트\n",
        "        self.w_history.append(self.w.copy())  #가중치 기록\n",
        "        a=np.clip(a, 1e-10, 1-1e-10)    #안전한 로그 계산을 위해 클리핑\n",
        "        loss+=-(y[i]*np.log(a)+(1-y[i])*np.log(1-a))  #손실 누적\n",
        "      self.losses.append(loss/len(y)+self.reg_loss()) #평균 손실 저장\n",
        "      self.update_val_loss(x_val, y_val)    #검증 세트에 대한 손실 계산\n",
        "    \n",
        "  def predict(self, x):\n",
        "    z=[self.forpass(x_i) for x_i in x]  #정방향 계산\n",
        "    return np.array(z)>=0   #스텝 함수 적용\n",
        "\n",
        "  def score(self, x, y):\n",
        "    return np.mean(self.predict(x)==y)"
      ],
      "execution_count": null,
      "outputs": []
    },
    {
      "cell_type": "code",
      "metadata": {
        "id": "BHz87XVcqPiw"
      },
      "source": [
        "l1_list=[0.0001, 0.001, 0.01]\n",
        "for l1 in l1_list:\n",
        "  lyr=SingleLayer(l1=l1)\n",
        "  lyr.fit(x_train_scaled)"
      ],
      "execution_count": null,
      "outputs": []
    }
  ]
}