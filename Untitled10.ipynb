{
  "nbformat": 4,
  "nbformat_minor": 0,
  "metadata": {
    "colab": {
      "name": "Untitled9.ipynb",
      "provenance": [],
      "collapsed_sections": [],
      "authorship_tag": "ABX9TyMIDIfBuKMiJI4yg/nrSR0X",
      "include_colab_link": true
    },
    "kernelspec": {
      "name": "python3",
      "display_name": "Python 3"
    }
  },
  "cells": [
    {
      "cell_type": "markdown",
      "metadata": {
        "id": "view-in-github",
        "colab_type": "text"
      },
      "source": [
        "<a href=\"https://colab.research.google.com/github/shwldus067/colab/blob/main/Untitled10.ipynb\" target=\"_parent\"><img src=\"https://colab.research.google.com/assets/colab-badge.svg\" alt=\"Open In Colab\"/></a>"
      ]
    },
    {
      "cell_type": "markdown",
      "metadata": {
        "id": "GV1wDysR4VmY"
      },
      "source": [
        "# 9. 텍스트를 분류합니다.\r\n",
        "## 9.2 순환 신경망을 만듭니다."
      ]
    },
    {
      "cell_type": "code",
      "metadata": {
        "id": "9ufSdEKo4Rk9"
      },
      "source": [
        "import numpy as np\r\n",
        "from tensorflow.keras.datasets import imdb  #데이터를 얻을 수 있는 모듈"
      ],
      "execution_count": null,
      "outputs": []
    },
    {
      "cell_type": "code",
      "metadata": {
        "colab": {
          "base_uri": "https://localhost:8080/"
        },
        "id": "I3xrDGr24fqW",
        "outputId": "37ff4f50-2a57-4251-bcb8-068946c6712e"
      },
      "source": [
        "# 훈련데이터, 테스트데이터로 나눠서 입력받을 수 있음\r\n",
        "# skip_top : 가장 많이 나타나는 단어 20개는 제외시킴(ex> a, the, 조사, 관사를 제외하기 위해)\r\n",
        "# num_words : 사용하는 단어 개수 제한\r\n",
        "(x_train_all, y_train_all), (x_test, y_test)=imdb.load_data(skip_top=20, num_words=100)"
      ],
      "execution_count": null,
      "outputs": [
        {
          "output_type": "stream",
          "text": [
            "Downloading data from https://storage.googleapis.com/tensorflow/tf-keras-datasets/imdb.npz\n",
            "17465344/17464789 [==============================] - 0s 0us/step\n"
          ],
          "name": "stdout"
        },
        {
          "output_type": "stream",
          "text": [
            "<string>:6: VisibleDeprecationWarning: Creating an ndarray from ragged nested sequences (which is a list-or-tuple of lists-or-tuples-or ndarrays with different lengths or shapes) is deprecated. If you meant to do this, you must specify 'dtype=object' when creating the ndarray\n",
            "/usr/local/lib/python3.6/dist-packages/tensorflow/python/keras/datasets/imdb.py:159: VisibleDeprecationWarning: Creating an ndarray from ragged nested sequences (which is a list-or-tuple of lists-or-tuples-or ndarrays with different lengths or shapes) is deprecated. If you meant to do this, you must specify 'dtype=object' when creating the ndarray\n",
            "  x_train, y_train = np.array(xs[:idx]), np.array(labels[:idx])\n",
            "/usr/local/lib/python3.6/dist-packages/tensorflow/python/keras/datasets/imdb.py:160: VisibleDeprecationWarning: Creating an ndarray from ragged nested sequences (which is a list-or-tuple of lists-or-tuples-or ndarrays with different lengths or shapes) is deprecated. If you meant to do this, you must specify 'dtype=object' when creating the ndarray\n",
            "  x_test, y_test = np.array(xs[idx:]), np.array(labels[idx:])\n"
          ],
          "name": "stderr"
        }
      ]
    },
    {
      "cell_type": "code",
      "metadata": {
        "colab": {
          "base_uri": "https://localhost:8080/"
        },
        "id": "x7qI0boT4nPE",
        "outputId": "59ae0874-f5a3-439f-e6ca-6209913d0ef2"
      },
      "source": [
        "print(x_train_all.shape, y_train_all.shape)"
      ],
      "execution_count": null,
      "outputs": [
        {
          "output_type": "stream",
          "text": [
            "(25000,) (25000,)\n"
          ],
          "name": "stdout"
        }
      ]
    },
    {
      "cell_type": "code",
      "metadata": {
        "colab": {
          "base_uri": "https://localhost:8080/"
        },
        "id": "KO_Ksa6W5OZd",
        "outputId": "fd652f92-33db-4699-da15-021c1a454ad7"
      },
      "source": [
        "print(x_train_all[0])"
      ],
      "execution_count": null,
      "outputs": [
        {
          "output_type": "stream",
          "text": [
            "[2, 2, 22, 2, 43, 2, 2, 2, 2, 65, 2, 2, 66, 2, 2, 2, 36, 2, 2, 25, 2, 43, 2, 2, 50, 2, 2, 2, 35, 2, 2, 2, 2, 2, 2, 2, 2, 2, 2, 2, 39, 2, 2, 2, 2, 2, 2, 38, 2, 2, 2, 2, 50, 2, 2, 2, 2, 2, 2, 22, 2, 2, 2, 2, 2, 22, 71, 87, 2, 2, 43, 2, 38, 76, 2, 2, 2, 2, 22, 2, 2, 2, 2, 2, 2, 2, 2, 2, 62, 2, 2, 2, 2, 2, 2, 2, 2, 2, 2, 2, 2, 66, 2, 33, 2, 2, 2, 2, 38, 2, 2, 25, 2, 51, 36, 2, 48, 25, 2, 33, 2, 22, 2, 2, 28, 77, 52, 2, 2, 2, 2, 82, 2, 2, 2, 2, 2, 2, 2, 2, 2, 2, 2, 2, 2, 2, 36, 71, 43, 2, 2, 26, 2, 2, 46, 2, 2, 2, 2, 2, 2, 88, 2, 2, 2, 2, 98, 32, 2, 56, 26, 2, 2, 2, 2, 2, 2, 2, 22, 21, 2, 2, 26, 2, 2, 2, 30, 2, 2, 51, 36, 28, 2, 92, 25, 2, 2, 2, 65, 2, 38, 2, 88, 2, 2, 2, 2, 2, 2, 2, 2, 32, 2, 2, 2, 2, 2, 32]\n"
          ],
          "name": "stdout"
        }
      ]
    },
    {
      "cell_type": "code",
      "metadata": {
        "colab": {
          "base_uri": "https://localhost:8080/"
        },
        "id": "trp4VM0V5SRS",
        "outputId": "5c7d1734-20cd-4f26-c8b6-6ad23e68f31d"
      },
      "source": [
        "for i in range(len(x_train_all)):\r\n",
        "  x_train_all[i]=[w for w in x_train_all[i] if w>2]\r\n",
        "\r\n",
        "print(x_train_all[0])"
      ],
      "execution_count": null,
      "outputs": [
        {
          "output_type": "stream",
          "text": [
            "[22, 43, 65, 66, 36, 25, 43, 50, 35, 39, 38, 50, 22, 22, 71, 87, 43, 38, 76, 22, 62, 66, 33, 38, 25, 51, 36, 48, 25, 33, 22, 28, 77, 52, 82, 36, 71, 43, 26, 46, 88, 98, 32, 56, 26, 22, 21, 26, 30, 51, 36, 28, 92, 25, 65, 38, 88, 32, 32]\n"
          ],
          "name": "stdout"
        }
      ]
    },
    {
      "cell_type": "code",
      "metadata": {
        "colab": {
          "base_uri": "https://localhost:8080/"
        },
        "id": "r543Cv5i5exT",
        "outputId": "7b550406-d4cf-4e27-b9f0-5a0a5c114ae1"
      },
      "source": [
        "# imdb에서 단어의 index를 찾기 위한 사전\r\n",
        "word_to_index=imdb.get_word_index()\r\n",
        "word_to_index['movie']  # 'movie'단어의 index는 17"
      ],
      "execution_count": null,
      "outputs": [
        {
          "output_type": "stream",
          "text": [
            "Downloading data from https://storage.googleapis.com/tensorflow/tf-keras-datasets/imdb_word_index.json\n",
            "1646592/1641221 [==============================] - 0s 0us/step\n"
          ],
          "name": "stdout"
        },
        {
          "output_type": "execute_result",
          "data": {
            "text/plain": [
              "17"
            ]
          },
          "metadata": {
            "tags": []
          },
          "execution_count": 6
        }
      ]
    },
    {
      "cell_type": "code",
      "metadata": {
        "colab": {
          "base_uri": "https://localhost:8080/"
        },
        "id": "SzDaapjv6K5b",
        "outputId": "2b98e540-f86a-4287-b3b1-f32e0b2d14c0"
      },
      "source": [
        "# index로 주어진 x_train_all의 값들을 단어로 바꾸기 위해 word_to_index의 값을 이용해\r\n",
        "#   index:'단어'로 새로운 사전을 만듦\r\n",
        "index_to_word={word_to_index[k]: k for k in word_to_index}\r\n",
        "\r\n",
        "for w in x_train_all[0]:\r\n",
        "  print(index_to_word[w-3], end=' ')"
      ],
      "execution_count": null,
      "outputs": [
        {
          "output_type": "stream",
          "text": [
            "film just story really they you just there an from so there film film were great just so much film would really at so you what they if you at film have been good also they were just are out because them all up are film but are be what they have don't you story so because all all "
          ],
          "name": "stdout"
        }
      ]
    },
    {
      "cell_type": "code",
      "metadata": {
        "colab": {
          "base_uri": "https://localhost:8080/"
        },
        "id": "77xnkS0x7H-A",
        "outputId": "4ebb9d78-0cc8-468a-d030-d25483c55ebe"
      },
      "source": [
        "print(x_train_all.shape, y_train_all.shape) #입력이 리스트로 주어짐"
      ],
      "execution_count": null,
      "outputs": [
        {
          "output_type": "stream",
          "text": [
            "(25000,) (25000,)\n"
          ],
          "name": "stdout"
        }
      ]
    },
    {
      "cell_type": "code",
      "metadata": {
        "colab": {
          "base_uri": "https://localhost:8080/"
        },
        "id": "UThK-YDw7OWk",
        "outputId": "5ed20fa5-2470-494d-b4f2-aab9c497c4da"
      },
      "source": [
        "print(len(x_train_all[0]), len(x_train_all[1])) #샘플마다 길이가 다름"
      ],
      "execution_count": null,
      "outputs": [
        {
          "output_type": "stream",
          "text": [
            "59 32\n"
          ],
          "name": "stdout"
        }
      ]
    },
    {
      "cell_type": "code",
      "metadata": {
        "colab": {
          "base_uri": "https://localhost:8080/"
        },
        "id": "UuAmZyBZ7TsV",
        "outputId": "d799efbb-6bbe-4a85-a127-879193df07e9"
      },
      "source": [
        "print(y_train_all[:10]) #출력값은 1 또는 0"
      ],
      "execution_count": null,
      "outputs": [
        {
          "output_type": "stream",
          "text": [
            "[1 0 0 1 0 0 1 0 1 0]\n"
          ],
          "name": "stdout"
        }
      ]
    },
    {
      "cell_type": "code",
      "metadata": {
        "id": "YRPOKeSt7VzJ"
      },
      "source": [
        "# 입력받은 데이터를 random_index배열을 만들어 훈련, 검증 데이터(4:1 비율)로 분리\r\n",
        "np.random.seed(42)\r\n",
        "random_index=np.random.permutation(25000)\r\n",
        "x_train=x_train_all[random_index[:20000]]\r\n",
        "y_train=y_train_all[random_index[:20000]]\r\n",
        "x_val=x_train_all[random_index[20000:]]\r\n",
        "y_val=y_train_all[random_index[20000:]]"
      ],
      "execution_count": null,
      "outputs": []
    },
    {
      "cell_type": "code",
      "metadata": {
        "id": "lwiCUS8M75_V"
      },
      "source": [
        "from tensorflow.keras.preprocessing import sequence\r\n",
        "# 샘플들의 길이를 100으로 맞춤\r\n",
        "# 길이를 100으로 맞추는데 100보다 짧은 샘플은 앞이 0으로 채워짐\r\n",
        "#   길이가 100보다 긴 샘플은 앞을 자름\r\n",
        "#     마지막에 주입되는 데이터가 더 큰 효과를 내는데\r\n",
        "#     마지막의 데이터가 0이 들어가면 원치 않은 결과가 나올 수 있음\r\n",
        "maxlen=100\r\n",
        "x_train_seq=sequence.pad_sequences(x_train, maxlen=maxlen)  # 문자열의 길이를 맞춰 배열로 반환\r\n",
        "x_val_seq=sequence.pad_sequences(x_val, maxlen=maxlen)"
      ],
      "execution_count": null,
      "outputs": []
    },
    {
      "cell_type": "code",
      "metadata": {
        "colab": {
          "base_uri": "https://localhost:8080/"
        },
        "id": "gL_BonXD8pKk",
        "outputId": "a418e3f1-27b9-4537-d1e8-c2890be73809"
      },
      "source": [
        "print(x_train_seq.shape, x_val_seq.shape)   # 2000*100 size의 배열"
      ],
      "execution_count": null,
      "outputs": [
        {
          "output_type": "stream",
          "text": [
            "(20000, 100) (5000, 100)\n"
          ],
          "name": "stdout"
        }
      ]
    },
    {
      "cell_type": "code",
      "metadata": {
        "colab": {
          "base_uri": "https://localhost:8080/"
        },
        "id": "5H5H0UsF8swE",
        "outputId": "960c2069-e131-4341-e069-5f4bf0a84898"
      },
      "source": [
        "print(x_train_seq[0])"
      ],
      "execution_count": null,
      "outputs": [
        {
          "output_type": "stream",
          "text": [
            "[ 0  0  0  0  0  0  0  0  0  0  0  0  0  0  0  0  0  0  0  0  0  0  0  0\n",
            "  0  0  0  0  0  0  0  0  0  0  0  0  0  0  0  0  0  0  0  0  0  0  0  0\n",
            "  0  0  0  0  0  0  0  0  0  0  0  0  0  0 35 40 27 28 40 22 83 31 85 45\n",
            " 24 23 31 70 31 76 30 98 32 22 28 51 75 56 30 33 97 53 38 46 53 74 31 35\n",
            " 23 34 22 58]\n"
          ],
          "name": "stdout"
        }
      ]
    },
    {
      "cell_type": "code",
      "metadata": {
        "id": "HY26VF778vRU"
      },
      "source": [
        "from tensorflow.keras.utils import to_categorical\r\n",
        "# one-hot encoding : 위에서 고른 100개의 각 단어마다 one-hot encoding\r\n",
        "#       -> 샘플의 각 단어마다 길이가 100인 one-hot vector가 만들어짐\r\n",
        "x_train_onehot=to_categorical(x_train_seq)\r\n",
        "x_val_onehot=to_categorical(x_val_seq)"
      ],
      "execution_count": null,
      "outputs": []
    },
    {
      "cell_type": "code",
      "metadata": {
        "colab": {
          "base_uri": "https://localhost:8080/"
        },
        "id": "3mPxHLTX-w7B",
        "outputId": "4dd27d22-ec1d-4631-e575-0efe75abb851"
      },
      "source": [
        "print(x_train_onehot.shape)"
      ],
      "execution_count": null,
      "outputs": [
        {
          "output_type": "stream",
          "text": [
            "(20000, 100, 100)\n"
          ],
          "name": "stdout"
        }
      ]
    },
    {
      "cell_type": "code",
      "metadata": {
        "colab": {
          "base_uri": "https://localhost:8080/"
        },
        "id": "njYze-NL-za-",
        "outputId": "0b3893d9-0162-40c1-cded-d542779c7c1d"
      },
      "source": [
        "print(x_train_onehot.nbytes)  # 한 vector가 4bytes"
      ],
      "execution_count": null,
      "outputs": [
        {
          "output_type": "stream",
          "text": [
            "800000000\n"
          ],
          "name": "stdout"
        }
      ]
    },
    {
      "cell_type": "code",
      "metadata": {
        "id": "JUqwMERC-9H6"
      },
      "source": [
        "import tensorflow as tf"
      ],
      "execution_count": null,
      "outputs": []
    },
    {
      "cell_type": "code",
      "metadata": {
        "id": "RivhiTFx_GYG"
      },
      "source": [
        "class RecurrentNetwork:\r\n",
        "  def __init__(self, n_cells=10, batch_size=32, learning_rate=0.1):\r\n",
        "    self.n_cells=n_cells  # 셀 개수\r\n",
        "    self.batch_size=batch_size  # 배치 크기\r\n",
        "    self.w1h=None   # 은닉 상태에 대한 가중치\r\n",
        "    self.w1x=None   # 입력에 대한 가중치\r\n",
        "    self.b1=None    # 순환층의 절편\r\n",
        "    self.w2=None    # 출력층의 가중치\r\n",
        "    self.b2=None    # 출력층의 절편\r\n",
        "    self.h=None     # 순환층의 활성화 출력\r\n",
        "    self.losses=[]  # 훈련 손실\r\n",
        "    self.val_losses=[]  # 검증 손실\r\n",
        "    self.lr=learning_rate # 학습률\r\n",
        "\r\n",
        "  def forpass(self, x):\r\n",
        "    self.h=[np.zeros((x.shape[0], self.n_cells))] # 은닉 상태 초기화\r\n",
        "    # 배치 차원과 타임스텝 차원을 바꿈\r\n",
        "    seq=np.swapaxes(x, 0, 1)\r\n",
        "    # 순환 층의 선형 식 계산\r\n",
        "    for x in seq:\r\n",
        "      z1=np.dot(x, self.w1x)+np.dot(self.h[-1], self.w1h)+self.b1\r\n",
        "      h=np.tanh(z1)   # 활성화 함수 적용\r\n",
        "      self.h.append(h)  # 역전파를 위해 은닉 상태 저장\r\n",
        "      z2=np.dot(h, self.w2)+self.b2   # 출력층의 선형 식 계산\r\n",
        "    return z2\r\n",
        "\r\n",
        "  def backprop(self, x, err):\r\n",
        "    m=len(x)\r\n",
        "    # 출력층의 가중치와 절편에 대한 그래디언트 계산\r\n",
        "    w2_grad=np.dot(self.h[-1].T, err)/m\r\n",
        "    b2_grad=np.sum(err)/m\r\n",
        "    # 배치 차원과 타임 스텝 차원을 바꿈\r\n",
        "    seq=np.swapaxes(x, 0, 1)\r\n",
        "    w1h_grad=w1x_grad=b1_grad=0\r\n",
        "    # 셀 직전(dH/dZ1 * dZ2/dH * dL/dZ2)까지 그래디언트 계산(h[-1]==H)\r\n",
        "    err_to_cell=np.dot(err, self.w2.T)*(1-self.h[-1]**2)\r\n",
        "    # 타임 스텝을 거슬러(Hp, Hpp, ...)가면서 그래디언트 전파\r\n",
        "    #   타임 스텝 전부를 계산하지 않고 10개만 계산\r\n",
        "    for x, h in zip(seq[::-1][:10], self.h[:-1][::-1][:10]):\r\n",
        "      w1h_grad+=np.dot(h.T, err_to_cell)\r\n",
        "      w1x_grad+=np.dot(x.T, err_to_cell)\r\n",
        "      b1_grad+=np.sum(err_to_cell, axis=0)\r\n",
        "      # 이전 타임 스텝의 셀 직전까지 그래디언트 계산\r\n",
        "      err_to_cell=np.dot(err_to_cell, self.w1h)*(1-h**2)\r\n",
        "    w1h_grad/=m\r\n",
        "    w1x_grad/=m\r\n",
        "    b1_grad/=m\r\n",
        "    return w1h_grad, w1x_grad, b1_grad, w2_grad, b2_grad\r\n",
        "\r\n",
        "  def sigmoid(self, z):\r\n",
        "    z=np.clip(z, -100, None)\r\n",
        "    a=1/(1+np.exp(-z))\r\n",
        "    return a\r\n",
        "\r\n",
        "  def init_weights(self, n_features, n_classes):\r\n",
        "    orth_init=tf.initializers.Orthogonal()\r\n",
        "    glorot_init=tf.initializers.GlorotUniform()\r\n",
        "    # 텍스트 분류 신경망의 출력 값은 1/0 하나이므로 현재 n_classes=1\r\n",
        "    self.w1h=orth_init((self.n_cells, self.n_cells)).numpy()  # (셀 개수, 셀 개수)\r\n",
        "    self.w1x=glorot_init((n_features, self.n_cells)).numpy()  # (특성 개수, 셀 개수)\r\n",
        "    self.b1=np.zeros(self.n_cells)    # 은닉층의 크기\r\n",
        "    self.w2=glorot_init((self.n_cells, n_classes)).numpy()  # (셀 개수, 클래스 개수)\r\n",
        "    self.b2=np.zeros(n_classes)   # 클래스 개수\r\n",
        "\r\n",
        "  def fit(self, x, y, epochs=100, x_val=None, y_val=None):\r\n",
        "    y=y.reshape(-1, 1)\r\n",
        "    y_val=y_val.reshape(-1, 1)\r\n",
        "    np.random.seed(42)\r\n",
        "    self.init_weights(x.shape[2], y.shape[1]) # 은닉층과 출력층의 가중치 초기화\r\n",
        "    for i in range(epochs):\r\n",
        "      print('epoch', i, end=' ')\r\n",
        "      batch_losses=[]\r\n",
        "      for x_batch, y_batch in self.gen_batch(x, y):\r\n",
        "        print('.', end='')\r\n",
        "        a=self.training(x_batch, y_batch)\r\n",
        "        a=np.clip(a, 1e-10, 1-1e-10)\r\n",
        "        # 로그 손실과 규제 손실을 더하여 리스트에 추가\r\n",
        "        loss=np.mean(-(y_batch*np.log(a)+(1-y_batch)*np.log(1-a)))\r\n",
        "        batch_losses.append(loss)\r\n",
        "      print()\r\n",
        "      self.losses.append(np.mean(batch_losses))\r\n",
        "      # 검증 세트에 대한 손실 계산\r\n",
        "      self.update_val_loss(x_val, y_val)\r\n",
        "\r\n",
        "  def gen_batch(self, x, y):\r\n",
        "    length=len(x)\r\n",
        "    bins=length//self.batch_size  # 미니배치 횟수\r\n",
        "    if length%self.batch_size:\r\n",
        "      bins+=1\r\n",
        "    indexes=np.random.permutation(np.arange(len(x)))  # 인덱스 섞음\r\n",
        "    x=x[indexes]\r\n",
        "    y=y[indexes]\r\n",
        "    for i in range(bins):\r\n",
        "      start=self.batch_size*i\r\n",
        "      end=self.batch_size*(i+1)\r\n",
        "      yield x[start:end], y[start:end]  # batch_size만큼 슬라이싱\r\n",
        "\r\n",
        "  def training(self, x, y):\r\n",
        "    m=len(x)\r\n",
        "    z=self.forpass(x)\r\n",
        "    a=self.sigmoid(z)\r\n",
        "    err=-(y-a)\r\n",
        "    # 오차 역전파\r\n",
        "    w1h_grad, w1x_grad, b1_grad, w2_grad, b2_grad=self.backprop(x, err)\r\n",
        "    # 셀의 가중치와 절편 업데이트\r\n",
        "    self.w1h-=self.lr*w1h_grad\r\n",
        "    self.w1x-=self.lr*w1x_grad\r\n",
        "    self.b1-=self.lr*b1_grad\r\n",
        "    # 출력층의 가중치와 절편 업데이트\r\n",
        "    self.w2-=self.lr*w2_grad\r\n",
        "    self.b2-=self.lr*b2_grad\r\n",
        "    return a\r\n",
        "\r\n",
        "  def predict(self, x):\r\n",
        "    z=self.forpass(x)\r\n",
        "    return z>0\r\n",
        "\r\n",
        "  def score(self, x, y):\r\n",
        "    return np.mean(self.predict(x)==y.reshape(-1, 1))\r\n",
        "\r\n",
        "  def update_val_loss(self, x_val, y_val):\r\n",
        "    z=self.forpass(x_val)\r\n",
        "    a=self.sigmoid(z)\r\n",
        "    a=np.clip(a, 1e-10, 1-1e-10)\r\n",
        "    val_loss=np.mean(-(y_val*np.log(a)+(1-y_val)*np.log(1-a)))\r\n",
        "    self.val_losses.append(val_loss)"
      ],
      "execution_count": null,
      "outputs": []
    },
    {
      "cell_type": "code",
      "metadata": {
        "colab": {
          "base_uri": "https://localhost:8080/",
          "height": 406
        },
        "id": "ruudZyp-VXRX",
        "outputId": "bb6aabf9-ba1a-4c7d-b0f3-e476ada5435c"
      },
      "source": [
        "rn=RecurrentNetwork(n_cells=32, batch_size=32, learning_rate=0.1)\r\n",
        "rn.fit(x_train_onehot, y_train, epochs=20, x_val=x_val_onehot, y_val=y_val)"
      ],
      "execution_count": null,
      "outputs": [
        {
          "output_type": "stream",
          "text": [
            "epoch 0 ....................................................................................................................................................................................................................."
          ],
          "name": "stdout"
        },
        {
          "output_type": "error",
          "ename": "KeyboardInterrupt",
          "evalue": "ignored",
          "traceback": [
            "\u001b[0;31m---------------------------------------------------------------------------\u001b[0m",
            "\u001b[0;31mKeyboardInterrupt\u001b[0m                         Traceback (most recent call last)",
            "\u001b[0;32m<ipython-input-20-db4bd64634e1>\u001b[0m in \u001b[0;36m<module>\u001b[0;34m()\u001b[0m\n\u001b[1;32m      1\u001b[0m \u001b[0mrn\u001b[0m\u001b[0;34m=\u001b[0m\u001b[0mRecurrentNetwork\u001b[0m\u001b[0;34m(\u001b[0m\u001b[0mn_cells\u001b[0m\u001b[0;34m=\u001b[0m\u001b[0;36m32\u001b[0m\u001b[0;34m,\u001b[0m \u001b[0mbatch_size\u001b[0m\u001b[0;34m=\u001b[0m\u001b[0;36m32\u001b[0m\u001b[0;34m,\u001b[0m \u001b[0mlearning_rate\u001b[0m\u001b[0;34m=\u001b[0m\u001b[0;36m0.1\u001b[0m\u001b[0;34m)\u001b[0m\u001b[0;34m\u001b[0m\u001b[0;34m\u001b[0m\u001b[0m\n\u001b[0;32m----> 2\u001b[0;31m \u001b[0mrn\u001b[0m\u001b[0;34m.\u001b[0m\u001b[0mfit\u001b[0m\u001b[0;34m(\u001b[0m\u001b[0mx_train_onehot\u001b[0m\u001b[0;34m,\u001b[0m \u001b[0my_train\u001b[0m\u001b[0;34m,\u001b[0m \u001b[0mepochs\u001b[0m\u001b[0;34m=\u001b[0m\u001b[0;36m20\u001b[0m\u001b[0;34m,\u001b[0m \u001b[0mx_val\u001b[0m\u001b[0;34m=\u001b[0m\u001b[0mx_val_onehot\u001b[0m\u001b[0;34m,\u001b[0m \u001b[0my_val\u001b[0m\u001b[0;34m=\u001b[0m\u001b[0my_val\u001b[0m\u001b[0;34m)\u001b[0m\u001b[0;34m\u001b[0m\u001b[0;34m\u001b[0m\u001b[0m\n\u001b[0m",
            "\u001b[0;32m<ipython-input-19-ca3aae68820d>\u001b[0m in \u001b[0;36mfit\u001b[0;34m(self, x, y, epochs, x_val, y_val)\u001b[0m\n\u001b[1;32m     73\u001b[0m       \u001b[0;32mfor\u001b[0m \u001b[0mx_batch\u001b[0m\u001b[0;34m,\u001b[0m \u001b[0my_batch\u001b[0m \u001b[0;32min\u001b[0m \u001b[0mself\u001b[0m\u001b[0;34m.\u001b[0m\u001b[0mgen_batch\u001b[0m\u001b[0;34m(\u001b[0m\u001b[0mx\u001b[0m\u001b[0;34m,\u001b[0m \u001b[0my\u001b[0m\u001b[0;34m)\u001b[0m\u001b[0;34m:\u001b[0m\u001b[0;34m\u001b[0m\u001b[0;34m\u001b[0m\u001b[0m\n\u001b[1;32m     74\u001b[0m         \u001b[0mprint\u001b[0m\u001b[0;34m(\u001b[0m\u001b[0;34m'.'\u001b[0m\u001b[0;34m,\u001b[0m \u001b[0mend\u001b[0m\u001b[0;34m=\u001b[0m\u001b[0;34m''\u001b[0m\u001b[0;34m)\u001b[0m\u001b[0;34m\u001b[0m\u001b[0;34m\u001b[0m\u001b[0m\n\u001b[0;32m---> 75\u001b[0;31m         \u001b[0ma\u001b[0m\u001b[0;34m=\u001b[0m\u001b[0mself\u001b[0m\u001b[0;34m.\u001b[0m\u001b[0mtraining\u001b[0m\u001b[0;34m(\u001b[0m\u001b[0mx_batch\u001b[0m\u001b[0;34m,\u001b[0m \u001b[0my_batch\u001b[0m\u001b[0;34m)\u001b[0m\u001b[0;34m\u001b[0m\u001b[0;34m\u001b[0m\u001b[0m\n\u001b[0m\u001b[1;32m     76\u001b[0m         \u001b[0ma\u001b[0m\u001b[0;34m=\u001b[0m\u001b[0mnp\u001b[0m\u001b[0;34m.\u001b[0m\u001b[0mclip\u001b[0m\u001b[0;34m(\u001b[0m\u001b[0ma\u001b[0m\u001b[0;34m,\u001b[0m \u001b[0;36m1e-10\u001b[0m\u001b[0;34m,\u001b[0m \u001b[0;36m1\u001b[0m\u001b[0;34m-\u001b[0m\u001b[0;36m1e-10\u001b[0m\u001b[0;34m)\u001b[0m\u001b[0;34m\u001b[0m\u001b[0;34m\u001b[0m\u001b[0m\n\u001b[1;32m     77\u001b[0m         \u001b[0;31m# 로그 손실과 규제 손실을 더하여 리스트에 추가\u001b[0m\u001b[0;34m\u001b[0m\u001b[0;34m\u001b[0m\u001b[0;34m\u001b[0m\u001b[0m\n",
            "\u001b[0;32m<ipython-input-19-ca3aae68820d>\u001b[0m in \u001b[0;36mtraining\u001b[0;34m(self, x, y)\u001b[0m\n\u001b[1;32m     98\u001b[0m   \u001b[0;32mdef\u001b[0m \u001b[0mtraining\u001b[0m\u001b[0;34m(\u001b[0m\u001b[0mself\u001b[0m\u001b[0;34m,\u001b[0m \u001b[0mx\u001b[0m\u001b[0;34m,\u001b[0m \u001b[0my\u001b[0m\u001b[0;34m)\u001b[0m\u001b[0;34m:\u001b[0m\u001b[0;34m\u001b[0m\u001b[0;34m\u001b[0m\u001b[0m\n\u001b[1;32m     99\u001b[0m     \u001b[0mm\u001b[0m\u001b[0;34m=\u001b[0m\u001b[0mlen\u001b[0m\u001b[0;34m(\u001b[0m\u001b[0mx\u001b[0m\u001b[0;34m)\u001b[0m\u001b[0;34m\u001b[0m\u001b[0;34m\u001b[0m\u001b[0m\n\u001b[0;32m--> 100\u001b[0;31m     \u001b[0mz\u001b[0m\u001b[0;34m=\u001b[0m\u001b[0mself\u001b[0m\u001b[0;34m.\u001b[0m\u001b[0mforpass\u001b[0m\u001b[0;34m(\u001b[0m\u001b[0mx\u001b[0m\u001b[0;34m)\u001b[0m\u001b[0;34m\u001b[0m\u001b[0;34m\u001b[0m\u001b[0m\n\u001b[0m\u001b[1;32m    101\u001b[0m     \u001b[0ma\u001b[0m\u001b[0;34m=\u001b[0m\u001b[0mself\u001b[0m\u001b[0;34m.\u001b[0m\u001b[0msigmoid\u001b[0m\u001b[0;34m(\u001b[0m\u001b[0mz\u001b[0m\u001b[0;34m)\u001b[0m\u001b[0;34m\u001b[0m\u001b[0;34m\u001b[0m\u001b[0m\n\u001b[1;32m    102\u001b[0m     \u001b[0merr\u001b[0m\u001b[0;34m=\u001b[0m\u001b[0;34m-\u001b[0m\u001b[0;34m(\u001b[0m\u001b[0my\u001b[0m\u001b[0;34m-\u001b[0m\u001b[0ma\u001b[0m\u001b[0;34m)\u001b[0m\u001b[0;34m\u001b[0m\u001b[0;34m\u001b[0m\u001b[0m\n",
            "\u001b[0;32m<ipython-input-19-ca3aae68820d>\u001b[0m in \u001b[0;36mforpass\u001b[0;34m(self, x)\u001b[0m\n\u001b[1;32m     19\u001b[0m     \u001b[0;31m# 순환 층의 선형 식 계산\u001b[0m\u001b[0;34m\u001b[0m\u001b[0;34m\u001b[0m\u001b[0;34m\u001b[0m\u001b[0m\n\u001b[1;32m     20\u001b[0m     \u001b[0;32mfor\u001b[0m \u001b[0mx\u001b[0m \u001b[0;32min\u001b[0m \u001b[0mseq\u001b[0m\u001b[0;34m:\u001b[0m\u001b[0;34m\u001b[0m\u001b[0;34m\u001b[0m\u001b[0m\n\u001b[0;32m---> 21\u001b[0;31m       \u001b[0mz1\u001b[0m\u001b[0;34m=\u001b[0m\u001b[0mnp\u001b[0m\u001b[0;34m.\u001b[0m\u001b[0mdot\u001b[0m\u001b[0;34m(\u001b[0m\u001b[0mx\u001b[0m\u001b[0;34m,\u001b[0m \u001b[0mself\u001b[0m\u001b[0;34m.\u001b[0m\u001b[0mw1x\u001b[0m\u001b[0;34m)\u001b[0m\u001b[0;34m+\u001b[0m\u001b[0mnp\u001b[0m\u001b[0;34m.\u001b[0m\u001b[0mdot\u001b[0m\u001b[0;34m(\u001b[0m\u001b[0mself\u001b[0m\u001b[0;34m.\u001b[0m\u001b[0mh\u001b[0m\u001b[0;34m[\u001b[0m\u001b[0;34m-\u001b[0m\u001b[0;36m1\u001b[0m\u001b[0;34m]\u001b[0m\u001b[0;34m,\u001b[0m \u001b[0mself\u001b[0m\u001b[0;34m.\u001b[0m\u001b[0mw1h\u001b[0m\u001b[0;34m)\u001b[0m\u001b[0;34m+\u001b[0m\u001b[0mself\u001b[0m\u001b[0;34m.\u001b[0m\u001b[0mb1\u001b[0m\u001b[0;34m\u001b[0m\u001b[0;34m\u001b[0m\u001b[0m\n\u001b[0m\u001b[1;32m     22\u001b[0m       \u001b[0mh\u001b[0m\u001b[0;34m=\u001b[0m\u001b[0mnp\u001b[0m\u001b[0;34m.\u001b[0m\u001b[0mtanh\u001b[0m\u001b[0;34m(\u001b[0m\u001b[0mz1\u001b[0m\u001b[0;34m)\u001b[0m   \u001b[0;31m# 활성화 함수 적용\u001b[0m\u001b[0;34m\u001b[0m\u001b[0;34m\u001b[0m\u001b[0m\n\u001b[1;32m     23\u001b[0m       \u001b[0mself\u001b[0m\u001b[0;34m.\u001b[0m\u001b[0mh\u001b[0m\u001b[0;34m.\u001b[0m\u001b[0mappend\u001b[0m\u001b[0;34m(\u001b[0m\u001b[0mh\u001b[0m\u001b[0;34m)\u001b[0m  \u001b[0;31m# 역전파를 위해 은닉 상태 저장\u001b[0m\u001b[0;34m\u001b[0m\u001b[0;34m\u001b[0m\u001b[0m\n",
            "\u001b[0;32m<__array_function__ internals>\u001b[0m in \u001b[0;36mdot\u001b[0;34m(*args, **kwargs)\u001b[0m\n",
            "\u001b[0;31mKeyboardInterrupt\u001b[0m: "
          ]
        }
      ]
    },
    {
      "cell_type": "code",
      "metadata": {
        "id": "yFGr0QGoV5Cz"
      },
      "source": [
        "import matplotlib.pyplot as plt\r\n",
        "plt.plot(rn.losses)\r\n",
        "plt.plot(rn.val_losses)\r\n",
        "plt.show()"
      ],
      "execution_count": null,
      "outputs": []
    },
    {
      "cell_type": "code",
      "metadata": {
        "id": "FnEsxACwXlyn"
      },
      "source": [
        "rn.score(x_val_onehot, y_val)"
      ],
      "execution_count": null,
      "outputs": []
    },
    {
      "cell_type": "markdown",
      "metadata": {
        "id": "QHzrRbefZGZv"
      },
      "source": [
        "## 9.3 텐서플로로 순환 신경망"
      ]
    },
    {
      "cell_type": "code",
      "metadata": {
        "id": "NKDb2KR8XsbN"
      },
      "source": [
        "from tensorflow.keras.models import Sequential\r\n",
        "from tensorflow.keras.layers import Dense, SimpleRNN"
      ],
      "execution_count": null,
      "outputs": []
    },
    {
      "cell_type": "code",
      "metadata": {
        "id": "KVEXldpiZTF6"
      },
      "source": [
        "model=Sequential()\r\n",
        "# 입력의 크기는 100*100, 셀 개수 32, param=32*32+100*32+32=4256\r\n",
        "model.add(SimpleRNN(32, input_shape=(100, 100)))\r\n",
        "# 1개의 뉴런을 가지는 출력층, 활성화함수로 sigmoid사용\r\n",
        "model.add(Dense(1, activation='sigmoid'))\r\n",
        "model.summary()"
      ],
      "execution_count": null,
      "outputs": []
    },
    {
      "cell_type": "code",
      "metadata": {
        "id": "gREzK0eaZcn4"
      },
      "source": [
        "model.compile(optimizer='sgd', loss='binary_crossentropy', metrics=['accuracy'])\r\n",
        "history=model.fit(x_train_onehot, y_train, epochs=20, batch_size=32, validation_data=(x_val_onehot, y_val))"
      ],
      "execution_count": null,
      "outputs": []
    },
    {
      "cell_type": "code",
      "metadata": {
        "id": "wR75UTGFbsr0"
      },
      "source": [
        "plt.plot(history.history['loss'])\r\n",
        "plt.plot(history.history['val_loss'])\r\n",
        "plt.show()"
      ],
      "execution_count": null,
      "outputs": []
    },
    {
      "cell_type": "code",
      "metadata": {
        "id": "ydg8Pk0Tb-hu"
      },
      "source": [
        "plt.plot(history.history['accuracy'])\r\n",
        "plt.plot(history.history['val_accuracy'])\r\n",
        "plt.show()"
      ],
      "execution_count": null,
      "outputs": []
    },
    {
      "cell_type": "code",
      "metadata": {
        "id": "wO8p41jWcG4o"
      },
      "source": [
        "loss, accuracy=model.evaluate(x_val_onehot, y_val, verbose=0)\r\n",
        "print(accuracy)"
      ],
      "execution_count": null,
      "outputs": []
    },
    {
      "cell_type": "markdown",
      "metadata": {
        "id": "GKVq3F_AeWu6"
      },
      "source": [
        "### 워드 임베딩"
      ]
    },
    {
      "cell_type": "code",
      "metadata": {
        "colab": {
          "base_uri": "https://localhost:8080/"
        },
        "id": "-Vg3Sv-VcOJ3",
        "outputId": "07b58373-8a39-4cb8-efbe-fa0fb8c7895b"
      },
      "source": [
        "from tensorflow.keras.layers import Embedding\r\n",
        "(x_train_all, y_train_all), (x_test, y_test)=imdb.load_data(skip_top=20, num_words=1000)"
      ],
      "execution_count": null,
      "outputs": [
        {
          "output_type": "stream",
          "text": [
            "<string>:6: VisibleDeprecationWarning: Creating an ndarray from ragged nested sequences (which is a list-or-tuple of lists-or-tuples-or ndarrays with different lengths or shapes) is deprecated. If you meant to do this, you must specify 'dtype=object' when creating the ndarray\n",
            "/usr/local/lib/python3.6/dist-packages/tensorflow/python/keras/datasets/imdb.py:159: VisibleDeprecationWarning: Creating an ndarray from ragged nested sequences (which is a list-or-tuple of lists-or-tuples-or ndarrays with different lengths or shapes) is deprecated. If you meant to do this, you must specify 'dtype=object' when creating the ndarray\n",
            "  x_train, y_train = np.array(xs[:idx]), np.array(labels[:idx])\n",
            "/usr/local/lib/python3.6/dist-packages/tensorflow/python/keras/datasets/imdb.py:160: VisibleDeprecationWarning: Creating an ndarray from ragged nested sequences (which is a list-or-tuple of lists-or-tuples-or ndarrays with different lengths or shapes) is deprecated. If you meant to do this, you must specify 'dtype=object' when creating the ndarray\n",
            "  x_test, y_test = np.array(xs[idx:]), np.array(labels[idx:])\n"
          ],
          "name": "stderr"
        }
      ]
    },
    {
      "cell_type": "code",
      "metadata": {
        "id": "Bb_w2pHbcWtN"
      },
      "source": [
        "for i in range(len(x_train_all)):\r\n",
        "  x_train_all[i]=[w for w in x_train_all[i] if w>2]\r\n",
        "\r\n",
        "x_train=x_train_all[random_index[:20000]]\r\n",
        "y_train=y_train_all[random_index[:20000]]\r\n",
        "x_val=x_train_all[random_index[20000:]]\r\n",
        "y_val=y_train_all[random_index[20000:]]"
      ],
      "execution_count": null,
      "outputs": []
    },
    {
      "cell_type": "code",
      "metadata": {
        "id": "XVQlvZzUcziH"
      },
      "source": [
        "maxlen=100\r\n",
        "# 100보다 작은 길이의 데이터는 앞에서부터 0을 채우고, \r\n",
        "#   100보다 큰 길이의 데이터는 앞에서부터 데이터를 지움\r\n",
        "x_train_seq=sequence.pad_sequences(x_train, maxlen=maxlen)\r\n",
        "x_val_seq=sequence.pad_sequences(x_val, maxlen=maxlen)"
      ],
      "execution_count": null,
      "outputs": []
    },
    {
      "cell_type": "code",
      "metadata": {
        "id": "JYCX6WqagHr-"
      },
      "source": [
        "model_ebd=Sequential()\r\n",
        "# input으로 주어진 1000 개의 단어를 32개의 dense vector로 만듦, 32*1000\r\n",
        "model_ebd.add(Embedding(1000, 32))\r\n",
        "model_ebd.add(SimpleRNN(8)) # 8개의 셀을 갖는 순환층, (32+8+1)*8\r\n",
        "model_ebd.add(Dense(1, activation='sigmoid'))\r\n",
        "model_ebd.summary()"
      ],
      "execution_count": null,
      "outputs": []
    },
    {
      "cell_type": "code",
      "metadata": {
        "id": "8N8L006Ogan8"
      },
      "source": [
        "model_ebd.compile(optimizer='adam', loss='binary_crossentropy', metrics=['accuracy'])\r\n",
        "history=model_ebd.fit(x_train_seq, y_train, epochs=10, batch_size=32, validation_data=(x_val_seq, y_val))"
      ],
      "execution_count": null,
      "outputs": []
    },
    {
      "cell_type": "code",
      "metadata": {
        "id": "sfyJHa_xjOA6"
      },
      "source": [
        "plt.plot(history.history['loss'])\r\n",
        "plt.plot(history.history['val_loss'])\r\n",
        "plt.show()"
      ],
      "execution_count": null,
      "outputs": []
    },
    {
      "cell_type": "code",
      "metadata": {
        "id": "GHep-1pRjcRa"
      },
      "source": [
        "plt.plot(history.history['accuracy'])\r\n",
        "plt.plot(history.history['val_accuracy'])\r\n",
        "plt.show()"
      ],
      "execution_count": null,
      "outputs": []
    },
    {
      "cell_type": "code",
      "metadata": {
        "id": "HtA0jRPljig2"
      },
      "source": [
        "loss, accuracy=model_ebd.evaluate(x_val_seq, y_val, verbose=0)\r\n",
        "print(accuracy)   # 훨씬 나은 결과"
      ],
      "execution_count": null,
      "outputs": []
    },
    {
      "cell_type": "markdown",
      "metadata": {
        "id": "91fbVadMj12V"
      },
      "source": [
        "## 9.4 LSTM 순환 신경망으로 텍스트 분류"
      ]
    },
    {
      "cell_type": "code",
      "metadata": {
        "id": "er9tGpqljy2M"
      },
      "source": [
        "from tensorflow.keras.layers import LSTM"
      ],
      "execution_count": null,
      "outputs": []
    },
    {
      "cell_type": "code",
      "metadata": {
        "colab": {
          "base_uri": "https://localhost:8080/"
        },
        "id": "aqYgZEekyvZK",
        "outputId": "e05312b2-0392-4a79-9064-34bbd8973f99"
      },
      "source": [
        "model_lstm=Sequential()\r\n",
        "model_lstm.add(Embedding(1000, 32))\r\n",
        "# LSTM은 가중치가 많으므로 unit의 수를 작게(8개) 함, 그로 인해 과대적합이 발생함\r\n",
        "model_lstm.add(LSTM(8)) # (32+8+1)*4*8=1312\r\n",
        "model_lstm.add(Dense(1, activation='sigmoid'))\r\n",
        "model_lstm.summary()"
      ],
      "execution_count": null,
      "outputs": [
        {
          "output_type": "stream",
          "text": [
            "Model: \"sequential\"\n",
            "_________________________________________________________________\n",
            "Layer (type)                 Output Shape              Param #   \n",
            "=================================================================\n",
            "embedding (Embedding)        (None, None, 32)          32000     \n",
            "_________________________________________________________________\n",
            "lstm (LSTM)                  (None, 8)                 1312      \n",
            "_________________________________________________________________\n",
            "dense (Dense)                (None, 1)                 9         \n",
            "=================================================================\n",
            "Total params: 33,321\n",
            "Trainable params: 33,321\n",
            "Non-trainable params: 0\n",
            "_________________________________________________________________\n"
          ],
          "name": "stdout"
        }
      ]
    },
    {
      "cell_type": "code",
      "metadata": {
        "colab": {
          "base_uri": "https://localhost:8080/"
        },
        "id": "3E4eYDQhzItZ",
        "outputId": "12abf070-4e93-4a4e-b743-b8baa58f7d1d"
      },
      "source": [
        "model_lstm.compile(optimizer='adam', loss='binary_crossentropy', metrics=['accuracy'])\r\n",
        "history=model_lstm.fit(x_train_seq, y_train, epochs=10, batch_size=32, \r\n",
        "                       validation_data=(x_val_seq, y_val))"
      ],
      "execution_count": null,
      "outputs": [
        {
          "output_type": "stream",
          "text": [
            "Epoch 1/10\n",
            "625/625 [==============================] - 17s 25ms/step - loss: 0.5511 - accuracy: 0.7235 - val_loss: 0.4337 - val_accuracy: 0.8122\n",
            "Epoch 2/10\n",
            "625/625 [==============================] - 15s 25ms/step - loss: 0.3322 - accuracy: 0.8629 - val_loss: 0.3647 - val_accuracy: 0.8400\n",
            "Epoch 3/10\n",
            "625/625 [==============================] - 15s 25ms/step - loss: 0.3070 - accuracy: 0.8730 - val_loss: 0.3666 - val_accuracy: 0.8428\n",
            "Epoch 4/10\n",
            "625/625 [==============================] - 15s 25ms/step - loss: 0.2840 - accuracy: 0.8812 - val_loss: 0.3890 - val_accuracy: 0.8360\n",
            "Epoch 5/10\n",
            "625/625 [==============================] - 16s 25ms/step - loss: 0.2701 - accuracy: 0.8897 - val_loss: 0.3796 - val_accuracy: 0.8374\n",
            "Epoch 6/10\n",
            "625/625 [==============================] - 16s 25ms/step - loss: 0.2493 - accuracy: 0.8977 - val_loss: 0.3802 - val_accuracy: 0.8324\n",
            "Epoch 7/10\n",
            "625/625 [==============================] - 16s 25ms/step - loss: 0.2446 - accuracy: 0.9022 - val_loss: 0.3902 - val_accuracy: 0.8298\n",
            "Epoch 8/10\n",
            "625/625 [==============================] - 15s 25ms/step - loss: 0.2372 - accuracy: 0.9033 - val_loss: 0.4152 - val_accuracy: 0.8304\n",
            "Epoch 9/10\n",
            "625/625 [==============================] - 16s 25ms/step - loss: 0.2228 - accuracy: 0.9121 - val_loss: 0.4269 - val_accuracy: 0.8310\n",
            "Epoch 10/10\n",
            "625/625 [==============================] - 15s 25ms/step - loss: 0.2143 - accuracy: 0.9119 - val_loss: 0.4392 - val_accuracy: 0.8296\n"
          ],
          "name": "stdout"
        }
      ]
    },
    {
      "cell_type": "code",
      "metadata": {
        "colab": {
          "base_uri": "https://localhost:8080/",
          "height": 265
        },
        "id": "oQ-DxmJgPsKY",
        "outputId": "d3cd9fce-4322-41dd-9d84-d6d5bb52c5f8"
      },
      "source": [
        "import matplotlib.pyplot as plt\r\n",
        "plt.plot(history.history['loss'])\r\n",
        "plt.plot(history.history['val_loss'])\r\n",
        "plt.show()"
      ],
      "execution_count": null,
      "outputs": [
        {
          "output_type": "display_data",
          "data": {
            "image/png": "[encoded data removed]",
            "text/plain": [
              "<Figure size 432x288 with 1 Axes>"
            ]
          },
          "metadata": {
            "tags": [],
            "needs_background": "light"
          }
        }
      ]
    },
    {
      "cell_type": "code",
      "metadata": {
        "colab": {
          "base_uri": "https://localhost:8080/",
          "height": 265
        },
        "id": "uXzXGbeKP4jG",
        "outputId": "3394ed8e-39b7-43b8-c3b5-41f5c6a129da"
      },
      "source": [
        "plt.plot(history.history['accuracy'])\r\n",
        "plt.plot(history.history['val_accuracy'])\r\n",
        "plt.show()"
      ],
      "execution_count": null,
      "outputs": [
        {
          "output_type": "display_data",
          "data": {
            "image/png": "[encoded data removed]",
            "text/plain": [
              "<Figure size 432x288 with 1 Axes>"
            ]
          },
          "metadata": {
            "tags": [],
            "needs_background": "light"
          }
        }
      ]
    },
    {
      "cell_type": "code",
      "metadata": {
        "colab": {
          "base_uri": "https://localhost:8080/"
        },
        "id": "FmjJHHK8P-TO",
        "outputId": "34d33369-a983-4827-99e2-07df93401574"
      },
      "source": [
        "loss, accuracy=model_lstm.evaluate(x_val_seq, y_val, verbose=0)\r\n",
        "print(accuracy)"
      ],
      "execution_count": null,
      "outputs": [
        {
          "output_type": "stream",
          "text": [
            "0.8295999765396118\n"
          ],
          "name": "stdout"
        }
      ]
    },
    {
      "cell_type": "code",
      "metadata": {
        "id": "fpYkTKVhQg-P"
      },
      "source": [
        ""
      ],
      "execution_count": null,
      "outputs": []
    }
  ]
}